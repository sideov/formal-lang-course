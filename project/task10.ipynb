{
 "cells": [
  {
   "cell_type": "markdown",
   "source": [],
   "metadata": {
    "collapsed": false
   },
   "id": "27a5c8a7f864db5e"
  },
  {
   "cell_type": "code",
   "execution_count": 1,
   "outputs": [
    {
     "ename": "TypeError",
     "evalue": "unsupported operand type(s) for |: 'type' and 'type'",
     "output_type": "error",
     "traceback": [
      "\u001B[0;31m---------------------------------------------------------------------------\u001B[0m",
      "\u001B[0;31mTypeError\u001B[0m                                 Traceback (most recent call last)",
      "\u001B[0;32m/var/folders/85/cmh938_d61v2xzmbq56cyzdm0000gn/T/ipykernel_8102/440222425.py\u001B[0m in \u001B[0;36m<module>\u001B[0;34m\u001B[0m\n\u001B[1;32m      5\u001B[0m \u001B[0;32mfrom\u001B[0m \u001B[0mcopy\u001B[0m \u001B[0;32mimport\u001B[0m \u001B[0mdeepcopy\u001B[0m\u001B[0;34m\u001B[0m\u001B[0;34m\u001B[0m\u001B[0m\n\u001B[1;32m      6\u001B[0m \u001B[0;32mimport\u001B[0m \u001B[0mpytest\u001B[0m\u001B[0;34m\u001B[0m\u001B[0;34m\u001B[0m\u001B[0m\n\u001B[0;32m----> 7\u001B[0;31m \u001B[0;32mfrom\u001B[0m \u001B[0mgrammars_constants\u001B[0m \u001B[0;32mimport\u001B[0m \u001B[0mREGEXP_CFG\u001B[0m\u001B[0;34m,\u001B[0m \u001B[0mGRAMMARS\u001B[0m\u001B[0;34m,\u001B[0m \u001B[0mGRAMMARS_DIFFERENT\u001B[0m\u001B[0;34m,\u001B[0m \u001B[0mCFG_EBNF\u001B[0m\u001B[0;34m\u001B[0m\u001B[0;34m\u001B[0m\u001B[0m\n\u001B[0m\u001B[1;32m      8\u001B[0m \u001B[0;32mfrom\u001B[0m \u001B[0mhelper\u001B[0m \u001B[0;32mimport\u001B[0m \u001B[0mgenerate_rnd_start_and_final\u001B[0m\u001B[0;34m\u001B[0m\u001B[0;34m\u001B[0m\u001B[0m\n\u001B[1;32m      9\u001B[0m from rpq_template_test import (\n",
      "\u001B[0;32m~/PycharmProjects/formal-lang-course/project/grammars_constants.py\u001B[0m in \u001B[0;36m<module>\u001B[0;34m\u001B[0m\n\u001B[1;32m    315\u001B[0m         ],\n\u001B[1;32m    316\u001B[0m         EBNF: [\n\u001B[0;32m--> 317\u001B[0;31m             \u001B[0;34m\"S -> ( ( a S b ) | ( b S a ) | ( c S d ) | ( d S c ) | ( e S f ) | (f S e) )*\"\u001B[0m\u001B[0;34m\u001B[0m\u001B[0;34m\u001B[0m\u001B[0m\n\u001B[0m\u001B[1;32m    318\u001B[0m         ],\n\u001B[1;32m    319\u001B[0m     },\n",
      "\u001B[0;31mTypeError\u001B[0m: unsupported operand type(s) for |: 'type' and 'type'"
     ]
    }
   ],
   "source": [
    "from task9 import *\n",
    "from task8 import *\n",
    "from task7 import *\n",
    "from task6 import *\n",
    "from copy import deepcopy\n",
    "import pytest\n",
    "from grammars_constants import REGEXP_CFG, GRAMMARS, GRAMMARS_DIFFERENT, CFG_EBNF\n",
    "from helper import generate_rnd_start_and_final\n",
    "from rpq_template_test import (\n",
    "    rpq_cfpq_test,\n",
    "    different_grammars_test,\n",
    "    cfpq_algorithm_test,\n",
    ")\n",
    "from fixtures import graph\n",
    "import grammars_constants\n",
    "from helper import generate_rnd_graph, generate_rnd_dense_graph\n",
    "import random\n",
    "from constants import LABELS\n"
   ],
   "metadata": {
    "collapsed": false,
    "ExecuteTime": {
     "end_time": "2024-05-22T19:12:45.332363Z",
     "start_time": "2024-05-22T19:12:44.577005Z"
    }
   },
   "id": "6b7940b8e882aa5"
  },
  {
   "cell_type": "code",
   "execution_count": null,
   "id": "a8fe8ddafa54d0b5",
   "metadata": {
    "collapsed": false
   },
   "outputs": [],
   "source": [
    "def test_hellings_matrix_tensor(graph, grammar):\n",
    "    start_nodes, final_nodes = generate_rnd_start_and_final(graph)\n",
    "    hellings = cfpq_with_hellings(\n",
    "        deepcopy(grammar), deepcopy(graph), start_nodes, final_nodes\n",
    "    )\n",
    "    matrix = cfpq_with_matrix(\n",
    "        deepcopy(grammar), deepcopy(graph), start_nodes, final_nodes\n",
    "    )\n",
    "    tensor = cfpq_with_tensor(\n",
    "        cfg_to_rsm(deepcopy(grammar)), deepcopy(graph), start_nodes, final_nodes\n",
    "    )\n",
    "    gll = cfpq_with_gll(\n",
    "        cfg_to_rsm(deepcopy(grammar)), deepcopy(graph), start_nodes, final_nodes\n",
    "    )\n",
    "    return hellings == matrix"
   ]
  },
  {
   "cell_type": "code",
   "execution_count": null,
   "id": "66ad22189826992e",
   "metadata": {
    "collapsed": false,
    "ExecuteTime": {
     "start_time": "2024-05-22T18:43:09.297972Z"
    }
   },
   "outputs": [],
   "source": [
    "grammars: list[cfg.CFG] = grammars_constants.GRAMMARS_DIFFERENT\n",
    "test_hellings_matrix_tensor(graph, grammars[0])\n",
    "funcs = [generate_rnd_dense_graph, generate_rnd_graph]\n",
    "fun = random.choice(funcs)\n",
    "graph = fun(1, 40, LABELS)\n",
    "test_hellings_matrix_tensor(graph, grammars[0])\n",
    "\n"
   ]
  },
  {
   "cell_type": "code",
   "execution_count": null,
   "id": "73212daf0c4292a1",
   "metadata": {
    "collapsed": false,
    "ExecuteTime": {
     "start_time": "2024-05-22T18:43:09.303525Z"
    }
   },
   "outputs": [],
   "source": []
  }
 ],
 "metadata": {
  "kernelspec": {
   "display_name": "Python 3 (ipykernel)",
   "language": "python",
   "name": "python3"
  },
  "language_info": {
   "codemirror_mode": {
    "name": "ipython",
    "version": 3
   },
   "file_extension": ".py",
   "mimetype": "text/x-python",
   "name": "python",
   "nbconvert_exporter": "python",
   "pygments_lexer": "ipython3",
   "version": "3.9.19"
  }
 },
 "nbformat": 4,
 "nbformat_minor": 5
}
