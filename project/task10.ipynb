{
 "cells": [
  {
   "cell_type": "markdown",
   "source": [],
   "metadata": {
    "collapsed": false
   },
   "id": "27a5c8a7f864db5e"
  },
  {
   "cell_type": "code",
   "execution_count": 19,
   "outputs": [],
   "source": [
    "from task9 import *\n",
    "from task8 import *\n",
    "from task7 import *\n",
    "from task6 import *\n",
    "from copy import deepcopy\n",
    "import pytest\n",
    "from grammars_constants import REGEXP_CFG, GRAMMARS, GRAMMARS_DIFFERENT, CFG_EBNF\n",
    "from helper import generate_rnd_start_and_final\n",
    "from rpq_template_test import (\n",
    "    rpq_cfpq_test,\n",
    "    different_grammars_test,\n",
    "    cfpq_algorithm_test,\n",
    ")\n",
    "from fixtures import graph\n",
    "import grammars_constants\n",
    "from helper import generate_rnd_graph, generate_rnd_dense_graph\n",
    "import random\n",
    "from constants import LABELS\n",
    "import datetime\n"
   ],
   "metadata": {
    "collapsed": false,
    "ExecuteTime": {
     "end_time": "2024-05-22T19:32:31.534038Z",
     "start_time": "2024-05-22T19:32:31.527881Z"
    }
   },
   "id": "6b7940b8e882aa5"
  },
  {
   "cell_type": "code",
   "execution_count": 42,
   "id": "a8fe8ddafa54d0b5",
   "metadata": {
    "collapsed": false,
    "ExecuteTime": {
     "end_time": "2024-05-22T19:52:57.936257Z",
     "start_time": "2024-05-22T19:51:45.398959Z"
    }
   },
   "outputs": [
    {
     "name": "stderr",
     "output_type": "stream",
     "text": [
      "[2024-05-22 22:51:45]>INFO>[GNP] Create a Erdős-Rényi graph=<networkx.classes.multidigraph.MultiDiGraph object at 0x153ca2a50> with n=77, p=0.4, labels=['a', 'b', 'c', 'd', 'e', 'f', 'g', 'h'], choice=<bound method Random.choice of <random.Random object at 0x7f8617817220>>, seed=None\n"
     ]
    },
    {
     "name": "stdout",
     "output_type": "stream",
     "text": [
      "time hellings 0:00:00.249626\n",
      "time matrix 0:01:10.481834\n",
      "time tensor 0:00:01.570905\n",
      "time gll 0:00:00.223763\n"
     ]
    }
   ],
   "source": [
    "time_matrix = datetime.timedelta(0)\n",
    "time_hellings = datetime.timedelta(0)\n",
    "time_tensor = datetime.timedelta(0)\n",
    "time_gll = datetime.timedelta(0)\n",
    "grammars: list[cfg.CFG] = grammars_constants.GRAMMARS_DIFFERENT\n",
    "\n",
    "def test_hellings_matrix_tensor_gll(graph, grammar):\n",
    "    global time_gll, time_matrix, time_tensor, time_hellings\n",
    "    start_nodes, final_nodes = generate_rnd_start_and_final(graph)\n",
    "    now1 = datetime.datetime.now()\n",
    "    hellings = cfpq_with_hellings(\n",
    "        deepcopy(grammar), deepcopy(graph), start_nodes, final_nodes\n",
    "    )\n",
    "    now2 = datetime.datetime.now()\n",
    "    matrix = cfpq_with_matrix(\n",
    "        deepcopy(grammar), deepcopy(graph), start_nodes, final_nodes\n",
    "    )\n",
    "    now3 = datetime.datetime.now()\n",
    "    tensor = cfpq_with_tensor(\n",
    "        cfg_to_rsm(deepcopy(grammar)), deepcopy(graph), start_nodes, final_nodes\n",
    "    )\n",
    "    now4 = datetime.datetime.now()\n",
    "    gll = cfpq_with_gll(\n",
    "        cfg_to_rsm(deepcopy(grammar)), deepcopy(graph), start_nodes, final_nodes\n",
    "    )\n",
    "    now5 = datetime.datetime.now()\n",
    "    \n",
    "    time_hellings += now2 - now1\n",
    "    time_matrix += now3 - now2\n",
    "    time_tensor += now4 - now3\n",
    "    time_gll += now5 - now4\n",
    "    \n",
    "    \n",
    "for i in range(1):\n",
    "    graph = generate_rnd_dense_graph(1, 100, LABELS)\n",
    "    for grammar in grammars:\n",
    "        test_hellings_matrix_tensor_gll(graph, grammar)\n",
    "    \n",
    "    \n",
    "print(f\"time hellings {time_hellings}\")\n",
    "\n",
    "print(f\"time matrix {time_matrix}\")\n",
    "\n",
    "print(f\"time tensor {time_tensor}\")\n",
    "\n",
    "print(f\"time gll {time_gll}\")\n",
    "     "
   ]
  },
  {
   "cell_type": "markdown",
   "source": [
    "Из проведенного анализа видно, что хуже всего с задачей КС достижимости справляется матричный алгоритм - он работает на порядок медленнее всех остальных. Для более детаельного анализа остальных алгоритмов, проведем их сравнительный анализ без матричного алгоритма:"
   ],
   "metadata": {
    "collapsed": false
   },
   "id": "76b746d694adff21"
  },
  {
   "cell_type": "code",
   "execution_count": 45,
   "id": "66ad22189826992e",
   "metadata": {
    "collapsed": false,
    "ExecuteTime": {
     "end_time": "2024-05-22T19:54:38.596256Z",
     "start_time": "2024-05-22T19:54:25.174878Z"
    }
   },
   "outputs": [
    {
     "name": "stderr",
     "output_type": "stream",
     "text": [
      "[2024-05-22 22:54:25]>INFO>[GNP] Create a Erdős-Rényi graph=<networkx.classes.multidigraph.MultiDiGraph object at 0x153ca2e90> with n=18, p=0.4, labels=['a', 'b', 'c', 'd', 'e', 'f', 'g', 'h'], choice=<bound method Random.choice of <random.Random object at 0x7f8617817220>>, seed=None\n",
      "[2024-05-22 22:54:25]>INFO>[GNP] Create a Erdős-Rényi graph=<networkx.classes.multidigraph.MultiDiGraph object at 0x1536f5f90> with n=100, p=0.4, labels=['a', 'b', 'c', 'd', 'e', 'f', 'g', 'h'], choice=<bound method Random.choice of <random.Random object at 0x7f8617817220>>, seed=None\n",
      "[2024-05-22 22:54:28]>INFO>[GNP] Create a Erdős-Rényi graph=<networkx.classes.multidigraph.MultiDiGraph object at 0x153180c50> with n=92, p=0.4, labels=['a', 'b', 'c', 'd', 'e', 'f', 'g', 'h'], choice=<bound method Random.choice of <random.Random object at 0x7f8617817220>>, seed=None\n",
      "[2024-05-22 22:54:31]>INFO>[GNP] Create a Erdős-Rényi graph=<networkx.classes.multidigraph.MultiDiGraph object at 0x152c651d0> with n=54, p=0.4, labels=['a', 'b', 'c', 'd', 'e', 'f', 'g', 'h'], choice=<bound method Random.choice of <random.Random object at 0x7f8617817220>>, seed=None\n",
      "[2024-05-22 22:54:32]>INFO>[GNP] Create a Erdős-Rényi graph=<networkx.classes.multidigraph.MultiDiGraph object at 0x153221650> with n=100, p=0.4, labels=['a', 'b', 'c', 'd', 'e', 'f', 'g', 'h'], choice=<bound method Random.choice of <random.Random object at 0x7f8617817220>>, seed=None\n",
      "[2024-05-22 22:54:36]>INFO>[GNP] Create a Erdős-Rényi graph=<networkx.classes.multidigraph.MultiDiGraph object at 0x153fe8c50> with n=36, p=0.4, labels=['a', 'b', 'c', 'd', 'e', 'f', 'g', 'h'], choice=<bound method Random.choice of <random.Random object at 0x7f8617817220>>, seed=None\n",
      "[2024-05-22 22:54:36]>INFO>[GNP] Create a Erdős-Rényi graph=<networkx.classes.multidigraph.MultiDiGraph object at 0x1529655d0> with n=5, p=0.4, labels=['a', 'b', 'c', 'd', 'e', 'f', 'g', 'h'], choice=<bound method Random.choice of <random.Random object at 0x7f8617817220>>, seed=None\n",
      "[2024-05-22 22:54:36]>INFO>[GNP] Create a Erdős-Rényi graph=<networkx.classes.multidigraph.MultiDiGraph object at 0x1532db550> with n=50, p=0.4, labels=['a', 'b', 'c', 'd', 'e', 'f', 'g', 'h'], choice=<bound method Random.choice of <random.Random object at 0x7f8617817220>>, seed=None\n",
      "[2024-05-22 22:54:37]>INFO>[GNP] Create a Erdős-Rényi graph=<networkx.classes.multidigraph.MultiDiGraph object at 0x153328c50> with n=22, p=0.4, labels=['a', 'b', 'c', 'd', 'e', 'f', 'g', 'h'], choice=<bound method Random.choice of <random.Random object at 0x7f8617817220>>, seed=None\n",
      "[2024-05-22 22:54:37]>INFO>[GNP] Create a Erdős-Rényi graph=<networkx.classes.multidigraph.MultiDiGraph object at 0x15401ee90> with n=39, p=0.4, labels=['a', 'b', 'c', 'd', 'e', 'f', 'g', 'h'], choice=<bound method Random.choice of <random.Random object at 0x7f8617817220>>, seed=None\n"
     ]
    },
    {
     "name": "stdout",
     "output_type": "stream",
     "text": [
      "time hellings 0:00:02.073423\n",
      "time tensor 0:00:09.431145\n",
      "time gll 0:00:01.802460\n"
     ]
    }
   ],
   "source": [
    "time_hellings = datetime.timedelta(0)\n",
    "time_tensor = datetime.timedelta(0)\n",
    "time_gll = datetime.timedelta(0)\n",
    "grammars: list[cfg.CFG] = grammars_constants.GRAMMARS_DIFFERENT\n",
    "\n",
    "def test_hellings_tensor_gll(graph, grammar):\n",
    "    global time_gll, time_matrix, time_tensor, time_hellings\n",
    "    start_nodes, final_nodes = generate_rnd_start_and_final(graph)\n",
    "    now1 = datetime.datetime.now()\n",
    "    hellings = cfpq_with_hellings(\n",
    "        deepcopy(grammar), deepcopy(graph), start_nodes, final_nodes\n",
    "    )\n",
    "    now2 = datetime.datetime.now()\n",
    "    tensor = cfpq_with_tensor(\n",
    "        cfg_to_rsm(deepcopy(grammar)), deepcopy(graph), start_nodes, final_nodes\n",
    "    )\n",
    "    now3 = datetime.datetime.now()\n",
    "    gll = cfpq_with_gll(\n",
    "        cfg_to_rsm(deepcopy(grammar)), deepcopy(graph), start_nodes, final_nodes\n",
    "    )\n",
    "    now4 = datetime.datetime.now()\n",
    "    \n",
    "    time_hellings += now2 - now1\n",
    "    time_tensor += now3 - now2\n",
    "    time_gll += now4 - now3\n",
    "    \n",
    "    \n",
    "for i in range(10):\n",
    "    graph = generate_rnd_dense_graph(1, 100, LABELS)\n",
    "    for grammar in grammars:\n",
    "        test_hellings_tensor_gll(graph, grammar)\n",
    "    \n",
    "    \n",
    "print(f\"time hellings {time_hellings}\")\n",
    "\n",
    "print(f\"time tensor {time_tensor}\")\n",
    "\n",
    "print(f\"time gll {time_gll}\")"
   ]
  },
  {
   "cell_type": "markdown",
   "source": [
    "Видим, что алгоритмы Хеллингса и GLL работают примерно с одинаквой скоростью, а тензорный алгоритм от них отстает примерно в 5 раз."
   ],
   "metadata": {
    "collapsed": false
   },
   "id": "88354f2dcb39cb73"
  },
  {
   "cell_type": "code",
   "execution_count": 57,
   "outputs": [
    {
     "name": "stderr",
     "output_type": "stream",
     "text": [
      "[2024-05-22 23:10:07]>INFO>[GNP] Create a Erdős-Rényi graph=<networkx.classes.multidigraph.MultiDiGraph object at 0x19697ea90> with n=632, p=0.4, labels=['a', 'b', 'c', 'd', 'e', 'f', 'g', 'h'], choice=<bound method Random.choice of <random.Random object at 0x7f8617817220>>, seed=None\n"
     ]
    },
    {
     "name": "stdout",
     "output_type": "stream",
     "text": [
      "time for small graph with tensor: 0:00:04.471892\n",
      "time for big graph with tensor: 0:00:04.403810\n",
      "time for small graph with GLL: 0:00:01.125681\n",
      "time for big graph with GLL: 0:00:01.322145\n"
     ]
    }
   ],
   "source": [
    "smallGrammar = cfg.CFG.from_text(\"S -> a\")\n",
    "\n",
    "bigGrammar = cfg.CFG.from_text(\n",
    "                \"\"\"\n",
    "                S -> S1 | S2\n",
    "                S1 -> Sab | S1 c\n",
    "                Sab -> $ | a Sab b\n",
    "                S2 -> Sbc | a S2\n",
    "                Sbc -> $ | b Sbc c\n",
    "                \"\"\"\n",
    "            )\n",
    "start_nodes, final_nodes = generate_rnd_start_and_final(graph)\n",
    "\n",
    "graph = generate_rnd_dense_graph(1, 10000, LABELS)\n",
    "\n",
    "now1 = datetime.datetime.now()\n",
    "cfpq_with_tensor(\n",
    "    cfg_to_rsm(deepcopy(smallGrammar)), deepcopy(graph), start_nodes, final_nodes\n",
    ")\n",
    "now2 = datetime.datetime.now()\n",
    "cfpq_with_gll(\n",
    "    cfg_to_rsm(deepcopy(smallGrammar)), deepcopy(graph), start_nodes, final_nodes\n",
    ")\n",
    "now3 = datetime.datetime.now()\n",
    "\n",
    "timeSmallTensor = now2 - now1\n",
    "timeSmallGLL = now3 - now2\n",
    "\n",
    " \n",
    "now1 = datetime.datetime.now()\n",
    "cfpq_with_tensor(\n",
    "    cfg_to_rsm(deepcopy(bigGrammar)), deepcopy(graph), start_nodes, final_nodes\n",
    ")\n",
    "now2 = datetime.datetime.now()\n",
    "cfpq_with_gll(\n",
    "    cfg_to_rsm(deepcopy(bigGrammar)), deepcopy(graph), start_nodes, final_nodes\n",
    ")\n",
    "now3 = datetime.datetime.now()\n",
    "\n",
    "timeBigTensor = now2 - now1\n",
    "timeBigGLL = now3 - now2\n",
    "\n",
    "print(f\"time for small graph with tensor: {timeSmallTensor}\")\n",
    "print(f\"time for big graph with tensor: {timeBigTensor}\")\n",
    "print(f\"time for small graph with GLL: {timeSmallGLL}\")\n",
    "print(f\"time for big graph with GLL: {timeBigGLL}\")\n",
    "\n",
    "\n",
    "\n",
    "\n",
    "\n"
   ],
   "metadata": {
    "collapsed": false,
    "ExecuteTime": {
     "end_time": "2024-05-22T20:10:19.142161Z",
     "start_time": "2024-05-22T20:10:03.490739Z"
    }
   },
   "id": "14916d53041e0340"
  },
  {
   "cell_type": "markdown",
   "source": [
    "Видим, что время работы тензорного алгоритма с большой грамматикой оказалось меньше, чем время работы этого же алгоритм, но с маленькой грамматикой из чего можем заулючить, что размерр грамматики несущуственно влияет на время работы данного алгоритма\n",
    "\n",
    "Время работы алгоритма на осонове GLL с большой грамматикой оказалось 15 процентов больше, чем время работы этоого алгоритма с маленькоой грамматикой.\n",
    "\n",
    "Из вышесказанного можкм заключить, что размер грамматики в бОльшей степени влияет на время работы алгоритма КС-достижимости на основе GLL, нежели чем тензорного алгоритма"
   ],
   "metadata": {
    "collapsed": false
   },
   "id": "904399d9ecb65174"
  },
  {
   "cell_type": "code",
   "execution_count": null,
   "id": "73212daf0c4292a1",
   "metadata": {
    "collapsed": false,
    "ExecuteTime": {
     "start_time": "2024-05-22T18:43:09.303525Z"
    }
   },
   "outputs": [],
   "source": []
  }
 ],
 "metadata": {
  "kernelspec": {
   "display_name": "Python 3 (ipykernel)",
   "language": "python",
   "name": "python3"
  },
  "language_info": {
   "codemirror_mode": {
    "name": "ipython",
    "version": 3
   },
   "file_extension": ".py",
   "mimetype": "text/x-python",
   "name": "python",
   "nbconvert_exporter": "python",
   "pygments_lexer": "ipython3",
   "version": "3.9.19"
  }
 },
 "nbformat": 4,
 "nbformat_minor": 5
}
