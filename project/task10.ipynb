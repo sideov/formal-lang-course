{
 "cells": [
  {
   "cell_type": "markdown",
   "source": [],
   "metadata": {
    "collapsed": false
   },
   "id": "27a5c8a7f864db5e"
  },
  {
   "cell_type": "code",
   "execution_count": 67,
   "outputs": [],
   "source": [
    "from task9 import *\n",
    "from task8 import *\n",
    "from task7 import *\n",
    "from task6 import *\n",
    "from task4 import *\n",
    "from task3 import *\n",
    "from copy import deepcopy\n",
    "from task4 import *\n",
    "import pytest\n",
    "from grammars_constants import REGEXP_CFG, GRAMMARS, GRAMMARS_DIFFERENT, CFG_EBNF\n",
    "from helper import generate_rnd_start_and_final\n",
    "from rpq_template_test import (\n",
    "    rpq_cfpq_test,\n",
    "    different_grammars_test,\n",
    "    cfpq_algorithm_test,\n",
    ")\n",
    "from fixtures import graph\n",
    "import grammars_constants\n",
    "from helper import generate_rnd_graph, generate_rnd_dense_graph\n",
    "import random\n",
    "from constants import LABELS\n",
    "import datetime\n"
   ],
   "metadata": {
    "collapsed": false,
    "ExecuteTime": {
     "end_time": "2024-05-22T20:58:51.690523Z",
     "start_time": "2024-05-22T20:58:51.685062Z"
    }
   },
   "id": "6b7940b8e882aa5"
  },
  {
   "cell_type": "markdown",
   "source": [
    "Проведем сравнение скорости работы алгоритмов КС-достижимости:"
   ],
   "metadata": {
    "collapsed": false
   },
   "id": "b4dca2e04b55333d"
  },
  {
   "cell_type": "code",
   "execution_count": 68,
   "id": "a8fe8ddafa54d0b5",
   "metadata": {
    "collapsed": false,
    "ExecuteTime": {
     "end_time": "2024-05-22T21:00:01.447759Z",
     "start_time": "2024-05-22T20:58:53.109002Z"
    }
   },
   "outputs": [
    {
     "name": "stderr",
     "output_type": "stream",
     "text": [
      "[2024-05-22 23:58:53]>INFO>[GNP] Create a Erdős-Rényi graph=<networkx.classes.multidigraph.MultiDiGraph object at 0x15ac60c50> with n=75, p=0.4, labels=['a', 'b', 'c', 'd', 'e', 'f', 'g', 'h'], choice=<bound method Random.choice of <random.Random object at 0x7f8617817220>>, seed=None\n"
     ]
    },
    {
     "name": "stdout",
     "output_type": "stream",
     "text": [
      "time hellings 0:00:00.217101\n",
      "time matrix 0:01:06.671768\n",
      "time tensor 0:00:01.241067\n",
      "time gll 0:00:00.198958\n"
     ]
    }
   ],
   "source": [
    "time_matrix = datetime.timedelta(0)\n",
    "time_hellings = datetime.timedelta(0)\n",
    "time_tensor = datetime.timedelta(0)\n",
    "time_gll = datetime.timedelta(0)\n",
    "grammars: list[cfg.CFG] = grammars_constants.GRAMMARS_DIFFERENT\n",
    "\n",
    "def test_hellings_matrix_tensor_gll(graph, grammar):\n",
    "    global time_gll, time_matrix, time_tensor, time_hellings\n",
    "    start_nodes, final_nodes = generate_rnd_start_and_final(graph)\n",
    "    now1 = datetime.datetime.now()\n",
    "    cfpq_with_hellings(\n",
    "        deepcopy(grammar), deepcopy(graph), start_nodes, final_nodes\n",
    "    )\n",
    "    now2 = datetime.datetime.now()\n",
    "    cfpq_with_matrix(\n",
    "        deepcopy(grammar), deepcopy(graph), start_nodes, final_nodes\n",
    "    )\n",
    "    now3 = datetime.datetime.now()\n",
    "    cfpq_with_tensor(\n",
    "        cfg_to_rsm(deepcopy(grammar)), deepcopy(graph), start_nodes, final_nodes\n",
    "    )\n",
    "    now4 = datetime.datetime.now()\n",
    "    cfpq_with_gll(\n",
    "        cfg_to_rsm(deepcopy(grammar)), deepcopy(graph), start_nodes, final_nodes\n",
    "    )\n",
    "    now5 = datetime.datetime.now()\n",
    "    \n",
    "    time_hellings += now2 - now1\n",
    "    time_matrix += now3 - now2\n",
    "    time_tensor += now4 - now3\n",
    "    time_gll += now5 - now4\n",
    "    \n",
    "    \n",
    "for i in range(1):\n",
    "    graph = generate_rnd_dense_graph(1, 100, LABELS)\n",
    "    for grammar in grammars:\n",
    "        test_hellings_matrix_tensor_gll(graph, grammar)\n",
    "    \n",
    "    \n",
    "print(f\"time hellings {time_hellings}\")\n",
    "\n",
    "print(f\"time matrix {time_matrix}\")\n",
    "\n",
    "print(f\"time tensor {time_tensor}\")\n",
    "\n",
    "print(f\"time gll {time_gll}\")\n",
    "     "
   ]
  },
  {
   "cell_type": "markdown",
   "source": [
    "Из проведенного анализа видно, что хуже всего с задачей КС достижимости справляется матричный алгоритм - он работает на порядок медленнее всех остальных. Для более детаельного анализа остальных алгоритмов, проведем их сравнительный анализ без матричного алгоритма:"
   ],
   "metadata": {
    "collapsed": false
   },
   "id": "76b746d694adff21"
  },
  {
   "cell_type": "code",
   "execution_count": 69,
   "id": "66ad22189826992e",
   "metadata": {
    "collapsed": false,
    "ExecuteTime": {
     "end_time": "2024-05-22T21:00:13.946625Z",
     "start_time": "2024-05-22T21:00:01.457719Z"
    }
   },
   "outputs": [
    {
     "name": "stderr",
     "output_type": "stream",
     "text": [
      "[2024-05-23 00:00:01]>INFO>[GNP] Create a Erdős-Rényi graph=<networkx.classes.multidigraph.MultiDiGraph object at 0x1579c3750> with n=32, p=0.4, labels=['a', 'b', 'c', 'd', 'e', 'f', 'g', 'h'], choice=<bound method Random.choice of <random.Random object at 0x7f8617817220>>, seed=None\n",
      "[2024-05-23 00:00:01]>INFO>[GNP] Create a Erdős-Rényi graph=<networkx.classes.multidigraph.MultiDiGraph object at 0x1576cf110> with n=54, p=0.4, labels=['a', 'b', 'c', 'd', 'e', 'f', 'g', 'h'], choice=<bound method Random.choice of <random.Random object at 0x7f8617817220>>, seed=None\n",
      "[2024-05-23 00:00:02]>INFO>[GNP] Create a Erdős-Rényi graph=<networkx.classes.multidigraph.MultiDiGraph object at 0x153b8dfd0> with n=70, p=0.4, labels=['a', 'b', 'c', 'd', 'e', 'f', 'g', 'h'], choice=<bound method Random.choice of <random.Random object at 0x7f8617817220>>, seed=None\n",
      "[2024-05-23 00:00:04]>INFO>[GNP] Create a Erdős-Rényi graph=<networkx.classes.multidigraph.MultiDiGraph object at 0x153779610> with n=65, p=0.4, labels=['a', 'b', 'c', 'd', 'e', 'f', 'g', 'h'], choice=<bound method Random.choice of <random.Random object at 0x7f8617817220>>, seed=None\n",
      "[2024-05-23 00:00:05]>INFO>[GNP] Create a Erdős-Rényi graph=<networkx.classes.multidigraph.MultiDiGraph object at 0x1549c3d10> with n=97, p=0.4, labels=['a', 'b', 'c', 'd', 'e', 'f', 'g', 'h'], choice=<bound method Random.choice of <random.Random object at 0x7f8617817220>>, seed=None\n",
      "[2024-05-23 00:00:08]>INFO>[GNP] Create a Erdős-Rényi graph=<networkx.classes.multidigraph.MultiDiGraph object at 0x152c30c50> with n=7, p=0.4, labels=['a', 'b', 'c', 'd', 'e', 'f', 'g', 'h'], choice=<bound method Random.choice of <random.Random object at 0x7f8617817220>>, seed=None\n",
      "[2024-05-23 00:00:08]>INFO>[GNP] Create a Erdős-Rényi graph=<networkx.classes.multidigraph.MultiDiGraph object at 0x1534644d0> with n=89, p=0.4, labels=['a', 'b', 'c', 'd', 'e', 'f', 'g', 'h'], choice=<bound method Random.choice of <random.Random object at 0x7f8617817220>>, seed=None\n",
      "[2024-05-23 00:00:11]>INFO>[GNP] Create a Erdős-Rényi graph=<networkx.classes.multidigraph.MultiDiGraph object at 0x152702990> with n=68, p=0.4, labels=['a', 'b', 'c', 'd', 'e', 'f', 'g', 'h'], choice=<bound method Random.choice of <random.Random object at 0x7f8617817220>>, seed=None\n",
      "[2024-05-23 00:00:13]>INFO>[GNP] Create a Erdős-Rényi graph=<networkx.classes.multidigraph.MultiDiGraph object at 0x153e254d0> with n=47, p=0.4, labels=['a', 'b', 'c', 'd', 'e', 'f', 'g', 'h'], choice=<bound method Random.choice of <random.Random object at 0x7f8617817220>>, seed=None\n",
      "[2024-05-23 00:00:13]>INFO>[GNP] Create a Erdős-Rényi graph=<networkx.classes.multidigraph.MultiDiGraph object at 0x195881e10> with n=5, p=0.4, labels=['a', 'b', 'c', 'd', 'e', 'f', 'g', 'h'], choice=<bound method Random.choice of <random.Random object at 0x7f8617817220>>, seed=None\n"
     ]
    },
    {
     "name": "stdout",
     "output_type": "stream",
     "text": [
      "time hellings 0:00:01.797747\n",
      "time tensor 0:00:09.047372\n",
      "time gll 0:00:01.539901\n"
     ]
    }
   ],
   "source": [
    "time_hellings = datetime.timedelta(0)\n",
    "time_tensor = datetime.timedelta(0)\n",
    "time_gll = datetime.timedelta(0)\n",
    "grammars: list[cfg.CFG] = grammars_constants.GRAMMARS_DIFFERENT\n",
    "\n",
    "def test_hellings_tensor_gll(graph, grammar):\n",
    "    global time_gll, time_matrix, time_tensor, time_hellings\n",
    "    start_nodes, final_nodes = generate_rnd_start_and_final(graph)\n",
    "    now1 = datetime.datetime.now()\n",
    "    cfpq_with_hellings(\n",
    "        deepcopy(grammar), deepcopy(graph), start_nodes, final_nodes\n",
    "    )\n",
    "    now2 = datetime.datetime.now()\n",
    "    cfpq_with_tensor(\n",
    "        cfg_to_rsm(deepcopy(grammar)), deepcopy(graph), start_nodes, final_nodes\n",
    "    )\n",
    "    now3 = datetime.datetime.now()\n",
    "    cfpq_with_gll(\n",
    "        cfg_to_rsm(deepcopy(grammar)), deepcopy(graph), start_nodes, final_nodes\n",
    "    )\n",
    "    now4 = datetime.datetime.now()\n",
    "    \n",
    "    time_hellings += now2 - now1\n",
    "    time_tensor += now3 - now2\n",
    "    time_gll += now4 - now3\n",
    "    \n",
    "    \n",
    "for i in range(10):\n",
    "    graph = generate_rnd_dense_graph(1, 100, LABELS)\n",
    "    for grammar in grammars:\n",
    "        test_hellings_tensor_gll(graph, grammar)\n",
    "    \n",
    "    \n",
    "print(f\"time hellings {time_hellings}\")\n",
    "\n",
    "print(f\"time tensor {time_tensor}\")\n",
    "\n",
    "print(f\"time gll {time_gll}\")"
   ]
  },
  {
   "cell_type": "markdown",
   "source": [
    "Видим, что алгоритмы Хеллингса и GLL работают примерно с одинаквой скоростью (но алгоритм на основе GLL работает немного быстрее), а тензорный алгоритм от них отстает примерно в 5 раз."
   ],
   "metadata": {
    "collapsed": false
   },
   "id": "88354f2dcb39cb73"
  },
  {
   "cell_type": "markdown",
   "source": [
    "Проведем анализ влияние размера грамматики на время работы тнзорного алгоритма алгоритма на основе GLL"
   ],
   "metadata": {
    "collapsed": false
   },
   "id": "f6e2d458b2c1eaaa"
  },
  {
   "cell_type": "code",
   "execution_count": 72,
   "outputs": [
    {
     "name": "stderr",
     "output_type": "stream",
     "text": [
      "[2024-05-23 00:05:25]>INFO>[GNP] Create a Erdős-Rényi graph=<networkx.classes.multidigraph.MultiDiGraph object at 0x15a1aa2d0> with n=887, p=0.4, labels=['a', 'b'], choice=<bound method Random.choice of <random.Random object at 0x7f8617817220>>, seed=None\n"
     ]
    },
    {
     "name": "stdout",
     "output_type": "stream",
     "text": [
      "time for small graph with tensor: 0:00:09.118996\n",
      "time for big graph with tensor: 0:00:08.539740\n",
      "time for small graph with GLL: 0:00:02.100964\n",
      "time for big graph with GLL: 0:00:01.977223\n"
     ]
    }
   ],
   "source": [
    "ls = [\"a\", \"b\"]\n",
    "\n",
    "smallGrammar = cfg.CFG.from_text(\"S -> a\")\n",
    "\n",
    "bigGrammar = cfg.CFG.from_text(\n",
    "                \"\"\"\n",
    "                S -> S1 | S2\n",
    "                S1 -> Sab | S1 a\n",
    "                Sab -> $ | a Sab b\n",
    "                S2 -> Sbc | a S2\n",
    "                Sbc -> $ | b Sbc a\n",
    "                \"\"\"\n",
    "            )\n",
    "start_nodes, final_nodes = generate_rnd_start_and_final(graph)\n",
    "\n",
    "graph = generate_rnd_dense_graph(1, 1000, ls)\n",
    "\n",
    "now1 = datetime.datetime.now()\n",
    "cfpq_with_tensor(\n",
    "    cfg_to_rsm(deepcopy(smallGrammar)), deepcopy(graph), start_nodes, final_nodes\n",
    ")\n",
    "now2 = datetime.datetime.now()\n",
    "cfpq_with_gll(\n",
    "    cfg_to_rsm(deepcopy(smallGrammar)), deepcopy(graph), start_nodes, final_nodes\n",
    ")\n",
    "now3 = datetime.datetime.now()\n",
    "\n",
    "timeSmallTensor = now2 - now1\n",
    "timeSmallGLL = now3 - now2\n",
    " \n",
    "now1 = datetime.datetime.now()\n",
    "cfpq_with_tensor(\n",
    "    cfg_to_rsm(deepcopy(bigGrammar)), deepcopy(graph), start_nodes, final_nodes\n",
    ")\n",
    "now2 = datetime.datetime.now()\n",
    "cfpq_with_gll(\n",
    "    cfg_to_rsm(deepcopy(bigGrammar)), deepcopy(graph), start_nodes, final_nodes\n",
    ")\n",
    "now3 = datetime.datetime.now()\n",
    "\n",
    "timeBigTensor = now2 - now1\n",
    "timeBigGLL = now3 - now2\n",
    "\n",
    "print(f\"time for small graph with tensor: {timeSmallTensor}\")\n",
    "print(f\"time for big graph with tensor: {timeBigTensor}\")\n",
    "print(f\"time for small graph with GLL: {timeSmallGLL}\")\n",
    "print(f\"time for big graph with GLL: {timeBigGLL}\")\n",
    "\n",
    "\n"
   ],
   "metadata": {
    "collapsed": false,
    "ExecuteTime": {
     "end_time": "2024-05-22T21:05:47.406930Z",
     "start_time": "2024-05-22T21:05:22.849061Z"
    }
   },
   "id": "14916d53041e0340"
  },
  {
   "cell_type": "markdown",
   "source": [
    "Видим, что время работы тензорного алгоритма с большой грамматикой оказалось меньше, чем время работы этого же алгоритм, но с маленькой грамматикой\n",
    "\n",
    "Время работы алгоритма на осонове GLL с большой грамматикой также оказалось меньше, чем время работы этого алгоритма с маленькой грамматикой.\n"
   ],
   "metadata": {
    "collapsed": false
   },
   "id": "904399d9ecb65174"
  },
  {
   "cell_type": "code",
   "execution_count": null,
   "id": "73212daf0c4292a1",
   "metadata": {
    "collapsed": false,
    "ExecuteTime": {
     "start_time": "2024-05-22T18:43:09.303525Z"
    }
   },
   "outputs": [],
   "source": []
  },
  {
   "cell_type": "markdown",
   "source": [
    "Теперь ответим на второй вопрос. Для этого возьмем regex и CFG, задающие одни и те же ограничения и сравним производительность алгоритма, показавшего наилучшее время работы среди КС-алгоритмов (то есть алгоритма на основе GLL) и сравним ее время работы со врременем работы алгритма из 4-ой домашки, то есть с алгоритмом регулярной достижимости на основе BFS"
   ],
   "metadata": {
    "collapsed": false
   },
   "id": "1dba9faaf7610cda"
  },
  {
   "cell_type": "code",
   "execution_count": 62,
   "outputs": [
    {
     "name": "stderr",
     "output_type": "stream",
     "text": [
      "[2024-05-22 23:39:12]>INFO>[GNP] Create a Erdős-Rényi graph=<networkx.classes.multidigraph.MultiDiGraph object at 0x156e47190> with n=91, p=0.4, labels=['a', 'b', 'c', 'd', 'e', 'f', 'g', 'h'], choice=<bound method Random.choice of <random.Random object at 0x7f8617817220>>, seed=None\n"
     ]
    },
    {
     "name": "stdout",
     "output_type": "stream",
     "text": [
      "time_regex = 0:00:09.585413\n",
      "time_gll = 0:00:00.211527\n"
     ]
    }
   ],
   "source": [
    "regex_grammar = grammars_constants.REGEXP_CFG\n",
    "time_regex = datetime.timedelta(0)\n",
    "time_gll = datetime.timedelta(0)\n",
    "\n",
    "def run_algos(graph, regex, cfg):\n",
    "    global time_regex, time_gll\n",
    "    start_nodes, final_nodes = generate_rnd_start_and_final(graph.copy())\n",
    "    fa = FiniteAutomaton(\n",
    "            graph_to_nfa(deepcopy(graph), deepcopy(start_nodes), deepcopy(final_nodes))\n",
    "    )\n",
    "    constraint_fa = FiniteAutomaton(regex_to_dfa(regex))\n",
    "    now1 = datetime.datetime.now()\n",
    "    reachability_with_constraints(deepcopy(fa), deepcopy(constraint_fa))\n",
    "    now2 = datetime.datetime.now()\n",
    "    cfpq_with_gll(\n",
    "        cfg_to_rsm(deepcopy(cfg)), deepcopy(graph), start_nodes, final_nodes\n",
    "    )\n",
    "    now3 = datetime.datetime.now()\n",
    "    time_regex += now2-now1\n",
    "    time_gll += now3-now2\n",
    "    \n",
    "    \n",
    "    \n",
    "for i in range(1):\n",
    "    graph = generate_rnd_dense_graph(1, 100, LABELS)\n",
    "    for (regex, cfg_list) in regex_grammar:\n",
    "        if len(cfg_list) == 0:\n",
    "            continue\n",
    "        run_algos(graph, regex, cfg_list[0])\n",
    "        \n",
    "print(f\"time_regex = {time_regex}\")\n",
    "print(f\"time_gll = {time_gll}\")\n",
    "\n",
    "    \n",
    "    "
   ],
   "metadata": {
    "collapsed": false,
    "ExecuteTime": {
     "end_time": "2024-05-22T20:39:23.519568Z",
     "start_time": "2024-05-22T20:39:12.006996Z"
    }
   },
   "id": "d07c30b990f76d7c"
  },
  {
   "cell_type": "markdown",
   "source": [
    "Видим, что время работы алгоритма GLL на порядок меньше, чем время работы алгоритма регулярной достижимости на основе BFS. Это значит, что смысл исползоват алгоритмы для КС ограничений для решения задач регулярной достижимости есть - особенно, когда у нас уже есть CFG для данного регулярного выражения."
   ],
   "metadata": {
    "collapsed": false
   },
   "id": "50c6c7cc04e5397a"
  },
  {
   "cell_type": "markdown",
   "source": [
    "ВЫВОДЫ:\n",
    "1. Какой из трёх указанных алгоритмов обладает лучшей производительностью? GLL\n",
    "2. Имеет ли смысл для решения задачи достижимости с регулярными ограничениями использовать алгоритмы для КС ограничений (ведь регулярные --- частный случай КС) или всё же лучше использовать специализированные алгоритмы для регулярных ограничений? ДА\n",
    "3. Как влияет грамматика на производительность тензорного алгоритма и алгоритма на основе GLL? Если зафиксировать язык, то как свойства грамматики (размер, (не)однозначность) влияют на производительность.\n",
    "Время работы этих алгоритмов с маленькой грамматикой больше, чем с большой"
   ],
   "metadata": {
    "collapsed": false
   },
   "id": "b7b119f78af6ec05"
  },
  {
   "cell_type": "code",
   "execution_count": null,
   "outputs": [],
   "source": [],
   "metadata": {
    "collapsed": false
   },
   "id": "9000f310cc6bd5b6"
  }
 ],
 "metadata": {
  "kernelspec": {
   "display_name": "Python 3 (ipykernel)",
   "language": "python",
   "name": "python3"
  },
  "language_info": {
   "codemirror_mode": {
    "name": "ipython",
    "version": 3
   },
   "file_extension": ".py",
   "mimetype": "text/x-python",
   "name": "python",
   "nbconvert_exporter": "python",
   "pygments_lexer": "ipython3",
   "version": "3.9.19"
  }
 },
 "nbformat": 4,
 "nbformat_minor": 5
}
