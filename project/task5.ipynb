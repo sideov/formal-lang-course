{
 "cells": [
  {
   "cell_type": "code",
   "execution_count": 1,
   "id": "initial_id",
   "metadata": {
    "collapsed": true,
    "ExecuteTime": {
     "end_time": "2024-05-23T22:54:51.630589Z",
     "start_time": "2024-05-23T22:54:49.417944Z"
    }
   },
   "outputs": [
    {
     "name": "stdout",
     "output_type": "stream",
     "text": [
      "import sources directory\n"
     ]
    }
   ],
   "source": [
    "import random\n",
    "\n",
    "import matplotlib.pyplot as plt\n",
    "from task1 import *\n",
    "from task2 import *\n",
    "from task3 import *\n",
    "from task4 import reachability_with_constraints\n",
    "import cfpq_data\n",
    "from scipy.sparse import bsr_matrix, coo_matrix, csr_matrix, csc_matrix, dia_matrix, dok_matrix, lil_matrix\n",
    "import random\n",
    "import datetime\n",
    "import platform\n",
    "\n"
   ]
  },
  {
   "cell_type": "markdown",
   "source": [
    "### Введение\n",
    "В этой работе будет проведен анализ алгоритмов достижимости в конечном автомате с регулярными ограничениями. Будут исследованы следующие функции:\n",
    "1. all_paths - эта функция находит пары вершин графа из заданного множества стартовых и финальных (ноо при этоом она решает задачу достижимости между всеми парамами вершин графа) таких, что слово, образованное путем из данной стартовой вершины в данную финальную вершину, принадлежит языку, заданному регулярным выражением. Она это делает при помощи пересечения конечных автоматов, представляющих граф и регулярное выржение.\n",
    "2. reachability_with_constraints - эта функция решает задачу достижимости между заданными множествами старртовых и финальных вершин"
   ],
   "metadata": {
    "collapsed": false
   },
   "id": "7f4501c00262226c"
  },
  {
   "cell_type": "markdown",
   "source": [
    "### Графы\n",
    "Будем использовать следующие графы:\n",
    "+ wc\n",
    "+ pr\n",
    "+ wine \n",
    "+ core\n",
    "+ pathway\n",
    "\n",
    "Характеристики графов перечислены ниже\n",
    "\n",
    "---\n",
    "\n",
    "### Запросы\n",
    "Выберем следующие графы и запросы:\n",
    "1. Для графов ls, gzip:\n",
    "    (a | d)* a\n",
    "    (a | d)+ d*\n",
    "    a d a (a|d)*\n",
    "    (a | d)\n",
    "2. Для графов wine, core, pathway выберем запросы из задания:\n",
    "    (l1 | l2)* l3\n",
    "    (l3 | l4)+ l1*\n",
    "    l1 l2 l3 (l4 | l1)*\n",
    "    l1 | l2\n",
    "\n",
    "Где символам l1, l2, l3, l4 соответствуют первые 4 метки из описания соответствующих графов ниже\n",
    "\n",
    "Набор графов и запросов к ним выбран таким образом, чтобы покрыть графы разных топологий и регулярные выражения разных видов"
   ],
   "metadata": {
    "collapsed": false
   },
   "id": "e71faa9c5ea9587"
  },
  {
   "cell_type": "code",
   "execution_count": 2,
   "outputs": [
    {
     "name": "stderr",
     "output_type": "stream",
     "text": [
      "[2024-05-24 01:54:51]>INFO>Found graph with name='wc'\n",
      "[2024-05-24 01:54:51]>INFO>Load archive graph_archive=PosixPath('/Users/maximvasilev/PycharmProjects/formal-lang-course/.venv/lib/python3.12/site-packages/cfpq_data/data/graphs/wc.tar.gz')\n",
      "[2024-05-24 01:54:51]>INFO>Unzip graph name='wc' to file graph=PosixPath('/Users/maximvasilev/PycharmProjects/formal-lang-course/.venv/lib/python3.12/site-packages/cfpq_data/data/graphs/wc/wc.csv')\n",
      "[2024-05-24 01:54:51]>INFO>Remove archive graph_archive=PosixPath('/Users/maximvasilev/PycharmProjects/formal-lang-course/.venv/lib/python3.12/site-packages/cfpq_data/data/graphs/wc.tar.gz')\n",
      "[2024-05-24 01:54:51]>INFO>Load graph=<networkx.classes.multidigraph.MultiDiGraph object at 0x120c60560> from path=PosixPath('/Users/maximvasilev/PycharmProjects/formal-lang-course/.venv/lib/python3.12/site-packages/cfpq_data/data/graphs/wc/wc.csv')\n",
      "[2024-05-24 01:54:51]>INFO>Found graph with name='wc'\n",
      "[2024-05-24 01:54:51]>INFO>Load archive graph_archive=PosixPath('/Users/maximvasilev/PycharmProjects/formal-lang-course/.venv/lib/python3.12/site-packages/cfpq_data/data/graphs/wc.tar.gz')\n",
      "[2024-05-24 01:54:51]>INFO>Unzip graph name='wc' to file graph=PosixPath('/Users/maximvasilev/PycharmProjects/formal-lang-course/.venv/lib/python3.12/site-packages/cfpq_data/data/graphs/wc/wc.csv')\n",
      "[2024-05-24 01:54:51]>INFO>Remove archive graph_archive=PosixPath('/Users/maximvasilev/PycharmProjects/formal-lang-course/.venv/lib/python3.12/site-packages/cfpq_data/data/graphs/wc.tar.gz')\n",
      "[2024-05-24 01:54:51]>INFO>Load graph=<networkx.classes.multidigraph.MultiDiGraph object at 0x12102c0e0> from path=PosixPath('/Users/maximvasilev/PycharmProjects/formal-lang-course/.venv/lib/python3.12/site-packages/cfpq_data/data/graphs/wc/wc.csv')\n",
      "[2024-05-24 01:54:51]>INFO>Found graph with name='pr'\n",
      "[2024-05-24 01:54:51]>INFO>Load archive graph_archive=PosixPath('/Users/maximvasilev/PycharmProjects/formal-lang-course/.venv/lib/python3.12/site-packages/cfpq_data/data/graphs/pr.tar.gz')\n",
      "[2024-05-24 01:54:51]>INFO>Unzip graph name='pr' to file graph=PosixPath('/Users/maximvasilev/PycharmProjects/formal-lang-course/.venv/lib/python3.12/site-packages/cfpq_data/data/graphs/pr/pr.csv')\n",
      "[2024-05-24 01:54:51]>INFO>Remove archive graph_archive=PosixPath('/Users/maximvasilev/PycharmProjects/formal-lang-course/.venv/lib/python3.12/site-packages/cfpq_data/data/graphs/pr.tar.gz')\n",
      "[2024-05-24 01:54:52]>INFO>Load graph=<networkx.classes.multidigraph.MultiDiGraph object at 0x11fe64e00> from path=PosixPath('/Users/maximvasilev/PycharmProjects/formal-lang-course/.venv/lib/python3.12/site-packages/cfpq_data/data/graphs/pr/pr.csv')\n",
      "[2024-05-24 01:54:52]>INFO>Found graph with name='pr'\n"
     ]
    },
    {
     "name": "stdout",
     "output_type": "stream",
     "text": [
      "graph wc\n",
      "number of nodes: 332\n",
      "number of edges: 269\n",
      "labels: {'a', 'd'}\n"
     ]
    },
    {
     "name": "stderr",
     "output_type": "stream",
     "text": [
      "[2024-05-24 01:54:52]>INFO>Load archive graph_archive=PosixPath('/Users/maximvasilev/PycharmProjects/formal-lang-course/.venv/lib/python3.12/site-packages/cfpq_data/data/graphs/pr.tar.gz')\n",
      "[2024-05-24 01:54:52]>INFO>Unzip graph name='pr' to file graph=PosixPath('/Users/maximvasilev/PycharmProjects/formal-lang-course/.venv/lib/python3.12/site-packages/cfpq_data/data/graphs/pr/pr.csv')\n",
      "[2024-05-24 01:54:52]>INFO>Remove archive graph_archive=PosixPath('/Users/maximvasilev/PycharmProjects/formal-lang-course/.venv/lib/python3.12/site-packages/cfpq_data/data/graphs/pr.tar.gz')\n",
      "[2024-05-24 01:54:52]>INFO>Load graph=<networkx.classes.multidigraph.MultiDiGraph object at 0x121b3f530> from path=PosixPath('/Users/maximvasilev/PycharmProjects/formal-lang-course/.venv/lib/python3.12/site-packages/cfpq_data/data/graphs/pr/pr.csv')\n",
      "[2024-05-24 01:54:52]>INFO>Found graph with name='wine'\n",
      "[2024-05-24 01:54:52]>INFO>Load archive graph_archive=PosixPath('/Users/maximvasilev/PycharmProjects/formal-lang-course/.venv/lib/python3.12/site-packages/cfpq_data/data/graphs/wine.tar.gz')\n",
      "[2024-05-24 01:54:52]>INFO>Unzip graph name='wine' to file graph=PosixPath('/Users/maximvasilev/PycharmProjects/formal-lang-course/.venv/lib/python3.12/site-packages/cfpq_data/data/graphs/wine/wine.csv')\n",
      "[2024-05-24 01:54:52]>INFO>Remove archive graph_archive=PosixPath('/Users/maximvasilev/PycharmProjects/formal-lang-course/.venv/lib/python3.12/site-packages/cfpq_data/data/graphs/wine.tar.gz')\n",
      "[2024-05-24 01:54:52]>INFO>Load graph=<networkx.classes.multidigraph.MultiDiGraph object at 0x121b15430> from path=PosixPath('/Users/maximvasilev/PycharmProjects/formal-lang-course/.venv/lib/python3.12/site-packages/cfpq_data/data/graphs/wine/wine.csv')\n",
      "[2024-05-24 01:54:52]>INFO>Found graph with name='wine'\n"
     ]
    },
    {
     "name": "stdout",
     "output_type": "stream",
     "text": [
      "graph pr\n",
      "number of nodes: 815\n",
      "number of edges: 692\n",
      "labels: {'a', 'd'}\n"
     ]
    },
    {
     "name": "stderr",
     "output_type": "stream",
     "text": [
      "[2024-05-24 01:54:52]>INFO>Load archive graph_archive=PosixPath('/Users/maximvasilev/PycharmProjects/formal-lang-course/.venv/lib/python3.12/site-packages/cfpq_data/data/graphs/wine.tar.gz')\n",
      "[2024-05-24 01:54:52]>INFO>Unzip graph name='wine' to file graph=PosixPath('/Users/maximvasilev/PycharmProjects/formal-lang-course/.venv/lib/python3.12/site-packages/cfpq_data/data/graphs/wine/wine.csv')\n",
      "[2024-05-24 01:54:52]>INFO>Remove archive graph_archive=PosixPath('/Users/maximvasilev/PycharmProjects/formal-lang-course/.venv/lib/python3.12/site-packages/cfpq_data/data/graphs/wine.tar.gz')\n",
      "[2024-05-24 01:54:52]>INFO>Load graph=<networkx.classes.multidigraph.MultiDiGraph object at 0x10b871160> from path=PosixPath('/Users/maximvasilev/PycharmProjects/formal-lang-course/.venv/lib/python3.12/site-packages/cfpq_data/data/graphs/wine/wine.csv')\n",
      "[2024-05-24 01:54:52]>INFO>Found graph with name='core'\n",
      "[2024-05-24 01:54:52]>INFO>Load archive graph_archive=PosixPath('/Users/maximvasilev/PycharmProjects/formal-lang-course/.venv/lib/python3.12/site-packages/cfpq_data/data/graphs/core.tar.gz')\n",
      "[2024-05-24 01:54:52]>INFO>Unzip graph name='core' to file graph=PosixPath('/Users/maximvasilev/PycharmProjects/formal-lang-course/.venv/lib/python3.12/site-packages/cfpq_data/data/graphs/core/core.csv')\n",
      "[2024-05-24 01:54:52]>INFO>Remove archive graph_archive=PosixPath('/Users/maximvasilev/PycharmProjects/formal-lang-course/.venv/lib/python3.12/site-packages/cfpq_data/data/graphs/core.tar.gz')\n",
      "[2024-05-24 01:54:52]>INFO>Load graph=<networkx.classes.multidigraph.MultiDiGraph object at 0x120fd6f00> from path=PosixPath('/Users/maximvasilev/PycharmProjects/formal-lang-course/.venv/lib/python3.12/site-packages/cfpq_data/data/graphs/core/core.csv')\n"
     ]
    },
    {
     "name": "stdout",
     "output_type": "stream",
     "text": [
      "graph wine\n",
      "number of nodes: 733\n",
      "number of edges: 1839\n",
      "labels: {'disjointWith', 'imports', 'hasBody', 'maxCardinality', 'cardinality', 'minCardinality', 'comment', 'someValuesFrom', 'oneOf', 'inverseOf', 'range', 'allValuesFrom', 'hasFlavor', 'hasValue', 'distinctMembers', 'hasMaker', 'subClassOf', 'locatedIn', 'madeFromGrape', 'hasVintageYear', 'type', 'label', 'onProperty', 'subPropertyOf', 'differentFrom', 'yearValue', 'priorVersion', 'adjacentRegion', 'intersectionOf', 'hasSugar', 'unionOf', 'hasColor', 'first', 'domain', 'rest'}\n"
     ]
    },
    {
     "name": "stderr",
     "output_type": "stream",
     "text": [
      "[2024-05-24 01:54:52]>INFO>Found graph with name='core'\n",
      "[2024-05-24 01:54:52]>INFO>Load archive graph_archive=PosixPath('/Users/maximvasilev/PycharmProjects/formal-lang-course/.venv/lib/python3.12/site-packages/cfpq_data/data/graphs/core.tar.gz')\n",
      "[2024-05-24 01:54:52]>INFO>Unzip graph name='core' to file graph=PosixPath('/Users/maximvasilev/PycharmProjects/formal-lang-course/.venv/lib/python3.12/site-packages/cfpq_data/data/graphs/core/core.csv')\n",
      "[2024-05-24 01:54:52]>INFO>Remove archive graph_archive=PosixPath('/Users/maximvasilev/PycharmProjects/formal-lang-course/.venv/lib/python3.12/site-packages/cfpq_data/data/graphs/core.tar.gz')\n",
      "[2024-05-24 01:54:52]>INFO>Load graph=<networkx.classes.multidigraph.MultiDiGraph object at 0x11ed46f90> from path=PosixPath('/Users/maximvasilev/PycharmProjects/formal-lang-course/.venv/lib/python3.12/site-packages/cfpq_data/data/graphs/core/core.csv')\n",
      "[2024-05-24 01:54:52]>INFO>Found graph with name='pathways'\n"
     ]
    },
    {
     "name": "stdout",
     "output_type": "stream",
     "text": [
      "graph core\n",
      "number of nodes: 1323\n",
      "number of edges: 2752\n",
      "labels: {'disjointWith', 'equivalentClass', 'isDefinedBy', 'domain', 'maxQualifiedCardinality', 'maxCardinality', 'cardinality', 'minCardinality', 'comment', 'someValuesFrom', 'oneOf', 'inverseOf', 'seeAlso', 'versionInfo', 'range', 'allValuesFrom', 'distinctMembers', 'hasValue', 'subClassOf', 'type', 'label', 'onClass', 'onDataRange', 'onProperty', 'subPropertyOf', 'intersectionOf', 'deprecated', 'unionOf', 'first', 'qualifiedCardinality', 'rest'}\n"
     ]
    },
    {
     "name": "stderr",
     "output_type": "stream",
     "text": [
      "[2024-05-24 01:54:53]>INFO>Load archive graph_archive=PosixPath('/Users/maximvasilev/PycharmProjects/formal-lang-course/.venv/lib/python3.12/site-packages/cfpq_data/data/graphs/pathways.tar.gz')\n",
      "[2024-05-24 01:54:53]>INFO>Unzip graph name='pathways' to file graph=PosixPath('/Users/maximvasilev/PycharmProjects/formal-lang-course/.venv/lib/python3.12/site-packages/cfpq_data/data/graphs/pathways/pathways.csv')\n",
      "[2024-05-24 01:54:53]>INFO>Remove archive graph_archive=PosixPath('/Users/maximvasilev/PycharmProjects/formal-lang-course/.venv/lib/python3.12/site-packages/cfpq_data/data/graphs/pathways.tar.gz')\n",
      "[2024-05-24 01:54:53]>INFO>Load graph=<networkx.classes.multidigraph.MultiDiGraph object at 0x120b3fb30> from path=PosixPath('/Users/maximvasilev/PycharmProjects/formal-lang-course/.venv/lib/python3.12/site-packages/cfpq_data/data/graphs/pathways/pathways.csv')\n",
      "[2024-05-24 01:54:53]>INFO>Found graph with name='pathways'\n",
      "[2024-05-24 01:54:53]>INFO>Load archive graph_archive=PosixPath('/Users/maximvasilev/PycharmProjects/formal-lang-course/.venv/lib/python3.12/site-packages/cfpq_data/data/graphs/pathways.tar.gz')\n",
      "[2024-05-24 01:54:53]>INFO>Unzip graph name='pathways' to file graph=PosixPath('/Users/maximvasilev/PycharmProjects/formal-lang-course/.venv/lib/python3.12/site-packages/cfpq_data/data/graphs/pathways/pathways.csv')\n",
      "[2024-05-24 01:54:53]>INFO>Remove archive graph_archive=PosixPath('/Users/maximvasilev/PycharmProjects/formal-lang-course/.venv/lib/python3.12/site-packages/cfpq_data/data/graphs/pathways.tar.gz')\n",
      "[2024-05-24 01:54:53]>INFO>Load graph=<networkx.classes.multidigraph.MultiDiGraph object at 0x120d682f0> from path=PosixPath('/Users/maximvasilev/PycharmProjects/formal-lang-course/.venv/lib/python3.12/site-packages/cfpq_data/data/graphs/pathways/pathways.csv')\n"
     ]
    },
    {
     "name": "stdout",
     "output_type": "stream",
     "text": [
      "graph pathways\n",
      "number of nodes: 6238\n",
      "number of edges: 12363\n",
      "labels: {'imports', 'narrower', 'subClassOf', 'type', 'label'}\n"
     ]
    }
   ],
   "source": [
    "graphs = {}\n",
    "graph_names = [\"wc\", \"pr\", \"wine\", \"core\", \"pathways\"]\n",
    "\n",
    "for graph_name in graph_names:\n",
    "    graph_path = cfpq_data.download(graph_name)\n",
    "    graph = cfpq_data.graph_from_csv(graph_path)\n",
    "    nNodes, nEdges, labels = graph_info(graph_name)\n",
    "    graphs[graph_name] = {}\n",
    "    graphs[graph_name][\"graph\"] = graph\n",
    "    graphs[graph_name][\"nNodes\"] = nNodes\n",
    "    graphs[graph_name][\"nEdges\"] = nEdges\n",
    "    graphs[graph_name][\"labels\"] = labels\n",
    "    print(f\"graph {graph_name}\\n\"\n",
    "          f\"number of nodes: {nNodes}\\n\"\n",
    "          f\"number of edges: {nEdges}\\n\"\n",
    "          f\"labels: {labels}\")\n",
    "    \n",
    "graph_queries = {}\n",
    "graph_queries[\"wc\"] = [\"(a | d)* a\", \"(a | d)+ d*\", \"a d a (a|d)*\", \"(a | d)\"]\n",
    "graph_queries[\"pr\"] = [\"(a | d)* a\", \"(a | d)+ d*\", \"a d a (a|d)*\", \"(a | d)\"]\n",
    "graph_queries[\"wine\"] = [\"(first | onProperty)* priorVersion\", \"(priorVersion | adjacentRegion)+ first*\", \"first onProperty priorVersion (adjacentRegion|first)*\", \"(first | onProperty)\"]\n",
    "graph_queries[\"core\"] = [\"(first | onProperty)* seeAlso\", \"(seeAlso | versionInfo)+ first*\", \"first onProperty seeAlso (versionInfo|first)*\", \"(first | onProperty)\"]\n",
    "graph_queries[\"pathways\"] = [\"(label | type)* subClassOf\", \"(subClassOf | narrower)+ label*\", \"first type subClassOf (narrower|label)*\", \"(first | type)\"]\n"
   ],
   "metadata": {
    "collapsed": false,
    "ExecuteTime": {
     "end_time": "2024-05-23T22:54:53.421827Z",
     "start_time": "2024-05-23T22:54:51.613595Z"
    }
   },
   "id": "cfe45a9e9d1e11b9"
  },
  {
   "cell_type": "markdown",
   "source": [
    "### Оборудование\n",
    "При проведении эксперимента использовалось следующее оборудование:"
   ],
   "metadata": {
    "collapsed": false
   },
   "id": "1fb07b22ebf318ad"
  },
  {
   "cell_type": "code",
   "execution_count": 3,
   "outputs": [
    {
     "name": "stdout",
     "output_type": "stream",
     "text": [
      "x86_64\n",
      "Darwin Kernel Version 23.0.0: Fri Sep 15 14:42:42 PDT 2023; root:xnu-10002.1.13~1/RELEASE_X86_64\n",
      "macOS-14.0-x86_64-i386-64bit\n",
      "uname_result(system='Darwin', node='MacBook-Pro-Maksim-1416.local', release='23.0.0', version='Darwin Kernel Version 23.0.0: Fri Sep 15 14:42:42 PDT 2023; root:xnu-10002.1.13~1/RELEASE_X86_64', machine='x86_64')\n",
      "Darwin\n",
      "i386\n"
     ]
    }
   ],
   "source": [
    "print(platform.machine())\n",
    "print(platform.version())\n",
    "print(platform.platform())\n",
    "print(platform.uname())\n",
    "print(platform.system())\n",
    "print(platform.processor())"
   ],
   "metadata": {
    "collapsed": false,
    "ExecuteTime": {
     "end_time": "2024-05-23T22:40:30.555883Z",
     "start_time": "2024-05-23T22:40:30.549607Z"
    }
   },
   "id": "92f2b0ebb1dff559"
  },
  {
   "cell_type": "markdown",
   "source": [
    "Исследуем зависимость времени работы указанных выше алгоритмов от тиипа матрицы. Для алгорритма path_ends стартовые и финальные вершины будем назначать случайно в количестве половины от общего числа вершин в этих графах."
   ],
   "metadata": {
    "collapsed": false
   },
   "id": "76e98a84d3d984c6"
  },
  {
   "cell_type": "code",
   "execution_count": 6,
   "outputs": [],
   "source": [
    "def run(algorithm, graph_name, matrix_class, partOfStartNodes=0.5, partOfFinalNodes=0.5):\n",
    "    now1 = datetime.timedelta(0)\n",
    "    now2 = datetime.timedelta(0)\n",
    "    \n",
    "    number_of_start_nodes = round(graphs[graph_name][\"nNodes\"] * partOfStartNodes)\n",
    "    number_of_final_nodes = round(graphs[graph_name][\"nNodes\"] * partOfFinalNodes)\n",
    "    start_states = cfpq_data.generate_multiple_source(graphs[graph_name][\"graph\"], number_of_start_nodes, seed = 41)\n",
    "    final_states = cfpq_data.generate_multiple_source(graphs[graph_name][\"graph\"], number_of_final_nodes, seed = 42)\n",
    "    g = graphs[graph_name][\"graph\"]\n",
    "\n",
    "    for cregex in graph_queries[graph_name]:\n",
    "        if algorithm == reachability_with_constraints:\n",
    "            g = FiniteAutomaton(graph_to_nfa(graph), matrix_class=matrix_class)\n",
    "            cregex = FiniteAutomaton(regex_to_dfa(cregex), matrix_class=matrix_class)\n",
    "            now1 = datetime.datetime.now()\n",
    "            algorithm(g, cregex, matrix_class)\n",
    "            now2 = datetime.datetime.now()\n",
    "        else:\n",
    "            now1 = datetime.datetime.now()\n",
    "            algorithm(g, start_states, final_states, cregex, matrix_class)\n",
    "            now2 = datetime.datetime.now()\n",
    "    \n",
    "    return now2 - now1"
   ],
   "metadata": {
    "collapsed": false,
    "ExecuteTime": {
     "end_time": "2024-05-23T23:00:47.431483Z",
     "start_time": "2024-05-23T23:00:47.420182Z"
    }
   },
   "id": "f435f0e685527bc1"
  },
  {
   "cell_type": "code",
   "execution_count": null,
   "outputs": [
    {
     "name": "stderr",
     "output_type": "stream",
     "text": [
      "[2024-05-24 02:15:41]>INFO>Generate set of source vertices of 166 nodes for graph=<networkx.classes.multidigraph.MultiDiGraph object at 0x120c60560> for multiple-source evaluation\n",
      "[2024-05-24 02:15:41]>INFO>Generate set of source vertices of 166 nodes for graph=<networkx.classes.multidigraph.MultiDiGraph object at 0x120c60560> for multiple-source evaluation\n",
      "[2024-05-24 02:15:41]>INFO>Generate set of source vertices of 408 nodes for graph=<networkx.classes.multidigraph.MultiDiGraph object at 0x11fe64e00> for multiple-source evaluation\n",
      "[2024-05-24 02:15:41]>INFO>Generate set of source vertices of 408 nodes for graph=<networkx.classes.multidigraph.MultiDiGraph object at 0x11fe64e00> for multiple-source evaluation\n",
      "[2024-05-24 02:15:42]>INFO>Generate set of source vertices of 366 nodes for graph=<networkx.classes.multidigraph.MultiDiGraph object at 0x121b15430> for multiple-source evaluation\n",
      "[2024-05-24 02:15:42]>INFO>Generate set of source vertices of 366 nodes for graph=<networkx.classes.multidigraph.MultiDiGraph object at 0x121b15430> for multiple-source evaluation\n",
      "[2024-05-24 02:15:43]>INFO>Generate set of source vertices of 662 nodes for graph=<networkx.classes.multidigraph.MultiDiGraph object at 0x120fd6f00> for multiple-source evaluation\n",
      "[2024-05-24 02:15:43]>INFO>Generate set of source vertices of 662 nodes for graph=<networkx.classes.multidigraph.MultiDiGraph object at 0x120fd6f00> for multiple-source evaluation\n",
      "[2024-05-24 02:15:44]>INFO>Generate set of source vertices of 3119 nodes for graph=<networkx.classes.multidigraph.MultiDiGraph object at 0x120b3fb30> for multiple-source evaluation\n",
      "[2024-05-24 02:15:44]>INFO>Generate set of source vertices of 3119 nodes for graph=<networkx.classes.multidigraph.MultiDiGraph object at 0x120b3fb30> for multiple-source evaluation\n",
      "[2024-05-24 02:15:47]>INFO>Generate set of source vertices of 166 nodes for graph=<networkx.classes.multidigraph.MultiDiGraph object at 0x120c60560> for multiple-source evaluation\n",
      "[2024-05-24 02:15:47]>INFO>Generate set of source vertices of 166 nodes for graph=<networkx.classes.multidigraph.MultiDiGraph object at 0x120c60560> for multiple-source evaluation\n",
      "[2024-05-24 02:15:47]>INFO>Generate set of source vertices of 408 nodes for graph=<networkx.classes.multidigraph.MultiDiGraph object at 0x11fe64e00> for multiple-source evaluation\n",
      "[2024-05-24 02:15:47]>INFO>Generate set of source vertices of 408 nodes for graph=<networkx.classes.multidigraph.MultiDiGraph object at 0x11fe64e00> for multiple-source evaluation\n",
      "[2024-05-24 02:15:47]>INFO>Generate set of source vertices of 366 nodes for graph=<networkx.classes.multidigraph.MultiDiGraph object at 0x121b15430> for multiple-source evaluation\n",
      "[2024-05-24 02:15:47]>INFO>Generate set of source vertices of 366 nodes for graph=<networkx.classes.multidigraph.MultiDiGraph object at 0x121b15430> for multiple-source evaluation\n",
      "[2024-05-24 02:15:48]>INFO>Generate set of source vertices of 662 nodes for graph=<networkx.classes.multidigraph.MultiDiGraph object at 0x120fd6f00> for multiple-source evaluation\n",
      "[2024-05-24 02:15:48]>INFO>Generate set of source vertices of 662 nodes for graph=<networkx.classes.multidigraph.MultiDiGraph object at 0x120fd6f00> for multiple-source evaluation\n",
      "[2024-05-24 02:15:48]>INFO>Generate set of source vertices of 3119 nodes for graph=<networkx.classes.multidigraph.MultiDiGraph object at 0x120b3fb30> for multiple-source evaluation\n",
      "[2024-05-24 02:15:48]>INFO>Generate set of source vertices of 3119 nodes for graph=<networkx.classes.multidigraph.MultiDiGraph object at 0x120b3fb30> for multiple-source evaluation\n",
      "[2024-05-24 02:15:51]>INFO>Generate set of source vertices of 166 nodes for graph=<networkx.classes.multidigraph.MultiDiGraph object at 0x120c60560> for multiple-source evaluation\n",
      "[2024-05-24 02:15:51]>INFO>Generate set of source vertices of 166 nodes for graph=<networkx.classes.multidigraph.MultiDiGraph object at 0x120c60560> for multiple-source evaluation\n",
      "[2024-05-24 02:15:52]>INFO>Generate set of source vertices of 408 nodes for graph=<networkx.classes.multidigraph.MultiDiGraph object at 0x11fe64e00> for multiple-source evaluation\n",
      "[2024-05-24 02:15:52]>INFO>Generate set of source vertices of 408 nodes for graph=<networkx.classes.multidigraph.MultiDiGraph object at 0x11fe64e00> for multiple-source evaluation\n",
      "[2024-05-24 02:15:53]>INFO>Generate set of source vertices of 366 nodes for graph=<networkx.classes.multidigraph.MultiDiGraph object at 0x121b15430> for multiple-source evaluation\n",
      "[2024-05-24 02:15:53]>INFO>Generate set of source vertices of 366 nodes for graph=<networkx.classes.multidigraph.MultiDiGraph object at 0x121b15430> for multiple-source evaluation\n",
      "[2024-05-24 02:15:56]>INFO>Generate set of source vertices of 662 nodes for graph=<networkx.classes.multidigraph.MultiDiGraph object at 0x120fd6f00> for multiple-source evaluation\n",
      "[2024-05-24 02:15:56]>INFO>Generate set of source vertices of 662 nodes for graph=<networkx.classes.multidigraph.MultiDiGraph object at 0x120fd6f00> for multiple-source evaluation\n",
      "[2024-05-24 02:16:00]>INFO>Generate set of source vertices of 3119 nodes for graph=<networkx.classes.multidigraph.MultiDiGraph object at 0x120b3fb30> for multiple-source evaluation\n",
      "[2024-05-24 02:16:00]>INFO>Generate set of source vertices of 3119 nodes for graph=<networkx.classes.multidigraph.MultiDiGraph object at 0x120b3fb30> for multiple-source evaluation\n",
      "[2024-05-24 02:16:18]>INFO>Generate set of source vertices of 166 nodes for graph=<networkx.classes.multidigraph.MultiDiGraph object at 0x120c60560> for multiple-source evaluation\n",
      "[2024-05-24 02:16:18]>INFO>Generate set of source vertices of 166 nodes for graph=<networkx.classes.multidigraph.MultiDiGraph object at 0x120c60560> for multiple-source evaluation\n",
      "[2024-05-24 02:16:19]>INFO>Generate set of source vertices of 408 nodes for graph=<networkx.classes.multidigraph.MultiDiGraph object at 0x11fe64e00> for multiple-source evaluation\n",
      "[2024-05-24 02:16:19]>INFO>Generate set of source vertices of 408 nodes for graph=<networkx.classes.multidigraph.MultiDiGraph object at 0x11fe64e00> for multiple-source evaluation\n",
      "[2024-05-24 02:16:20]>INFO>Generate set of source vertices of 366 nodes for graph=<networkx.classes.multidigraph.MultiDiGraph object at 0x121b15430> for multiple-source evaluation\n",
      "[2024-05-24 02:16:20]>INFO>Generate set of source vertices of 366 nodes for graph=<networkx.classes.multidigraph.MultiDiGraph object at 0x121b15430> for multiple-source evaluation\n",
      "[2024-05-24 02:16:22]>INFO>Generate set of source vertices of 662 nodes for graph=<networkx.classes.multidigraph.MultiDiGraph object at 0x120fd6f00> for multiple-source evaluation\n",
      "[2024-05-24 02:16:22]>INFO>Generate set of source vertices of 662 nodes for graph=<networkx.classes.multidigraph.MultiDiGraph object at 0x120fd6f00> for multiple-source evaluation\n",
      "[2024-05-24 02:16:26]>INFO>Generate set of source vertices of 3119 nodes for graph=<networkx.classes.multidigraph.MultiDiGraph object at 0x120b3fb30> for multiple-source evaluation\n",
      "[2024-05-24 02:16:26]>INFO>Generate set of source vertices of 3119 nodes for graph=<networkx.classes.multidigraph.MultiDiGraph object at 0x120b3fb30> for multiple-source evaluation\n",
      "[2024-05-24 02:16:48]>INFO>Generate set of source vertices of 166 nodes for graph=<networkx.classes.multidigraph.MultiDiGraph object at 0x120c60560> for multiple-source evaluation\n",
      "[2024-05-24 02:16:48]>INFO>Generate set of source vertices of 166 nodes for graph=<networkx.classes.multidigraph.MultiDiGraph object at 0x120c60560> for multiple-source evaluation\n",
      "[2024-05-24 02:16:48]>INFO>Generate set of source vertices of 408 nodes for graph=<networkx.classes.multidigraph.MultiDiGraph object at 0x11fe64e00> for multiple-source evaluation\n",
      "[2024-05-24 02:16:48]>INFO>Generate set of source vertices of 408 nodes for graph=<networkx.classes.multidigraph.MultiDiGraph object at 0x11fe64e00> for multiple-source evaluation\n",
      "[2024-05-24 02:16:48]>INFO>Generate set of source vertices of 366 nodes for graph=<networkx.classes.multidigraph.MultiDiGraph object at 0x121b15430> for multiple-source evaluation\n",
      "[2024-05-24 02:16:48]>INFO>Generate set of source vertices of 366 nodes for graph=<networkx.classes.multidigraph.MultiDiGraph object at 0x121b15430> for multiple-source evaluation\n",
      "[2024-05-24 02:16:49]>INFO>Generate set of source vertices of 662 nodes for graph=<networkx.classes.multidigraph.MultiDiGraph object at 0x120fd6f00> for multiple-source evaluation\n",
      "[2024-05-24 02:16:49]>INFO>Generate set of source vertices of 662 nodes for graph=<networkx.classes.multidigraph.MultiDiGraph object at 0x120fd6f00> for multiple-source evaluation\n",
      "[2024-05-24 02:16:50]>INFO>Generate set of source vertices of 3119 nodes for graph=<networkx.classes.multidigraph.MultiDiGraph object at 0x120b3fb30> for multiple-source evaluation\n",
      "[2024-05-24 02:16:50]>INFO>Generate set of source vertices of 3119 nodes for graph=<networkx.classes.multidigraph.MultiDiGraph object at 0x120b3fb30> for multiple-source evaluation\n",
      "[2024-05-24 02:16:53]>INFO>Generate set of source vertices of 166 nodes for graph=<networkx.classes.multidigraph.MultiDiGraph object at 0x120c60560> for multiple-source evaluation\n",
      "[2024-05-24 02:16:53]>INFO>Generate set of source vertices of 166 nodes for graph=<networkx.classes.multidigraph.MultiDiGraph object at 0x120c60560> for multiple-source evaluation\n",
      "[2024-05-24 02:16:53]>INFO>Generate set of source vertices of 408 nodes for graph=<networkx.classes.multidigraph.MultiDiGraph object at 0x11fe64e00> for multiple-source evaluation\n",
      "[2024-05-24 02:16:53]>INFO>Generate set of source vertices of 408 nodes for graph=<networkx.classes.multidigraph.MultiDiGraph object at 0x11fe64e00> for multiple-source evaluation\n",
      "[2024-05-24 02:16:53]>INFO>Generate set of source vertices of 366 nodes for graph=<networkx.classes.multidigraph.MultiDiGraph object at 0x121b15430> for multiple-source evaluation\n",
      "[2024-05-24 02:16:53]>INFO>Generate set of source vertices of 366 nodes for graph=<networkx.classes.multidigraph.MultiDiGraph object at 0x121b15430> for multiple-source evaluation\n",
      "[2024-05-24 02:16:54]>INFO>Generate set of source vertices of 662 nodes for graph=<networkx.classes.multidigraph.MultiDiGraph object at 0x120fd6f00> for multiple-source evaluation\n",
      "[2024-05-24 02:16:54]>INFO>Generate set of source vertices of 662 nodes for graph=<networkx.classes.multidigraph.MultiDiGraph object at 0x120fd6f00> for multiple-source evaluation\n",
      "[2024-05-24 02:16:54]>INFO>Generate set of source vertices of 3119 nodes for graph=<networkx.classes.multidigraph.MultiDiGraph object at 0x120b3fb30> for multiple-source evaluation\n",
      "[2024-05-24 02:16:54]>INFO>Generate set of source vertices of 3119 nodes for graph=<networkx.classes.multidigraph.MultiDiGraph object at 0x120b3fb30> for multiple-source evaluation\n",
      "[2024-05-24 02:16:56]>INFO>Generate set of source vertices of 166 nodes for graph=<networkx.classes.multidigraph.MultiDiGraph object at 0x120c60560> for multiple-source evaluation\n",
      "[2024-05-24 02:16:56]>INFO>Generate set of source vertices of 166 nodes for graph=<networkx.classes.multidigraph.MultiDiGraph object at 0x120c60560> for multiple-source evaluation\n",
      "[2024-05-24 02:16:57]>INFO>Generate set of source vertices of 408 nodes for graph=<networkx.classes.multidigraph.MultiDiGraph object at 0x11fe64e00> for multiple-source evaluation\n",
      "[2024-05-24 02:16:57]>INFO>Generate set of source vertices of 408 nodes for graph=<networkx.classes.multidigraph.MultiDiGraph object at 0x11fe64e00> for multiple-source evaluation\n",
      "[2024-05-24 02:16:57]>INFO>Generate set of source vertices of 366 nodes for graph=<networkx.classes.multidigraph.MultiDiGraph object at 0x121b15430> for multiple-source evaluation\n",
      "[2024-05-24 02:16:57]>INFO>Generate set of source vertices of 366 nodes for graph=<networkx.classes.multidigraph.MultiDiGraph object at 0x121b15430> for multiple-source evaluation\n",
      "[2024-05-24 02:16:59]>INFO>Generate set of source vertices of 662 nodes for graph=<networkx.classes.multidigraph.MultiDiGraph object at 0x120fd6f00> for multiple-source evaluation\n",
      "[2024-05-24 02:16:59]>INFO>Generate set of source vertices of 662 nodes for graph=<networkx.classes.multidigraph.MultiDiGraph object at 0x120fd6f00> for multiple-source evaluation\n",
      "[2024-05-24 02:17:02]>INFO>Generate set of source vertices of 3119 nodes for graph=<networkx.classes.multidigraph.MultiDiGraph object at 0x120b3fb30> for multiple-source evaluation\n",
      "[2024-05-24 02:17:02]>INFO>Generate set of source vertices of 3119 nodes for graph=<networkx.classes.multidigraph.MultiDiGraph object at 0x120b3fb30> for multiple-source evaluation\n",
      "[2024-05-24 02:17:18]>INFO>Generate set of source vertices of 166 nodes for graph=<networkx.classes.multidigraph.MultiDiGraph object at 0x120c60560> for multiple-source evaluation\n",
      "[2024-05-24 02:17:18]>INFO>Generate set of source vertices of 166 nodes for graph=<networkx.classes.multidigraph.MultiDiGraph object at 0x120c60560> for multiple-source evaluation\n",
      "[2024-05-24 02:17:18]>INFO>Generate set of source vertices of 408 nodes for graph=<networkx.classes.multidigraph.MultiDiGraph object at 0x11fe64e00> for multiple-source evaluation\n",
      "[2024-05-24 02:17:18]>INFO>Generate set of source vertices of 408 nodes for graph=<networkx.classes.multidigraph.MultiDiGraph object at 0x11fe64e00> for multiple-source evaluation\n",
      "[2024-05-24 02:17:19]>INFO>Generate set of source vertices of 366 nodes for graph=<networkx.classes.multidigraph.MultiDiGraph object at 0x121b15430> for multiple-source evaluation\n",
      "[2024-05-24 02:17:19]>INFO>Generate set of source vertices of 366 nodes for graph=<networkx.classes.multidigraph.MultiDiGraph object at 0x121b15430> for multiple-source evaluation\n",
      "[2024-05-24 02:17:21]>INFO>Generate set of source vertices of 662 nodes for graph=<networkx.classes.multidigraph.MultiDiGraph object at 0x120fd6f00> for multiple-source evaluation\n",
      "[2024-05-24 02:17:21]>INFO>Generate set of source vertices of 662 nodes for graph=<networkx.classes.multidigraph.MultiDiGraph object at 0x120fd6f00> for multiple-source evaluation\n",
      "[2024-05-24 02:17:24]>INFO>Generate set of source vertices of 3119 nodes for graph=<networkx.classes.multidigraph.MultiDiGraph object at 0x120b3fb30> for multiple-source evaluation\n",
      "[2024-05-24 02:17:24]>INFO>Generate set of source vertices of 3119 nodes for graph=<networkx.classes.multidigraph.MultiDiGraph object at 0x120b3fb30> for multiple-source evaluation\n",
      "[2024-05-24 02:17:40]>INFO>Generate set of source vertices of 166 nodes for graph=<networkx.classes.multidigraph.MultiDiGraph object at 0x120c60560> for multiple-source evaluation\n",
      "[2024-05-24 02:17:40]>INFO>Generate set of source vertices of 166 nodes for graph=<networkx.classes.multidigraph.MultiDiGraph object at 0x120c60560> for multiple-source evaluation\n",
      "[2024-05-24 02:17:40]>INFO>Generate set of source vertices of 408 nodes for graph=<networkx.classes.multidigraph.MultiDiGraph object at 0x11fe64e00> for multiple-source evaluation\n",
      "[2024-05-24 02:17:40]>INFO>Generate set of source vertices of 408 nodes for graph=<networkx.classes.multidigraph.MultiDiGraph object at 0x11fe64e00> for multiple-source evaluation\n",
      "[2024-05-24 02:17:41]>INFO>Generate set of source vertices of 366 nodes for graph=<networkx.classes.multidigraph.MultiDiGraph object at 0x121b15430> for multiple-source evaluation\n",
      "[2024-05-24 02:17:41]>INFO>Generate set of source vertices of 366 nodes for graph=<networkx.classes.multidigraph.MultiDiGraph object at 0x121b15430> for multiple-source evaluation\n",
      "[2024-05-24 02:17:41]>INFO>Generate set of source vertices of 662 nodes for graph=<networkx.classes.multidigraph.MultiDiGraph object at 0x120fd6f00> for multiple-source evaluation\n",
      "[2024-05-24 02:17:41]>INFO>Generate set of source vertices of 662 nodes for graph=<networkx.classes.multidigraph.MultiDiGraph object at 0x120fd6f00> for multiple-source evaluation\n",
      "[2024-05-24 02:17:42]>INFO>Generate set of source vertices of 3119 nodes for graph=<networkx.classes.multidigraph.MultiDiGraph object at 0x120b3fb30> for multiple-source evaluation\n",
      "[2024-05-24 02:17:42]>INFO>Generate set of source vertices of 3119 nodes for graph=<networkx.classes.multidigraph.MultiDiGraph object at 0x120b3fb30> for multiple-source evaluation\n",
      "[2024-05-24 02:17:45]>INFO>Generate set of source vertices of 166 nodes for graph=<networkx.classes.multidigraph.MultiDiGraph object at 0x120c60560> for multiple-source evaluation\n",
      "[2024-05-24 02:17:45]>INFO>Generate set of source vertices of 166 nodes for graph=<networkx.classes.multidigraph.MultiDiGraph object at 0x120c60560> for multiple-source evaluation\n",
      "[2024-05-24 02:17:45]>INFO>Generate set of source vertices of 408 nodes for graph=<networkx.classes.multidigraph.MultiDiGraph object at 0x11fe64e00> for multiple-source evaluation\n",
      "[2024-05-24 02:17:45]>INFO>Generate set of source vertices of 408 nodes for graph=<networkx.classes.multidigraph.MultiDiGraph object at 0x11fe64e00> for multiple-source evaluation\n",
      "[2024-05-24 02:17:45]>INFO>Generate set of source vertices of 366 nodes for graph=<networkx.classes.multidigraph.MultiDiGraph object at 0x121b15430> for multiple-source evaluation\n",
      "[2024-05-24 02:17:45]>INFO>Generate set of source vertices of 366 nodes for graph=<networkx.classes.multidigraph.MultiDiGraph object at 0x121b15430> for multiple-source evaluation\n",
      "[2024-05-24 02:17:46]>INFO>Generate set of source vertices of 662 nodes for graph=<networkx.classes.multidigraph.MultiDiGraph object at 0x120fd6f00> for multiple-source evaluation\n",
      "[2024-05-24 02:17:46]>INFO>Generate set of source vertices of 662 nodes for graph=<networkx.classes.multidigraph.MultiDiGraph object at 0x120fd6f00> for multiple-source evaluation\n",
      "[2024-05-24 02:17:46]>INFO>Generate set of source vertices of 3119 nodes for graph=<networkx.classes.multidigraph.MultiDiGraph object at 0x120b3fb30> for multiple-source evaluation\n",
      "[2024-05-24 02:17:46]>INFO>Generate set of source vertices of 3119 nodes for graph=<networkx.classes.multidigraph.MultiDiGraph object at 0x120b3fb30> for multiple-source evaluation\n",
      "[2024-05-24 02:17:49]>INFO>Generate set of source vertices of 166 nodes for graph=<networkx.classes.multidigraph.MultiDiGraph object at 0x120c60560> for multiple-source evaluation\n",
      "[2024-05-24 02:17:49]>INFO>Generate set of source vertices of 166 nodes for graph=<networkx.classes.multidigraph.MultiDiGraph object at 0x120c60560> for multiple-source evaluation\n",
      "[2024-05-24 02:17:49]>INFO>Generate set of source vertices of 408 nodes for graph=<networkx.classes.multidigraph.MultiDiGraph object at 0x11fe64e00> for multiple-source evaluation\n",
      "[2024-05-24 02:17:49]>INFO>Generate set of source vertices of 408 nodes for graph=<networkx.classes.multidigraph.MultiDiGraph object at 0x11fe64e00> for multiple-source evaluation\n",
      "[2024-05-24 02:17:50]>INFO>Generate set of source vertices of 366 nodes for graph=<networkx.classes.multidigraph.MultiDiGraph object at 0x121b15430> for multiple-source evaluation\n",
      "[2024-05-24 02:17:50]>INFO>Generate set of source vertices of 366 nodes for graph=<networkx.classes.multidigraph.MultiDiGraph object at 0x121b15430> for multiple-source evaluation\n",
      "[2024-05-24 02:17:52]>INFO>Generate set of source vertices of 662 nodes for graph=<networkx.classes.multidigraph.MultiDiGraph object at 0x120fd6f00> for multiple-source evaluation\n",
      "[2024-05-24 02:17:52]>INFO>Generate set of source vertices of 662 nodes for graph=<networkx.classes.multidigraph.MultiDiGraph object at 0x120fd6f00> for multiple-source evaluation\n",
      "[2024-05-24 02:17:55]>INFO>Generate set of source vertices of 3119 nodes for graph=<networkx.classes.multidigraph.MultiDiGraph object at 0x120b3fb30> for multiple-source evaluation\n",
      "[2024-05-24 02:17:55]>INFO>Generate set of source vertices of 3119 nodes for graph=<networkx.classes.multidigraph.MultiDiGraph object at 0x120b3fb30> for multiple-source evaluation\n",
      "[2024-05-24 02:18:10]>INFO>Generate set of source vertices of 166 nodes for graph=<networkx.classes.multidigraph.MultiDiGraph object at 0x120c60560> for multiple-source evaluation\n",
      "[2024-05-24 02:18:10]>INFO>Generate set of source vertices of 166 nodes for graph=<networkx.classes.multidigraph.MultiDiGraph object at 0x120c60560> for multiple-source evaluation\n",
      "[2024-05-24 02:18:11]>INFO>Generate set of source vertices of 408 nodes for graph=<networkx.classes.multidigraph.MultiDiGraph object at 0x11fe64e00> for multiple-source evaluation\n",
      "[2024-05-24 02:18:11]>INFO>Generate set of source vertices of 408 nodes for graph=<networkx.classes.multidigraph.MultiDiGraph object at 0x11fe64e00> for multiple-source evaluation\n",
      "[2024-05-24 02:18:11]>INFO>Generate set of source vertices of 366 nodes for graph=<networkx.classes.multidigraph.MultiDiGraph object at 0x121b15430> for multiple-source evaluation\n",
      "[2024-05-24 02:18:11]>INFO>Generate set of source vertices of 366 nodes for graph=<networkx.classes.multidigraph.MultiDiGraph object at 0x121b15430> for multiple-source evaluation\n",
      "[2024-05-24 02:18:13]>INFO>Generate set of source vertices of 662 nodes for graph=<networkx.classes.multidigraph.MultiDiGraph object at 0x120fd6f00> for multiple-source evaluation\n",
      "[2024-05-24 02:18:13]>INFO>Generate set of source vertices of 662 nodes for graph=<networkx.classes.multidigraph.MultiDiGraph object at 0x120fd6f00> for multiple-source evaluation\n",
      "[2024-05-24 02:18:16]>INFO>Generate set of source vertices of 3119 nodes for graph=<networkx.classes.multidigraph.MultiDiGraph object at 0x120b3fb30> for multiple-source evaluation\n",
      "[2024-05-24 02:18:16]>INFO>Generate set of source vertices of 3119 nodes for graph=<networkx.classes.multidigraph.MultiDiGraph object at 0x120b3fb30> for multiple-source evaluation\n",
      "[2024-05-24 02:18:32]>INFO>Generate set of source vertices of 166 nodes for graph=<networkx.classes.multidigraph.MultiDiGraph object at 0x120c60560> for multiple-source evaluation\n",
      "[2024-05-24 02:18:32]>INFO>Generate set of source vertices of 166 nodes for graph=<networkx.classes.multidigraph.MultiDiGraph object at 0x120c60560> for multiple-source evaluation\n",
      "[2024-05-24 02:18:32]>INFO>Generate set of source vertices of 408 nodes for graph=<networkx.classes.multidigraph.MultiDiGraph object at 0x11fe64e00> for multiple-source evaluation\n",
      "[2024-05-24 02:18:32]>INFO>Generate set of source vertices of 408 nodes for graph=<networkx.classes.multidigraph.MultiDiGraph object at 0x11fe64e00> for multiple-source evaluation\n",
      "[2024-05-24 02:18:32]>INFO>Generate set of source vertices of 366 nodes for graph=<networkx.classes.multidigraph.MultiDiGraph object at 0x121b15430> for multiple-source evaluation\n",
      "[2024-05-24 02:18:32]>INFO>Generate set of source vertices of 366 nodes for graph=<networkx.classes.multidigraph.MultiDiGraph object at 0x121b15430> for multiple-source evaluation\n",
      "[2024-05-24 02:18:33]>INFO>Generate set of source vertices of 662 nodes for graph=<networkx.classes.multidigraph.MultiDiGraph object at 0x120fd6f00> for multiple-source evaluation\n",
      "[2024-05-24 02:18:33]>INFO>Generate set of source vertices of 662 nodes for graph=<networkx.classes.multidigraph.MultiDiGraph object at 0x120fd6f00> for multiple-source evaluation\n",
      "[2024-05-24 02:18:34]>INFO>Generate set of source vertices of 3119 nodes for graph=<networkx.classes.multidigraph.MultiDiGraph object at 0x120b3fb30> for multiple-source evaluation\n",
      "[2024-05-24 02:18:34]>INFO>Generate set of source vertices of 3119 nodes for graph=<networkx.classes.multidigraph.MultiDiGraph object at 0x120b3fb30> for multiple-source evaluation\n",
      "[2024-05-24 02:18:36]>INFO>Generate set of source vertices of 166 nodes for graph=<networkx.classes.multidigraph.MultiDiGraph object at 0x120c60560> for multiple-source evaluation\n",
      "[2024-05-24 02:18:36]>INFO>Generate set of source vertices of 166 nodes for graph=<networkx.classes.multidigraph.MultiDiGraph object at 0x120c60560> for multiple-source evaluation\n",
      "[2024-05-24 02:18:36]>INFO>Generate set of source vertices of 408 nodes for graph=<networkx.classes.multidigraph.MultiDiGraph object at 0x11fe64e00> for multiple-source evaluation\n",
      "[2024-05-24 02:18:36]>INFO>Generate set of source vertices of 408 nodes for graph=<networkx.classes.multidigraph.MultiDiGraph object at 0x11fe64e00> for multiple-source evaluation\n",
      "[2024-05-24 02:18:37]>INFO>Generate set of source vertices of 366 nodes for graph=<networkx.classes.multidigraph.MultiDiGraph object at 0x121b15430> for multiple-source evaluation\n",
      "[2024-05-24 02:18:37]>INFO>Generate set of source vertices of 366 nodes for graph=<networkx.classes.multidigraph.MultiDiGraph object at 0x121b15430> for multiple-source evaluation\n",
      "[2024-05-24 02:18:37]>INFO>Generate set of source vertices of 662 nodes for graph=<networkx.classes.multidigraph.MultiDiGraph object at 0x120fd6f00> for multiple-source evaluation\n",
      "[2024-05-24 02:18:37]>INFO>Generate set of source vertices of 662 nodes for graph=<networkx.classes.multidigraph.MultiDiGraph object at 0x120fd6f00> for multiple-source evaluation\n",
      "[2024-05-24 02:18:37]>INFO>Generate set of source vertices of 3119 nodes for graph=<networkx.classes.multidigraph.MultiDiGraph object at 0x120b3fb30> for multiple-source evaluation\n",
      "[2024-05-24 02:18:37]>INFO>Generate set of source vertices of 3119 nodes for graph=<networkx.classes.multidigraph.MultiDiGraph object at 0x120b3fb30> for multiple-source evaluation\n",
      "[2024-05-24 02:18:39]>INFO>Generate set of source vertices of 166 nodes for graph=<networkx.classes.multidigraph.MultiDiGraph object at 0x120c60560> for multiple-source evaluation\n",
      "[2024-05-24 02:18:39]>INFO>Generate set of source vertices of 166 nodes for graph=<networkx.classes.multidigraph.MultiDiGraph object at 0x120c60560> for multiple-source evaluation\n",
      "[2024-05-24 02:18:40]>INFO>Generate set of source vertices of 408 nodes for graph=<networkx.classes.multidigraph.MultiDiGraph object at 0x11fe64e00> for multiple-source evaluation\n",
      "[2024-05-24 02:18:40]>INFO>Generate set of source vertices of 408 nodes for graph=<networkx.classes.multidigraph.MultiDiGraph object at 0x11fe64e00> for multiple-source evaluation\n",
      "[2024-05-24 02:18:40]>INFO>Generate set of source vertices of 366 nodes for graph=<networkx.classes.multidigraph.MultiDiGraph object at 0x121b15430> for multiple-source evaluation\n",
      "[2024-05-24 02:18:40]>INFO>Generate set of source vertices of 366 nodes for graph=<networkx.classes.multidigraph.MultiDiGraph object at 0x121b15430> for multiple-source evaluation\n",
      "[2024-05-24 02:18:42]>INFO>Generate set of source vertices of 662 nodes for graph=<networkx.classes.multidigraph.MultiDiGraph object at 0x120fd6f00> for multiple-source evaluation\n",
      "[2024-05-24 02:18:42]>INFO>Generate set of source vertices of 662 nodes for graph=<networkx.classes.multidigraph.MultiDiGraph object at 0x120fd6f00> for multiple-source evaluation\n",
      "[2024-05-24 02:18:45]>INFO>Generate set of source vertices of 3119 nodes for graph=<networkx.classes.multidigraph.MultiDiGraph object at 0x120b3fb30> for multiple-source evaluation\n",
      "[2024-05-24 02:18:45]>INFO>Generate set of source vertices of 3119 nodes for graph=<networkx.classes.multidigraph.MultiDiGraph object at 0x120b3fb30> for multiple-source evaluation\n",
      "[2024-05-24 02:19:03]>INFO>Generate set of source vertices of 166 nodes for graph=<networkx.classes.multidigraph.MultiDiGraph object at 0x120c60560> for multiple-source evaluation\n",
      "[2024-05-24 02:19:03]>INFO>Generate set of source vertices of 166 nodes for graph=<networkx.classes.multidigraph.MultiDiGraph object at 0x120c60560> for multiple-source evaluation\n",
      "[2024-05-24 02:19:03]>INFO>Generate set of source vertices of 408 nodes for graph=<networkx.classes.multidigraph.MultiDiGraph object at 0x11fe64e00> for multiple-source evaluation\n",
      "[2024-05-24 02:19:03]>INFO>Generate set of source vertices of 408 nodes for graph=<networkx.classes.multidigraph.MultiDiGraph object at 0x11fe64e00> for multiple-source evaluation\n",
      "[2024-05-24 02:19:04]>INFO>Generate set of source vertices of 366 nodes for graph=<networkx.classes.multidigraph.MultiDiGraph object at 0x121b15430> for multiple-source evaluation\n",
      "[2024-05-24 02:19:04]>INFO>Generate set of source vertices of 366 nodes for graph=<networkx.classes.multidigraph.MultiDiGraph object at 0x121b15430> for multiple-source evaluation\n",
      "[2024-05-24 02:19:07]>INFO>Generate set of source vertices of 662 nodes for graph=<networkx.classes.multidigraph.MultiDiGraph object at 0x120fd6f00> for multiple-source evaluation\n",
      "[2024-05-24 02:19:07]>INFO>Generate set of source vertices of 662 nodes for graph=<networkx.classes.multidigraph.MultiDiGraph object at 0x120fd6f00> for multiple-source evaluation\n",
      "[2024-05-24 02:19:09]>INFO>Generate set of source vertices of 3119 nodes for graph=<networkx.classes.multidigraph.MultiDiGraph object at 0x120b3fb30> for multiple-source evaluation\n",
      "[2024-05-24 02:19:09]>INFO>Generate set of source vertices of 3119 nodes for graph=<networkx.classes.multidigraph.MultiDiGraph object at 0x120b3fb30> for multiple-source evaluation\n",
      "[2024-05-24 02:19:29]>INFO>Generate set of source vertices of 166 nodes for graph=<networkx.classes.multidigraph.MultiDiGraph object at 0x120c60560> for multiple-source evaluation\n",
      "[2024-05-24 02:19:29]>INFO>Generate set of source vertices of 166 nodes for graph=<networkx.classes.multidigraph.MultiDiGraph object at 0x120c60560> for multiple-source evaluation\n",
      "[2024-05-24 02:19:29]>INFO>Generate set of source vertices of 408 nodes for graph=<networkx.classes.multidigraph.MultiDiGraph object at 0x11fe64e00> for multiple-source evaluation\n",
      "[2024-05-24 02:19:29]>INFO>Generate set of source vertices of 408 nodes for graph=<networkx.classes.multidigraph.MultiDiGraph object at 0x11fe64e00> for multiple-source evaluation\n",
      "[2024-05-24 02:19:29]>INFO>Generate set of source vertices of 366 nodes for graph=<networkx.classes.multidigraph.MultiDiGraph object at 0x121b15430> for multiple-source evaluation\n",
      "[2024-05-24 02:19:29]>INFO>Generate set of source vertices of 366 nodes for graph=<networkx.classes.multidigraph.MultiDiGraph object at 0x121b15430> for multiple-source evaluation\n",
      "[2024-05-24 02:19:30]>INFO>Generate set of source vertices of 662 nodes for graph=<networkx.classes.multidigraph.MultiDiGraph object at 0x120fd6f00> for multiple-source evaluation\n",
      "[2024-05-24 02:19:30]>INFO>Generate set of source vertices of 662 nodes for graph=<networkx.classes.multidigraph.MultiDiGraph object at 0x120fd6f00> for multiple-source evaluation\n",
      "[2024-05-24 02:19:31]>INFO>Generate set of source vertices of 3119 nodes for graph=<networkx.classes.multidigraph.MultiDiGraph object at 0x120b3fb30> for multiple-source evaluation\n",
      "[2024-05-24 02:19:31]>INFO>Generate set of source vertices of 3119 nodes for graph=<networkx.classes.multidigraph.MultiDiGraph object at 0x120b3fb30> for multiple-source evaluation\n",
      "[2024-05-24 02:19:34]>INFO>Generate set of source vertices of 166 nodes for graph=<networkx.classes.multidigraph.MultiDiGraph object at 0x120c60560> for multiple-source evaluation\n",
      "[2024-05-24 02:19:34]>INFO>Generate set of source vertices of 166 nodes for graph=<networkx.classes.multidigraph.MultiDiGraph object at 0x120c60560> for multiple-source evaluation\n",
      "[2024-05-24 02:19:35]>INFO>Generate set of source vertices of 408 nodes for graph=<networkx.classes.multidigraph.MultiDiGraph object at 0x11fe64e00> for multiple-source evaluation\n",
      "[2024-05-24 02:19:35]>INFO>Generate set of source vertices of 408 nodes for graph=<networkx.classes.multidigraph.MultiDiGraph object at 0x11fe64e00> for multiple-source evaluation\n",
      "[2024-05-24 02:19:35]>INFO>Generate set of source vertices of 366 nodes for graph=<networkx.classes.multidigraph.MultiDiGraph object at 0x121b15430> for multiple-source evaluation\n",
      "[2024-05-24 02:19:35]>INFO>Generate set of source vertices of 366 nodes for graph=<networkx.classes.multidigraph.MultiDiGraph object at 0x121b15430> for multiple-source evaluation\n",
      "[2024-05-24 02:19:35]>INFO>Generate set of source vertices of 662 nodes for graph=<networkx.classes.multidigraph.MultiDiGraph object at 0x120fd6f00> for multiple-source evaluation\n",
      "[2024-05-24 02:19:35]>INFO>Generate set of source vertices of 662 nodes for graph=<networkx.classes.multidigraph.MultiDiGraph object at 0x120fd6f00> for multiple-source evaluation\n",
      "[2024-05-24 02:19:36]>INFO>Generate set of source vertices of 3119 nodes for graph=<networkx.classes.multidigraph.MultiDiGraph object at 0x120b3fb30> for multiple-source evaluation\n",
      "[2024-05-24 02:19:36]>INFO>Generate set of source vertices of 3119 nodes for graph=<networkx.classes.multidigraph.MultiDiGraph object at 0x120b3fb30> for multiple-source evaluation\n",
      "[2024-05-24 02:19:39]>INFO>Generate set of source vertices of 166 nodes for graph=<networkx.classes.multidigraph.MultiDiGraph object at 0x120c60560> for multiple-source evaluation\n",
      "[2024-05-24 02:19:39]>INFO>Generate set of source vertices of 166 nodes for graph=<networkx.classes.multidigraph.MultiDiGraph object at 0x120c60560> for multiple-source evaluation\n",
      "[2024-05-24 02:19:39]>INFO>Generate set of source vertices of 408 nodes for graph=<networkx.classes.multidigraph.MultiDiGraph object at 0x11fe64e00> for multiple-source evaluation\n",
      "[2024-05-24 02:19:39]>INFO>Generate set of source vertices of 408 nodes for graph=<networkx.classes.multidigraph.MultiDiGraph object at 0x11fe64e00> for multiple-source evaluation\n",
      "[2024-05-24 02:19:40]>INFO>Generate set of source vertices of 366 nodes for graph=<networkx.classes.multidigraph.MultiDiGraph object at 0x121b15430> for multiple-source evaluation\n",
      "[2024-05-24 02:19:40]>INFO>Generate set of source vertices of 366 nodes for graph=<networkx.classes.multidigraph.MultiDiGraph object at 0x121b15430> for multiple-source evaluation\n",
      "[2024-05-24 02:19:42]>INFO>Generate set of source vertices of 662 nodes for graph=<networkx.classes.multidigraph.MultiDiGraph object at 0x120fd6f00> for multiple-source evaluation\n",
      "[2024-05-24 02:19:42]>INFO>Generate set of source vertices of 662 nodes for graph=<networkx.classes.multidigraph.MultiDiGraph object at 0x120fd6f00> for multiple-source evaluation\n",
      "[2024-05-24 02:19:45]>INFO>Generate set of source vertices of 3119 nodes for graph=<networkx.classes.multidigraph.MultiDiGraph object at 0x120b3fb30> for multiple-source evaluation\n",
      "[2024-05-24 02:19:45]>INFO>Generate set of source vertices of 3119 nodes for graph=<networkx.classes.multidigraph.MultiDiGraph object at 0x120b3fb30> for multiple-source evaluation\n",
      "[2024-05-24 02:20:04]>INFO>Generate set of source vertices of 166 nodes for graph=<networkx.classes.multidigraph.MultiDiGraph object at 0x120c60560> for multiple-source evaluation\n",
      "[2024-05-24 02:20:04]>INFO>Generate set of source vertices of 166 nodes for graph=<networkx.classes.multidigraph.MultiDiGraph object at 0x120c60560> for multiple-source evaluation\n",
      "[2024-05-24 02:20:05]>INFO>Generate set of source vertices of 408 nodes for graph=<networkx.classes.multidigraph.MultiDiGraph object at 0x11fe64e00> for multiple-source evaluation\n",
      "[2024-05-24 02:20:05]>INFO>Generate set of source vertices of 408 nodes for graph=<networkx.classes.multidigraph.MultiDiGraph object at 0x11fe64e00> for multiple-source evaluation\n",
      "[2024-05-24 02:20:06]>INFO>Generate set of source vertices of 366 nodes for graph=<networkx.classes.multidigraph.MultiDiGraph object at 0x121b15430> for multiple-source evaluation\n",
      "[2024-05-24 02:20:06]>INFO>Generate set of source vertices of 366 nodes for graph=<networkx.classes.multidigraph.MultiDiGraph object at 0x121b15430> for multiple-source evaluation\n",
      "[2024-05-24 02:20:07]>INFO>Generate set of source vertices of 662 nodes for graph=<networkx.classes.multidigraph.MultiDiGraph object at 0x120fd6f00> for multiple-source evaluation\n",
      "[2024-05-24 02:20:07]>INFO>Generate set of source vertices of 662 nodes for graph=<networkx.classes.multidigraph.MultiDiGraph object at 0x120fd6f00> for multiple-source evaluation\n",
      "[2024-05-24 02:20:10]>INFO>Generate set of source vertices of 3119 nodes for graph=<networkx.classes.multidigraph.MultiDiGraph object at 0x120b3fb30> for multiple-source evaluation\n",
      "[2024-05-24 02:20:10]>INFO>Generate set of source vertices of 3119 nodes for graph=<networkx.classes.multidigraph.MultiDiGraph object at 0x120b3fb30> for multiple-source evaluation\n",
      "[2024-05-24 02:20:28]>INFO>Generate set of source vertices of 166 nodes for graph=<networkx.classes.multidigraph.MultiDiGraph object at 0x120c60560> for multiple-source evaluation\n",
      "[2024-05-24 02:20:28]>INFO>Generate set of source vertices of 166 nodes for graph=<networkx.classes.multidigraph.MultiDiGraph object at 0x120c60560> for multiple-source evaluation\n",
      "[2024-05-24 02:20:28]>INFO>Generate set of source vertices of 408 nodes for graph=<networkx.classes.multidigraph.MultiDiGraph object at 0x11fe64e00> for multiple-source evaluation\n",
      "[2024-05-24 02:20:28]>INFO>Generate set of source vertices of 408 nodes for graph=<networkx.classes.multidigraph.MultiDiGraph object at 0x11fe64e00> for multiple-source evaluation\n",
      "[2024-05-24 02:20:28]>INFO>Generate set of source vertices of 366 nodes for graph=<networkx.classes.multidigraph.MultiDiGraph object at 0x121b15430> for multiple-source evaluation\n",
      "[2024-05-24 02:20:28]>INFO>Generate set of source vertices of 366 nodes for graph=<networkx.classes.multidigraph.MultiDiGraph object at 0x121b15430> for multiple-source evaluation\n",
      "[2024-05-24 02:20:29]>INFO>Generate set of source vertices of 662 nodes for graph=<networkx.classes.multidigraph.MultiDiGraph object at 0x120fd6f00> for multiple-source evaluation\n",
      "[2024-05-24 02:20:29]>INFO>Generate set of source vertices of 662 nodes for graph=<networkx.classes.multidigraph.MultiDiGraph object at 0x120fd6f00> for multiple-source evaluation\n",
      "[2024-05-24 02:20:30]>INFO>Generate set of source vertices of 3119 nodes for graph=<networkx.classes.multidigraph.MultiDiGraph object at 0x120b3fb30> for multiple-source evaluation\n",
      "[2024-05-24 02:20:30]>INFO>Generate set of source vertices of 3119 nodes for graph=<networkx.classes.multidigraph.MultiDiGraph object at 0x120b3fb30> for multiple-source evaluation\n",
      "[2024-05-24 02:20:32]>INFO>Generate set of source vertices of 166 nodes for graph=<networkx.classes.multidigraph.MultiDiGraph object at 0x120c60560> for multiple-source evaluation\n",
      "[2024-05-24 02:20:32]>INFO>Generate set of source vertices of 166 nodes for graph=<networkx.classes.multidigraph.MultiDiGraph object at 0x120c60560> for multiple-source evaluation\n",
      "[2024-05-24 02:20:32]>INFO>Generate set of source vertices of 408 nodes for graph=<networkx.classes.multidigraph.MultiDiGraph object at 0x11fe64e00> for multiple-source evaluation\n",
      "[2024-05-24 02:20:32]>INFO>Generate set of source vertices of 408 nodes for graph=<networkx.classes.multidigraph.MultiDiGraph object at 0x11fe64e00> for multiple-source evaluation\n",
      "[2024-05-24 02:20:32]>INFO>Generate set of source vertices of 366 nodes for graph=<networkx.classes.multidigraph.MultiDiGraph object at 0x121b15430> for multiple-source evaluation\n",
      "[2024-05-24 02:20:32]>INFO>Generate set of source vertices of 366 nodes for graph=<networkx.classes.multidigraph.MultiDiGraph object at 0x121b15430> for multiple-source evaluation\n",
      "[2024-05-24 02:20:33]>INFO>Generate set of source vertices of 662 nodes for graph=<networkx.classes.multidigraph.MultiDiGraph object at 0x120fd6f00> for multiple-source evaluation\n",
      "[2024-05-24 02:20:33]>INFO>Generate set of source vertices of 662 nodes for graph=<networkx.classes.multidigraph.MultiDiGraph object at 0x120fd6f00> for multiple-source evaluation\n",
      "[2024-05-24 02:20:34]>INFO>Generate set of source vertices of 3119 nodes for graph=<networkx.classes.multidigraph.MultiDiGraph object at 0x120b3fb30> for multiple-source evaluation\n",
      "[2024-05-24 02:20:34]>INFO>Generate set of source vertices of 3119 nodes for graph=<networkx.classes.multidigraph.MultiDiGraph object at 0x120b3fb30> for multiple-source evaluation\n",
      "[2024-05-24 02:20:36]>INFO>Generate set of source vertices of 166 nodes for graph=<networkx.classes.multidigraph.MultiDiGraph object at 0x120c60560> for multiple-source evaluation\n",
      "[2024-05-24 02:20:36]>INFO>Generate set of source vertices of 166 nodes for graph=<networkx.classes.multidigraph.MultiDiGraph object at 0x120c60560> for multiple-source evaluation\n",
      "[2024-05-24 02:20:37]>INFO>Generate set of source vertices of 408 nodes for graph=<networkx.classes.multidigraph.MultiDiGraph object at 0x11fe64e00> for multiple-source evaluation\n",
      "[2024-05-24 02:20:37]>INFO>Generate set of source vertices of 408 nodes for graph=<networkx.classes.multidigraph.MultiDiGraph object at 0x11fe64e00> for multiple-source evaluation\n",
      "[2024-05-24 02:20:38]>INFO>Generate set of source vertices of 366 nodes for graph=<networkx.classes.multidigraph.MultiDiGraph object at 0x121b15430> for multiple-source evaluation\n",
      "[2024-05-24 02:20:38]>INFO>Generate set of source vertices of 366 nodes for graph=<networkx.classes.multidigraph.MultiDiGraph object at 0x121b15430> for multiple-source evaluation\n",
      "[2024-05-24 02:20:40]>INFO>Generate set of source vertices of 662 nodes for graph=<networkx.classes.multidigraph.MultiDiGraph object at 0x120fd6f00> for multiple-source evaluation\n",
      "[2024-05-24 02:20:40]>INFO>Generate set of source vertices of 662 nodes for graph=<networkx.classes.multidigraph.MultiDiGraph object at 0x120fd6f00> for multiple-source evaluation\n",
      "[2024-05-24 02:20:44]>INFO>Generate set of source vertices of 3119 nodes for graph=<networkx.classes.multidigraph.MultiDiGraph object at 0x120b3fb30> for multiple-source evaluation\n",
      "[2024-05-24 02:20:44]>INFO>Generate set of source vertices of 3119 nodes for graph=<networkx.classes.multidigraph.MultiDiGraph object at 0x120b3fb30> for multiple-source evaluation\n",
      "[2024-05-24 02:21:01]>INFO>Generate set of source vertices of 166 nodes for graph=<networkx.classes.multidigraph.MultiDiGraph object at 0x120c60560> for multiple-source evaluation\n",
      "[2024-05-24 02:21:01]>INFO>Generate set of source vertices of 166 nodes for graph=<networkx.classes.multidigraph.MultiDiGraph object at 0x120c60560> for multiple-source evaluation\n",
      "[2024-05-24 02:21:02]>INFO>Generate set of source vertices of 408 nodes for graph=<networkx.classes.multidigraph.MultiDiGraph object at 0x11fe64e00> for multiple-source evaluation\n",
      "[2024-05-24 02:21:02]>INFO>Generate set of source vertices of 408 nodes for graph=<networkx.classes.multidigraph.MultiDiGraph object at 0x11fe64e00> for multiple-source evaluation\n",
      "[2024-05-24 02:21:03]>INFO>Generate set of source vertices of 366 nodes for graph=<networkx.classes.multidigraph.MultiDiGraph object at 0x121b15430> for multiple-source evaluation\n",
      "[2024-05-24 02:21:03]>INFO>Generate set of source vertices of 366 nodes for graph=<networkx.classes.multidigraph.MultiDiGraph object at 0x121b15430> for multiple-source evaluation\n",
      "[2024-05-24 02:21:05]>INFO>Generate set of source vertices of 662 nodes for graph=<networkx.classes.multidigraph.MultiDiGraph object at 0x120fd6f00> for multiple-source evaluation\n",
      "[2024-05-24 02:21:05]>INFO>Generate set of source vertices of 662 nodes for graph=<networkx.classes.multidigraph.MultiDiGraph object at 0x120fd6f00> for multiple-source evaluation\n",
      "[2024-05-24 02:21:08]>INFO>Generate set of source vertices of 3119 nodes for graph=<networkx.classes.multidigraph.MultiDiGraph object at 0x120b3fb30> for multiple-source evaluation\n",
      "[2024-05-24 02:21:08]>INFO>Generate set of source vertices of 3119 nodes for graph=<networkx.classes.multidigraph.MultiDiGraph object at 0x120b3fb30> for multiple-source evaluation\n",
      "[2024-05-24 02:21:25]>INFO>Generate set of source vertices of 166 nodes for graph=<networkx.classes.multidigraph.MultiDiGraph object at 0x120c60560> for multiple-source evaluation\n",
      "[2024-05-24 02:21:25]>INFO>Generate set of source vertices of 166 nodes for graph=<networkx.classes.multidigraph.MultiDiGraph object at 0x120c60560> for multiple-source evaluation\n",
      "[2024-05-24 02:21:25]>INFO>Generate set of source vertices of 408 nodes for graph=<networkx.classes.multidigraph.MultiDiGraph object at 0x11fe64e00> for multiple-source evaluation\n",
      "[2024-05-24 02:21:25]>INFO>Generate set of source vertices of 408 nodes for graph=<networkx.classes.multidigraph.MultiDiGraph object at 0x11fe64e00> for multiple-source evaluation\n",
      "[2024-05-24 02:21:25]>INFO>Generate set of source vertices of 366 nodes for graph=<networkx.classes.multidigraph.MultiDiGraph object at 0x121b15430> for multiple-source evaluation\n",
      "[2024-05-24 02:21:25]>INFO>Generate set of source vertices of 366 nodes for graph=<networkx.classes.multidigraph.MultiDiGraph object at 0x121b15430> for multiple-source evaluation\n",
      "[2024-05-24 02:21:26]>INFO>Generate set of source vertices of 662 nodes for graph=<networkx.classes.multidigraph.MultiDiGraph object at 0x120fd6f00> for multiple-source evaluation\n",
      "[2024-05-24 02:21:26]>INFO>Generate set of source vertices of 662 nodes for graph=<networkx.classes.multidigraph.MultiDiGraph object at 0x120fd6f00> for multiple-source evaluation\n",
      "[2024-05-24 02:21:27]>INFO>Generate set of source vertices of 3119 nodes for graph=<networkx.classes.multidigraph.MultiDiGraph object at 0x120b3fb30> for multiple-source evaluation\n",
      "[2024-05-24 02:21:27]>INFO>Generate set of source vertices of 3119 nodes for graph=<networkx.classes.multidigraph.MultiDiGraph object at 0x120b3fb30> for multiple-source evaluation\n",
      "[2024-05-24 02:21:29]>INFO>Generate set of source vertices of 166 nodes for graph=<networkx.classes.multidigraph.MultiDiGraph object at 0x120c60560> for multiple-source evaluation\n",
      "[2024-05-24 02:21:29]>INFO>Generate set of source vertices of 166 nodes for graph=<networkx.classes.multidigraph.MultiDiGraph object at 0x120c60560> for multiple-source evaluation\n",
      "[2024-05-24 02:21:29]>INFO>Generate set of source vertices of 408 nodes for graph=<networkx.classes.multidigraph.MultiDiGraph object at 0x11fe64e00> for multiple-source evaluation\n",
      "[2024-05-24 02:21:29]>INFO>Generate set of source vertices of 408 nodes for graph=<networkx.classes.multidigraph.MultiDiGraph object at 0x11fe64e00> for multiple-source evaluation\n",
      "[2024-05-24 02:21:30]>INFO>Generate set of source vertices of 366 nodes for graph=<networkx.classes.multidigraph.MultiDiGraph object at 0x121b15430> for multiple-source evaluation\n",
      "[2024-05-24 02:21:30]>INFO>Generate set of source vertices of 366 nodes for graph=<networkx.classes.multidigraph.MultiDiGraph object at 0x121b15430> for multiple-source evaluation\n",
      "[2024-05-24 02:21:30]>INFO>Generate set of source vertices of 662 nodes for graph=<networkx.classes.multidigraph.MultiDiGraph object at 0x120fd6f00> for multiple-source evaluation\n",
      "[2024-05-24 02:21:30]>INFO>Generate set of source vertices of 662 nodes for graph=<networkx.classes.multidigraph.MultiDiGraph object at 0x120fd6f00> for multiple-source evaluation\n",
      "[2024-05-24 02:21:30]>INFO>Generate set of source vertices of 3119 nodes for graph=<networkx.classes.multidigraph.MultiDiGraph object at 0x120b3fb30> for multiple-source evaluation\n",
      "[2024-05-24 02:21:30]>INFO>Generate set of source vertices of 3119 nodes for graph=<networkx.classes.multidigraph.MultiDiGraph object at 0x120b3fb30> for multiple-source evaluation\n",
      "[2024-05-24 02:21:33]>INFO>Generate set of source vertices of 166 nodes for graph=<networkx.classes.multidigraph.MultiDiGraph object at 0x120c60560> for multiple-source evaluation\n",
      "[2024-05-24 02:21:33]>INFO>Generate set of source vertices of 166 nodes for graph=<networkx.classes.multidigraph.MultiDiGraph object at 0x120c60560> for multiple-source evaluation\n",
      "[2024-05-24 02:21:33]>INFO>Generate set of source vertices of 408 nodes for graph=<networkx.classes.multidigraph.MultiDiGraph object at 0x11fe64e00> for multiple-source evaluation\n",
      "[2024-05-24 02:21:33]>INFO>Generate set of source vertices of 408 nodes for graph=<networkx.classes.multidigraph.MultiDiGraph object at 0x11fe64e00> for multiple-source evaluation\n",
      "[2024-05-24 02:21:34]>INFO>Generate set of source vertices of 366 nodes for graph=<networkx.classes.multidigraph.MultiDiGraph object at 0x121b15430> for multiple-source evaluation\n",
      "[2024-05-24 02:21:34]>INFO>Generate set of source vertices of 366 nodes for graph=<networkx.classes.multidigraph.MultiDiGraph object at 0x121b15430> for multiple-source evaluation\n",
      "[2024-05-24 02:21:36]>INFO>Generate set of source vertices of 662 nodes for graph=<networkx.classes.multidigraph.MultiDiGraph object at 0x120fd6f00> for multiple-source evaluation\n",
      "[2024-05-24 02:21:36]>INFO>Generate set of source vertices of 662 nodes for graph=<networkx.classes.multidigraph.MultiDiGraph object at 0x120fd6f00> for multiple-source evaluation\n",
      "[2024-05-24 02:21:40]>INFO>Generate set of source vertices of 3119 nodes for graph=<networkx.classes.multidigraph.MultiDiGraph object at 0x120b3fb30> for multiple-source evaluation\n",
      "[2024-05-24 02:21:40]>INFO>Generate set of source vertices of 3119 nodes for graph=<networkx.classes.multidigraph.MultiDiGraph object at 0x120b3fb30> for multiple-source evaluation\n",
      "[2024-05-24 02:21:56]>INFO>Generate set of source vertices of 166 nodes for graph=<networkx.classes.multidigraph.MultiDiGraph object at 0x120c60560> for multiple-source evaluation\n",
      "[2024-05-24 02:21:56]>INFO>Generate set of source vertices of 166 nodes for graph=<networkx.classes.multidigraph.MultiDiGraph object at 0x120c60560> for multiple-source evaluation\n",
      "[2024-05-24 02:21:56]>INFO>Generate set of source vertices of 408 nodes for graph=<networkx.classes.multidigraph.MultiDiGraph object at 0x11fe64e00> for multiple-source evaluation\n",
      "[2024-05-24 02:21:56]>INFO>Generate set of source vertices of 408 nodes for graph=<networkx.classes.multidigraph.MultiDiGraph object at 0x11fe64e00> for multiple-source evaluation\n",
      "[2024-05-24 02:21:57]>INFO>Generate set of source vertices of 366 nodes for graph=<networkx.classes.multidigraph.MultiDiGraph object at 0x121b15430> for multiple-source evaluation\n",
      "[2024-05-24 02:21:57]>INFO>Generate set of source vertices of 366 nodes for graph=<networkx.classes.multidigraph.MultiDiGraph object at 0x121b15430> for multiple-source evaluation\n",
      "[2024-05-24 02:21:59]>INFO>Generate set of source vertices of 662 nodes for graph=<networkx.classes.multidigraph.MultiDiGraph object at 0x120fd6f00> for multiple-source evaluation\n",
      "[2024-05-24 02:21:59]>INFO>Generate set of source vertices of 662 nodes for graph=<networkx.classes.multidigraph.MultiDiGraph object at 0x120fd6f00> for multiple-source evaluation\n",
      "[2024-05-24 02:22:02]>INFO>Generate set of source vertices of 3119 nodes for graph=<networkx.classes.multidigraph.MultiDiGraph object at 0x120b3fb30> for multiple-source evaluation\n",
      "[2024-05-24 02:22:02]>INFO>Generate set of source vertices of 3119 nodes for graph=<networkx.classes.multidigraph.MultiDiGraph object at 0x120b3fb30> for multiple-source evaluation\n",
      "[2024-05-24 02:22:18]>INFO>Generate set of source vertices of 166 nodes for graph=<networkx.classes.multidigraph.MultiDiGraph object at 0x120c60560> for multiple-source evaluation\n",
      "[2024-05-24 02:22:18]>INFO>Generate set of source vertices of 166 nodes for graph=<networkx.classes.multidigraph.MultiDiGraph object at 0x120c60560> for multiple-source evaluation\n",
      "[2024-05-24 02:22:18]>INFO>Generate set of source vertices of 408 nodes for graph=<networkx.classes.multidigraph.MultiDiGraph object at 0x11fe64e00> for multiple-source evaluation\n",
      "[2024-05-24 02:22:18]>INFO>Generate set of source vertices of 408 nodes for graph=<networkx.classes.multidigraph.MultiDiGraph object at 0x11fe64e00> for multiple-source evaluation\n",
      "[2024-05-24 02:22:18]>INFO>Generate set of source vertices of 366 nodes for graph=<networkx.classes.multidigraph.MultiDiGraph object at 0x121b15430> for multiple-source evaluation\n",
      "[2024-05-24 02:22:18]>INFO>Generate set of source vertices of 366 nodes for graph=<networkx.classes.multidigraph.MultiDiGraph object at 0x121b15430> for multiple-source evaluation\n",
      "[2024-05-24 02:22:19]>INFO>Generate set of source vertices of 662 nodes for graph=<networkx.classes.multidigraph.MultiDiGraph object at 0x120fd6f00> for multiple-source evaluation\n",
      "[2024-05-24 02:22:19]>INFO>Generate set of source vertices of 662 nodes for graph=<networkx.classes.multidigraph.MultiDiGraph object at 0x120fd6f00> for multiple-source evaluation\n",
      "[2024-05-24 02:22:20]>INFO>Generate set of source vertices of 3119 nodes for graph=<networkx.classes.multidigraph.MultiDiGraph object at 0x120b3fb30> for multiple-source evaluation\n",
      "[2024-05-24 02:22:20]>INFO>Generate set of source vertices of 3119 nodes for graph=<networkx.classes.multidigraph.MultiDiGraph object at 0x120b3fb30> for multiple-source evaluation\n",
      "[2024-05-24 02:22:22]>INFO>Generate set of source vertices of 166 nodes for graph=<networkx.classes.multidigraph.MultiDiGraph object at 0x120c60560> for multiple-source evaluation\n",
      "[2024-05-24 02:22:22]>INFO>Generate set of source vertices of 166 nodes for graph=<networkx.classes.multidigraph.MultiDiGraph object at 0x120c60560> for multiple-source evaluation\n",
      "[2024-05-24 02:22:22]>INFO>Generate set of source vertices of 408 nodes for graph=<networkx.classes.multidigraph.MultiDiGraph object at 0x11fe64e00> for multiple-source evaluation\n",
      "[2024-05-24 02:22:22]>INFO>Generate set of source vertices of 408 nodes for graph=<networkx.classes.multidigraph.MultiDiGraph object at 0x11fe64e00> for multiple-source evaluation\n",
      "[2024-05-24 02:22:22]>INFO>Generate set of source vertices of 366 nodes for graph=<networkx.classes.multidigraph.MultiDiGraph object at 0x121b15430> for multiple-source evaluation\n",
      "[2024-05-24 02:22:22]>INFO>Generate set of source vertices of 366 nodes for graph=<networkx.classes.multidigraph.MultiDiGraph object at 0x121b15430> for multiple-source evaluation\n",
      "[2024-05-24 02:22:22]>INFO>Generate set of source vertices of 662 nodes for graph=<networkx.classes.multidigraph.MultiDiGraph object at 0x120fd6f00> for multiple-source evaluation\n",
      "[2024-05-24 02:22:22]>INFO>Generate set of source vertices of 662 nodes for graph=<networkx.classes.multidigraph.MultiDiGraph object at 0x120fd6f00> for multiple-source evaluation\n",
      "[2024-05-24 02:22:23]>INFO>Generate set of source vertices of 3119 nodes for graph=<networkx.classes.multidigraph.MultiDiGraph object at 0x120b3fb30> for multiple-source evaluation\n",
      "[2024-05-24 02:22:23]>INFO>Generate set of source vertices of 3119 nodes for graph=<networkx.classes.multidigraph.MultiDiGraph object at 0x120b3fb30> for multiple-source evaluation\n",
      "[2024-05-24 02:22:25]>INFO>Generate set of source vertices of 166 nodes for graph=<networkx.classes.multidigraph.MultiDiGraph object at 0x120c60560> for multiple-source evaluation\n",
      "[2024-05-24 02:22:25]>INFO>Generate set of source vertices of 166 nodes for graph=<networkx.classes.multidigraph.MultiDiGraph object at 0x120c60560> for multiple-source evaluation\n",
      "[2024-05-24 02:22:26]>INFO>Generate set of source vertices of 408 nodes for graph=<networkx.classes.multidigraph.MultiDiGraph object at 0x11fe64e00> for multiple-source evaluation\n",
      "[2024-05-24 02:22:26]>INFO>Generate set of source vertices of 408 nodes for graph=<networkx.classes.multidigraph.MultiDiGraph object at 0x11fe64e00> for multiple-source evaluation\n",
      "[2024-05-24 02:22:27]>INFO>Generate set of source vertices of 366 nodes for graph=<networkx.classes.multidigraph.MultiDiGraph object at 0x121b15430> for multiple-source evaluation\n",
      "[2024-05-24 02:22:27]>INFO>Generate set of source vertices of 366 nodes for graph=<networkx.classes.multidigraph.MultiDiGraph object at 0x121b15430> for multiple-source evaluation\n",
      "[2024-05-24 02:22:29]>INFO>Generate set of source vertices of 662 nodes for graph=<networkx.classes.multidigraph.MultiDiGraph object at 0x120fd6f00> for multiple-source evaluation\n",
      "[2024-05-24 02:22:29]>INFO>Generate set of source vertices of 662 nodes for graph=<networkx.classes.multidigraph.MultiDiGraph object at 0x120fd6f00> for multiple-source evaluation\n",
      "[2024-05-24 02:22:32]>INFO>Generate set of source vertices of 3119 nodes for graph=<networkx.classes.multidigraph.MultiDiGraph object at 0x120b3fb30> for multiple-source evaluation\n",
      "[2024-05-24 02:22:32]>INFO>Generate set of source vertices of 3119 nodes for graph=<networkx.classes.multidigraph.MultiDiGraph object at 0x120b3fb30> for multiple-source evaluation\n"
     ]
    }
   ],
   "source": [
    "matix_classes = [lil_matrix, dok_matrix, csc_matrix, csr_matrix]\n",
    "algorithms = [paths_ends]\n",
    "num_cases = 10\n",
    "times = {}\n",
    "\n",
    "for i in range(num_cases):\n",
    "    for matrix_class in matix_classes:\n",
    "        times[matrix_class_mapper(matrix_class)] = 0\n",
    "        for algoritm in algorithms:\n",
    "            for graph_name in graph_names:\n",
    "                time = run(algoritm, graph_name, matrix_class)\n",
    "                times[matrix_class_mapper(matrix_class)] += time.microseconds\n",
    "            \n",
    "\n",
    "for matrix_class in matix_classes:\n",
    "        print(f\"{matrix_class_mapper(matrix_class)} time: {times[matrix_class_mapper(matrix_class)]/num_cases}\")\n",
    "\n",
    "            "
   ],
   "metadata": {
    "collapsed": false,
    "is_executing": true,
    "ExecuteTime": {
     "start_time": "2024-05-23T23:15:41.885882Z"
    }
   },
   "id": "d95e55d0a498fc43"
  },
  {
   "cell_type": "markdown",
   "source": [
    "***Вывод:*** лучшее время работы показали алгоритмы, которые использовали формат lil разряженной матрицы."
   ],
   "metadata": {
    "collapsed": false
   },
   "id": "334f8d3c3692d836"
  },
  {
   "cell_type": "markdown",
   "source": [
    "### Когда целесообразно использовать каждый из алгоритмов?\n",
    "\n",
    "Для ответа на этот вопрос поступим следующим образом: сравним время работы алгоритмов path_ends (который по факту решает задачу достижимости между всеми парами вершин) и reachability_with_constraints (ккоторый вешает закдачу дстижимости для заданных сстартовых вершин) на графах wc и wine, выбирая начальные врещины в кколичстве [0.1, 0.2, 0.3, 0.4, 0.5, 0.6, 0.7, 0.8, 0.9, 1] от всех вершин графа\n",
    "\n"
   ],
   "metadata": {
    "collapsed": false
   },
   "id": "6e2fa86fa5ff94d1"
  },
  {
   "cell_type": "code",
   "execution_count": 11,
   "outputs": [
    {
     "name": "stderr",
     "output_type": "stream",
     "text": [
      "[2024-05-24 02:11:32]>INFO>Generate set of source vertices of 332 nodes for graph=<networkx.classes.multidigraph.MultiDiGraph object at 0x120c60560> for multiple-source evaluation\n",
      "[2024-05-24 02:11:32]>INFO>Generate set of source vertices of 33 nodes for graph=<networkx.classes.multidigraph.MultiDiGraph object at 0x120c60560> for multiple-source evaluation\n",
      "[2024-05-24 02:11:32]>INFO>Generate set of source vertices of 66 nodes for graph=<networkx.classes.multidigraph.MultiDiGraph object at 0x120c60560> for multiple-source evaluation\n",
      "[2024-05-24 02:11:32]>INFO>Generate set of source vertices of 100 nodes for graph=<networkx.classes.multidigraph.MultiDiGraph object at 0x120c60560> for multiple-source evaluation\n",
      "[2024-05-24 02:11:33]>INFO>Generate set of source vertices of 133 nodes for graph=<networkx.classes.multidigraph.MultiDiGraph object at 0x120c60560> for multiple-source evaluation\n",
      "[2024-05-24 02:11:33]>INFO>Generate set of source vertices of 166 nodes for graph=<networkx.classes.multidigraph.MultiDiGraph object at 0x120c60560> for multiple-source evaluation\n",
      "[2024-05-24 02:11:33]>INFO>Generate set of source vertices of 199 nodes for graph=<networkx.classes.multidigraph.MultiDiGraph object at 0x120c60560> for multiple-source evaluation\n",
      "[2024-05-24 02:11:33]>INFO>Generate set of source vertices of 232 nodes for graph=<networkx.classes.multidigraph.MultiDiGraph object at 0x120c60560> for multiple-source evaluation\n",
      "[2024-05-24 02:11:34]>INFO>Generate set of source vertices of 266 nodes for graph=<networkx.classes.multidigraph.MultiDiGraph object at 0x120c60560> for multiple-source evaluation\n",
      "[2024-05-24 02:11:34]>INFO>Generate set of source vertices of 299 nodes for graph=<networkx.classes.multidigraph.MultiDiGraph object at 0x120c60560> for multiple-source evaluation\n",
      "[2024-05-24 02:11:34]>INFO>Generate set of source vertices of 332 nodes for graph=<networkx.classes.multidigraph.MultiDiGraph object at 0x120c60560> for multiple-source evaluation\n",
      "[2024-05-24 02:11:34]>INFO>Generate set of source vertices of 733 nodes for graph=<networkx.classes.multidigraph.MultiDiGraph object at 0x121b15430> for multiple-source evaluation\n",
      "[2024-05-24 02:11:34]>INFO>Generate set of source vertices of 73 nodes for graph=<networkx.classes.multidigraph.MultiDiGraph object at 0x121b15430> for multiple-source evaluation\n",
      "[2024-05-24 02:11:35]>INFO>Generate set of source vertices of 147 nodes for graph=<networkx.classes.multidigraph.MultiDiGraph object at 0x121b15430> for multiple-source evaluation\n",
      "[2024-05-24 02:11:36]>INFO>Generate set of source vertices of 220 nodes for graph=<networkx.classes.multidigraph.MultiDiGraph object at 0x121b15430> for multiple-source evaluation\n",
      "[2024-05-24 02:11:36]>INFO>Generate set of source vertices of 293 nodes for graph=<networkx.classes.multidigraph.MultiDiGraph object at 0x121b15430> for multiple-source evaluation\n",
      "[2024-05-24 02:11:37]>INFO>Generate set of source vertices of 366 nodes for graph=<networkx.classes.multidigraph.MultiDiGraph object at 0x121b15430> for multiple-source evaluation\n",
      "[2024-05-24 02:11:38]>INFO>Generate set of source vertices of 440 nodes for graph=<networkx.classes.multidigraph.MultiDiGraph object at 0x121b15430> for multiple-source evaluation\n",
      "[2024-05-24 02:11:38]>INFO>Generate set of source vertices of 513 nodes for graph=<networkx.classes.multidigraph.MultiDiGraph object at 0x121b15430> for multiple-source evaluation\n",
      "[2024-05-24 02:11:39]>INFO>Generate set of source vertices of 586 nodes for graph=<networkx.classes.multidigraph.MultiDiGraph object at 0x121b15430> for multiple-source evaluation\n",
      "[2024-05-24 02:11:40]>INFO>Generate set of source vertices of 660 nodes for graph=<networkx.classes.multidigraph.MultiDiGraph object at 0x121b15430> for multiple-source evaluation\n",
      "[2024-05-24 02:11:40]>INFO>Generate set of source vertices of 733 nodes for graph=<networkx.classes.multidigraph.MultiDiGraph object at 0x121b15430> for multiple-source evaluation\n",
      "[2024-05-24 02:11:41]>INFO>Generate set of source vertices of 332 nodes for graph=<networkx.classes.multidigraph.MultiDiGraph object at 0x120c60560> for multiple-source evaluation\n",
      "[2024-05-24 02:11:41]>INFO>Generate set of source vertices of 33 nodes for graph=<networkx.classes.multidigraph.MultiDiGraph object at 0x120c60560> for multiple-source evaluation\n",
      "[2024-05-24 02:11:41]>INFO>Generate set of source vertices of 66 nodes for graph=<networkx.classes.multidigraph.MultiDiGraph object at 0x120c60560> for multiple-source evaluation\n"
     ]
    },
    {
     "name": "stdout",
     "output_type": "stream",
     "text": [
      "wc\n",
      "wine\n"
     ]
    },
    {
     "name": "stderr",
     "output_type": "stream",
     "text": [
      "[2024-05-24 02:11:41]>INFO>Generate set of source vertices of 100 nodes for graph=<networkx.classes.multidigraph.MultiDiGraph object at 0x120c60560> for multiple-source evaluation\n",
      "[2024-05-24 02:11:41]>INFO>Generate set of source vertices of 133 nodes for graph=<networkx.classes.multidigraph.MultiDiGraph object at 0x120c60560> for multiple-source evaluation\n",
      "[2024-05-24 02:11:42]>INFO>Generate set of source vertices of 166 nodes for graph=<networkx.classes.multidigraph.MultiDiGraph object at 0x120c60560> for multiple-source evaluation\n",
      "[2024-05-24 02:11:42]>INFO>Generate set of source vertices of 199 nodes for graph=<networkx.classes.multidigraph.MultiDiGraph object at 0x120c60560> for multiple-source evaluation\n",
      "[2024-05-24 02:11:42]>INFO>Generate set of source vertices of 232 nodes for graph=<networkx.classes.multidigraph.MultiDiGraph object at 0x120c60560> for multiple-source evaluation\n",
      "[2024-05-24 02:11:42]>INFO>Generate set of source vertices of 266 nodes for graph=<networkx.classes.multidigraph.MultiDiGraph object at 0x120c60560> for multiple-source evaluation\n",
      "[2024-05-24 02:11:43]>INFO>Generate set of source vertices of 299 nodes for graph=<networkx.classes.multidigraph.MultiDiGraph object at 0x120c60560> for multiple-source evaluation\n",
      "[2024-05-24 02:11:43]>INFO>Generate set of source vertices of 332 nodes for graph=<networkx.classes.multidigraph.MultiDiGraph object at 0x120c60560> for multiple-source evaluation\n",
      "[2024-05-24 02:11:43]>INFO>Generate set of source vertices of 733 nodes for graph=<networkx.classes.multidigraph.MultiDiGraph object at 0x121b15430> for multiple-source evaluation\n",
      "[2024-05-24 02:11:43]>INFO>Generate set of source vertices of 73 nodes for graph=<networkx.classes.multidigraph.MultiDiGraph object at 0x121b15430> for multiple-source evaluation\n",
      "[2024-05-24 02:11:44]>INFO>Generate set of source vertices of 147 nodes for graph=<networkx.classes.multidigraph.MultiDiGraph object at 0x121b15430> for multiple-source evaluation\n",
      "[2024-05-24 02:11:45]>INFO>Generate set of source vertices of 220 nodes for graph=<networkx.classes.multidigraph.MultiDiGraph object at 0x121b15430> for multiple-source evaluation\n",
      "[2024-05-24 02:11:45]>INFO>Generate set of source vertices of 293 nodes for graph=<networkx.classes.multidigraph.MultiDiGraph object at 0x121b15430> for multiple-source evaluation\n",
      "[2024-05-24 02:11:46]>INFO>Generate set of source vertices of 366 nodes for graph=<networkx.classes.multidigraph.MultiDiGraph object at 0x121b15430> for multiple-source evaluation\n",
      "[2024-05-24 02:11:47]>INFO>Generate set of source vertices of 440 nodes for graph=<networkx.classes.multidigraph.MultiDiGraph object at 0x121b15430> for multiple-source evaluation\n",
      "[2024-05-24 02:11:48]>INFO>Generate set of source vertices of 513 nodes for graph=<networkx.classes.multidigraph.MultiDiGraph object at 0x121b15430> for multiple-source evaluation\n",
      "[2024-05-24 02:11:49]>INFO>Generate set of source vertices of 586 nodes for graph=<networkx.classes.multidigraph.MultiDiGraph object at 0x121b15430> for multiple-source evaluation\n",
      "[2024-05-24 02:11:50]>INFO>Generate set of source vertices of 660 nodes for graph=<networkx.classes.multidigraph.MultiDiGraph object at 0x121b15430> for multiple-source evaluation\n",
      "[2024-05-24 02:11:51]>INFO>Generate set of source vertices of 733 nodes for graph=<networkx.classes.multidigraph.MultiDiGraph object at 0x121b15430> for multiple-source evaluation\n",
      "[2024-05-24 02:11:51]>INFO>Generate set of source vertices of 332 nodes for graph=<networkx.classes.multidigraph.MultiDiGraph object at 0x120c60560> for multiple-source evaluation\n",
      "[2024-05-24 02:11:51]>INFO>Generate set of source vertices of 33 nodes for graph=<networkx.classes.multidigraph.MultiDiGraph object at 0x120c60560> for multiple-source evaluation\n",
      "[2024-05-24 02:11:52]>INFO>Generate set of source vertices of 66 nodes for graph=<networkx.classes.multidigraph.MultiDiGraph object at 0x120c60560> for multiple-source evaluation\n"
     ]
    },
    {
     "name": "stdout",
     "output_type": "stream",
     "text": [
      "wc\n",
      "wine\n"
     ]
    },
    {
     "name": "stderr",
     "output_type": "stream",
     "text": [
      "[2024-05-24 02:11:52]>INFO>Generate set of source vertices of 100 nodes for graph=<networkx.classes.multidigraph.MultiDiGraph object at 0x120c60560> for multiple-source evaluation\n",
      "[2024-05-24 02:11:52]>INFO>Generate set of source vertices of 133 nodes for graph=<networkx.classes.multidigraph.MultiDiGraph object at 0x120c60560> for multiple-source evaluation\n",
      "[2024-05-24 02:11:53]>INFO>Generate set of source vertices of 166 nodes for graph=<networkx.classes.multidigraph.MultiDiGraph object at 0x120c60560> for multiple-source evaluation\n",
      "[2024-05-24 02:11:53]>INFO>Generate set of source vertices of 199 nodes for graph=<networkx.classes.multidigraph.MultiDiGraph object at 0x120c60560> for multiple-source evaluation\n",
      "[2024-05-24 02:11:53]>INFO>Generate set of source vertices of 232 nodes for graph=<networkx.classes.multidigraph.MultiDiGraph object at 0x120c60560> for multiple-source evaluation\n",
      "[2024-05-24 02:11:54]>INFO>Generate set of source vertices of 266 nodes for graph=<networkx.classes.multidigraph.MultiDiGraph object at 0x120c60560> for multiple-source evaluation\n",
      "[2024-05-24 02:11:54]>INFO>Generate set of source vertices of 299 nodes for graph=<networkx.classes.multidigraph.MultiDiGraph object at 0x120c60560> for multiple-source evaluation\n",
      "[2024-05-24 02:11:54]>INFO>Generate set of source vertices of 332 nodes for graph=<networkx.classes.multidigraph.MultiDiGraph object at 0x120c60560> for multiple-source evaluation\n",
      "[2024-05-24 02:11:54]>INFO>Generate set of source vertices of 733 nodes for graph=<networkx.classes.multidigraph.MultiDiGraph object at 0x121b15430> for multiple-source evaluation\n",
      "[2024-05-24 02:11:54]>INFO>Generate set of source vertices of 73 nodes for graph=<networkx.classes.multidigraph.MultiDiGraph object at 0x121b15430> for multiple-source evaluation\n",
      "[2024-05-24 02:11:55]>INFO>Generate set of source vertices of 147 nodes for graph=<networkx.classes.multidigraph.MultiDiGraph object at 0x121b15430> for multiple-source evaluation\n",
      "[2024-05-24 02:11:56]>INFO>Generate set of source vertices of 220 nodes for graph=<networkx.classes.multidigraph.MultiDiGraph object at 0x121b15430> for multiple-source evaluation\n",
      "[2024-05-24 02:11:57]>INFO>Generate set of source vertices of 293 nodes for graph=<networkx.classes.multidigraph.MultiDiGraph object at 0x121b15430> for multiple-source evaluation\n",
      "[2024-05-24 02:11:58]>INFO>Generate set of source vertices of 366 nodes for graph=<networkx.classes.multidigraph.MultiDiGraph object at 0x121b15430> for multiple-source evaluation\n",
      "[2024-05-24 02:11:59]>INFO>Generate set of source vertices of 440 nodes for graph=<networkx.classes.multidigraph.MultiDiGraph object at 0x121b15430> for multiple-source evaluation\n",
      "[2024-05-24 02:12:00]>INFO>Generate set of source vertices of 513 nodes for graph=<networkx.classes.multidigraph.MultiDiGraph object at 0x121b15430> for multiple-source evaluation\n",
      "[2024-05-24 02:12:01]>INFO>Generate set of source vertices of 586 nodes for graph=<networkx.classes.multidigraph.MultiDiGraph object at 0x121b15430> for multiple-source evaluation\n",
      "[2024-05-24 02:12:02]>INFO>Generate set of source vertices of 660 nodes for graph=<networkx.classes.multidigraph.MultiDiGraph object at 0x121b15430> for multiple-source evaluation\n",
      "[2024-05-24 02:12:03]>INFO>Generate set of source vertices of 733 nodes for graph=<networkx.classes.multidigraph.MultiDiGraph object at 0x121b15430> for multiple-source evaluation\n",
      "[2024-05-24 02:12:03]>INFO>Generate set of source vertices of 332 nodes for graph=<networkx.classes.multidigraph.MultiDiGraph object at 0x120c60560> for multiple-source evaluation\n",
      "[2024-05-24 02:12:03]>INFO>Generate set of source vertices of 33 nodes for graph=<networkx.classes.multidigraph.MultiDiGraph object at 0x120c60560> for multiple-source evaluation\n",
      "[2024-05-24 02:12:04]>INFO>Generate set of source vertices of 66 nodes for graph=<networkx.classes.multidigraph.MultiDiGraph object at 0x120c60560> for multiple-source evaluation\n"
     ]
    },
    {
     "name": "stdout",
     "output_type": "stream",
     "text": [
      "wc\n",
      "wine\n"
     ]
    },
    {
     "name": "stderr",
     "output_type": "stream",
     "text": [
      "[2024-05-24 02:12:04]>INFO>Generate set of source vertices of 100 nodes for graph=<networkx.classes.multidigraph.MultiDiGraph object at 0x120c60560> for multiple-source evaluation\n",
      "[2024-05-24 02:12:04]>INFO>Generate set of source vertices of 133 nodes for graph=<networkx.classes.multidigraph.MultiDiGraph object at 0x120c60560> for multiple-source evaluation\n",
      "[2024-05-24 02:12:05]>INFO>Generate set of source vertices of 166 nodes for graph=<networkx.classes.multidigraph.MultiDiGraph object at 0x120c60560> for multiple-source evaluation\n",
      "[2024-05-24 02:12:05]>INFO>Generate set of source vertices of 199 nodes for graph=<networkx.classes.multidigraph.MultiDiGraph object at 0x120c60560> for multiple-source evaluation\n",
      "[2024-05-24 02:12:05]>INFO>Generate set of source vertices of 232 nodes for graph=<networkx.classes.multidigraph.MultiDiGraph object at 0x120c60560> for multiple-source evaluation\n",
      "[2024-05-24 02:12:05]>INFO>Generate set of source vertices of 266 nodes for graph=<networkx.classes.multidigraph.MultiDiGraph object at 0x120c60560> for multiple-source evaluation\n",
      "[2024-05-24 02:12:06]>INFO>Generate set of source vertices of 299 nodes for graph=<networkx.classes.multidigraph.MultiDiGraph object at 0x120c60560> for multiple-source evaluation\n",
      "[2024-05-24 02:12:06]>INFO>Generate set of source vertices of 332 nodes for graph=<networkx.classes.multidigraph.MultiDiGraph object at 0x120c60560> for multiple-source evaluation\n",
      "[2024-05-24 02:12:06]>INFO>Generate set of source vertices of 733 nodes for graph=<networkx.classes.multidigraph.MultiDiGraph object at 0x121b15430> for multiple-source evaluation\n",
      "[2024-05-24 02:12:06]>INFO>Generate set of source vertices of 73 nodes for graph=<networkx.classes.multidigraph.MultiDiGraph object at 0x121b15430> for multiple-source evaluation\n",
      "[2024-05-24 02:12:07]>INFO>Generate set of source vertices of 147 nodes for graph=<networkx.classes.multidigraph.MultiDiGraph object at 0x121b15430> for multiple-source evaluation\n",
      "[2024-05-24 02:12:08]>INFO>Generate set of source vertices of 220 nodes for graph=<networkx.classes.multidigraph.MultiDiGraph object at 0x121b15430> for multiple-source evaluation\n",
      "[2024-05-24 02:12:09]>INFO>Generate set of source vertices of 293 nodes for graph=<networkx.classes.multidigraph.MultiDiGraph object at 0x121b15430> for multiple-source evaluation\n",
      "[2024-05-24 02:12:10]>INFO>Generate set of source vertices of 366 nodes for graph=<networkx.classes.multidigraph.MultiDiGraph object at 0x121b15430> for multiple-source evaluation\n",
      "[2024-05-24 02:12:10]>INFO>Generate set of source vertices of 440 nodes for graph=<networkx.classes.multidigraph.MultiDiGraph object at 0x121b15430> for multiple-source evaluation\n",
      "[2024-05-24 02:12:11]>INFO>Generate set of source vertices of 513 nodes for graph=<networkx.classes.multidigraph.MultiDiGraph object at 0x121b15430> for multiple-source evaluation\n",
      "[2024-05-24 02:12:12]>INFO>Generate set of source vertices of 586 nodes for graph=<networkx.classes.multidigraph.MultiDiGraph object at 0x121b15430> for multiple-source evaluation\n",
      "[2024-05-24 02:12:12]>INFO>Generate set of source vertices of 660 nodes for graph=<networkx.classes.multidigraph.MultiDiGraph object at 0x121b15430> for multiple-source evaluation\n",
      "[2024-05-24 02:12:13]>INFO>Generate set of source vertices of 733 nodes for graph=<networkx.classes.multidigraph.MultiDiGraph object at 0x121b15430> for multiple-source evaluation\n",
      "[2024-05-24 02:12:14]>INFO>Generate set of source vertices of 332 nodes for graph=<networkx.classes.multidigraph.MultiDiGraph object at 0x120c60560> for multiple-source evaluation\n",
      "[2024-05-24 02:12:14]>INFO>Generate set of source vertices of 33 nodes for graph=<networkx.classes.multidigraph.MultiDiGraph object at 0x120c60560> for multiple-source evaluation\n",
      "[2024-05-24 02:12:14]>INFO>Generate set of source vertices of 66 nodes for graph=<networkx.classes.multidigraph.MultiDiGraph object at 0x120c60560> for multiple-source evaluation\n"
     ]
    },
    {
     "name": "stdout",
     "output_type": "stream",
     "text": [
      "wc\n",
      "wine\n"
     ]
    },
    {
     "name": "stderr",
     "output_type": "stream",
     "text": [
      "[2024-05-24 02:12:14]>INFO>Generate set of source vertices of 100 nodes for graph=<networkx.classes.multidigraph.MultiDiGraph object at 0x120c60560> for multiple-source evaluation\n",
      "[2024-05-24 02:12:14]>INFO>Generate set of source vertices of 133 nodes for graph=<networkx.classes.multidigraph.MultiDiGraph object at 0x120c60560> for multiple-source evaluation\n",
      "[2024-05-24 02:12:15]>INFO>Generate set of source vertices of 166 nodes for graph=<networkx.classes.multidigraph.MultiDiGraph object at 0x120c60560> for multiple-source evaluation\n",
      "[2024-05-24 02:12:15]>INFO>Generate set of source vertices of 199 nodes for graph=<networkx.classes.multidigraph.MultiDiGraph object at 0x120c60560> for multiple-source evaluation\n",
      "[2024-05-24 02:12:15]>INFO>Generate set of source vertices of 232 nodes for graph=<networkx.classes.multidigraph.MultiDiGraph object at 0x120c60560> for multiple-source evaluation\n",
      "[2024-05-24 02:12:16]>INFO>Generate set of source vertices of 266 nodes for graph=<networkx.classes.multidigraph.MultiDiGraph object at 0x120c60560> for multiple-source evaluation\n",
      "[2024-05-24 02:12:16]>INFO>Generate set of source vertices of 299 nodes for graph=<networkx.classes.multidigraph.MultiDiGraph object at 0x120c60560> for multiple-source evaluation\n",
      "[2024-05-24 02:12:16]>INFO>Generate set of source vertices of 332 nodes for graph=<networkx.classes.multidigraph.MultiDiGraph object at 0x120c60560> for multiple-source evaluation\n",
      "[2024-05-24 02:12:17]>INFO>Generate set of source vertices of 733 nodes for graph=<networkx.classes.multidigraph.MultiDiGraph object at 0x121b15430> for multiple-source evaluation\n",
      "[2024-05-24 02:12:17]>INFO>Generate set of source vertices of 73 nodes for graph=<networkx.classes.multidigraph.MultiDiGraph object at 0x121b15430> for multiple-source evaluation\n",
      "[2024-05-24 02:12:17]>INFO>Generate set of source vertices of 147 nodes for graph=<networkx.classes.multidigraph.MultiDiGraph object at 0x121b15430> for multiple-source evaluation\n",
      "[2024-05-24 02:12:18]>INFO>Generate set of source vertices of 220 nodes for graph=<networkx.classes.multidigraph.MultiDiGraph object at 0x121b15430> for multiple-source evaluation\n",
      "[2024-05-24 02:12:19]>INFO>Generate set of source vertices of 293 nodes for graph=<networkx.classes.multidigraph.MultiDiGraph object at 0x121b15430> for multiple-source evaluation\n",
      "[2024-05-24 02:12:20]>INFO>Generate set of source vertices of 366 nodes for graph=<networkx.classes.multidigraph.MultiDiGraph object at 0x121b15430> for multiple-source evaluation\n",
      "[2024-05-24 02:12:20]>INFO>Generate set of source vertices of 440 nodes for graph=<networkx.classes.multidigraph.MultiDiGraph object at 0x121b15430> for multiple-source evaluation\n",
      "[2024-05-24 02:12:21]>INFO>Generate set of source vertices of 513 nodes for graph=<networkx.classes.multidigraph.MultiDiGraph object at 0x121b15430> for multiple-source evaluation\n",
      "[2024-05-24 02:12:22]>INFO>Generate set of source vertices of 586 nodes for graph=<networkx.classes.multidigraph.MultiDiGraph object at 0x121b15430> for multiple-source evaluation\n",
      "[2024-05-24 02:12:23]>INFO>Generate set of source vertices of 660 nodes for graph=<networkx.classes.multidigraph.MultiDiGraph object at 0x121b15430> for multiple-source evaluation\n",
      "[2024-05-24 02:12:24]>INFO>Generate set of source vertices of 733 nodes for graph=<networkx.classes.multidigraph.MultiDiGraph object at 0x121b15430> for multiple-source evaluation\n",
      "[2024-05-24 02:12:24]>INFO>Generate set of source vertices of 332 nodes for graph=<networkx.classes.multidigraph.MultiDiGraph object at 0x120c60560> for multiple-source evaluation\n",
      "[2024-05-24 02:12:24]>INFO>Generate set of source vertices of 33 nodes for graph=<networkx.classes.multidigraph.MultiDiGraph object at 0x120c60560> for multiple-source evaluation\n",
      "[2024-05-24 02:12:25]>INFO>Generate set of source vertices of 66 nodes for graph=<networkx.classes.multidigraph.MultiDiGraph object at 0x120c60560> for multiple-source evaluation\n"
     ]
    },
    {
     "name": "stdout",
     "output_type": "stream",
     "text": [
      "wc\n",
      "wine\n"
     ]
    },
    {
     "name": "stderr",
     "output_type": "stream",
     "text": [
      "[2024-05-24 02:12:25]>INFO>Generate set of source vertices of 100 nodes for graph=<networkx.classes.multidigraph.MultiDiGraph object at 0x120c60560> for multiple-source evaluation\n",
      "[2024-05-24 02:12:25]>INFO>Generate set of source vertices of 133 nodes for graph=<networkx.classes.multidigraph.MultiDiGraph object at 0x120c60560> for multiple-source evaluation\n",
      "[2024-05-24 02:12:26]>INFO>Generate set of source vertices of 166 nodes for graph=<networkx.classes.multidigraph.MultiDiGraph object at 0x120c60560> for multiple-source evaluation\n",
      "[2024-05-24 02:12:26]>INFO>Generate set of source vertices of 199 nodes for graph=<networkx.classes.multidigraph.MultiDiGraph object at 0x120c60560> for multiple-source evaluation\n",
      "[2024-05-24 02:12:26]>INFO>Generate set of source vertices of 232 nodes for graph=<networkx.classes.multidigraph.MultiDiGraph object at 0x120c60560> for multiple-source evaluation\n",
      "[2024-05-24 02:12:27]>INFO>Generate set of source vertices of 266 nodes for graph=<networkx.classes.multidigraph.MultiDiGraph object at 0x120c60560> for multiple-source evaluation\n",
      "[2024-05-24 02:12:27]>INFO>Generate set of source vertices of 299 nodes for graph=<networkx.classes.multidigraph.MultiDiGraph object at 0x120c60560> for multiple-source evaluation\n",
      "[2024-05-24 02:12:27]>INFO>Generate set of source vertices of 332 nodes for graph=<networkx.classes.multidigraph.MultiDiGraph object at 0x120c60560> for multiple-source evaluation\n",
      "[2024-05-24 02:12:28]>INFO>Generate set of source vertices of 733 nodes for graph=<networkx.classes.multidigraph.MultiDiGraph object at 0x121b15430> for multiple-source evaluation\n",
      "[2024-05-24 02:12:28]>INFO>Generate set of source vertices of 73 nodes for graph=<networkx.classes.multidigraph.MultiDiGraph object at 0x121b15430> for multiple-source evaluation\n",
      "[2024-05-24 02:12:28]>INFO>Generate set of source vertices of 147 nodes for graph=<networkx.classes.multidigraph.MultiDiGraph object at 0x121b15430> for multiple-source evaluation\n",
      "[2024-05-24 02:12:29]>INFO>Generate set of source vertices of 220 nodes for graph=<networkx.classes.multidigraph.MultiDiGraph object at 0x121b15430> for multiple-source evaluation\n",
      "[2024-05-24 02:12:30]>INFO>Generate set of source vertices of 293 nodes for graph=<networkx.classes.multidigraph.MultiDiGraph object at 0x121b15430> for multiple-source evaluation\n",
      "[2024-05-24 02:12:31]>INFO>Generate set of source vertices of 366 nodes for graph=<networkx.classes.multidigraph.MultiDiGraph object at 0x121b15430> for multiple-source evaluation\n",
      "[2024-05-24 02:12:31]>INFO>Generate set of source vertices of 440 nodes for graph=<networkx.classes.multidigraph.MultiDiGraph object at 0x121b15430> for multiple-source evaluation\n",
      "[2024-05-24 02:12:32]>INFO>Generate set of source vertices of 513 nodes for graph=<networkx.classes.multidigraph.MultiDiGraph object at 0x121b15430> for multiple-source evaluation\n",
      "[2024-05-24 02:12:33]>INFO>Generate set of source vertices of 586 nodes for graph=<networkx.classes.multidigraph.MultiDiGraph object at 0x121b15430> for multiple-source evaluation\n",
      "[2024-05-24 02:12:34]>INFO>Generate set of source vertices of 660 nodes for graph=<networkx.classes.multidigraph.MultiDiGraph object at 0x121b15430> for multiple-source evaluation\n",
      "[2024-05-24 02:12:34]>INFO>Generate set of source vertices of 733 nodes for graph=<networkx.classes.multidigraph.MultiDiGraph object at 0x121b15430> for multiple-source evaluation\n",
      "[2024-05-24 02:12:35]>INFO>Generate set of source vertices of 332 nodes for graph=<networkx.classes.multidigraph.MultiDiGraph object at 0x120c60560> for multiple-source evaluation\n",
      "[2024-05-24 02:12:35]>INFO>Generate set of source vertices of 33 nodes for graph=<networkx.classes.multidigraph.MultiDiGraph object at 0x120c60560> for multiple-source evaluation\n",
      "[2024-05-24 02:12:35]>INFO>Generate set of source vertices of 66 nodes for graph=<networkx.classes.multidigraph.MultiDiGraph object at 0x120c60560> for multiple-source evaluation\n"
     ]
    },
    {
     "name": "stdout",
     "output_type": "stream",
     "text": [
      "wc\n",
      "wine\n"
     ]
    },
    {
     "name": "stderr",
     "output_type": "stream",
     "text": [
      "[2024-05-24 02:12:35]>INFO>Generate set of source vertices of 100 nodes for graph=<networkx.classes.multidigraph.MultiDiGraph object at 0x120c60560> for multiple-source evaluation\n",
      "[2024-05-24 02:12:36]>INFO>Generate set of source vertices of 133 nodes for graph=<networkx.classes.multidigraph.MultiDiGraph object at 0x120c60560> for multiple-source evaluation\n",
      "[2024-05-24 02:12:36]>INFO>Generate set of source vertices of 166 nodes for graph=<networkx.classes.multidigraph.MultiDiGraph object at 0x120c60560> for multiple-source evaluation\n",
      "[2024-05-24 02:12:36]>INFO>Generate set of source vertices of 199 nodes for graph=<networkx.classes.multidigraph.MultiDiGraph object at 0x120c60560> for multiple-source evaluation\n",
      "[2024-05-24 02:12:37]>INFO>Generate set of source vertices of 232 nodes for graph=<networkx.classes.multidigraph.MultiDiGraph object at 0x120c60560> for multiple-source evaluation\n",
      "[2024-05-24 02:12:37]>INFO>Generate set of source vertices of 266 nodes for graph=<networkx.classes.multidigraph.MultiDiGraph object at 0x120c60560> for multiple-source evaluation\n",
      "[2024-05-24 02:12:37]>INFO>Generate set of source vertices of 299 nodes for graph=<networkx.classes.multidigraph.MultiDiGraph object at 0x120c60560> for multiple-source evaluation\n",
      "[2024-05-24 02:12:38]>INFO>Generate set of source vertices of 332 nodes for graph=<networkx.classes.multidigraph.MultiDiGraph object at 0x120c60560> for multiple-source evaluation\n",
      "[2024-05-24 02:12:38]>INFO>Generate set of source vertices of 733 nodes for graph=<networkx.classes.multidigraph.MultiDiGraph object at 0x121b15430> for multiple-source evaluation\n",
      "[2024-05-24 02:12:38]>INFO>Generate set of source vertices of 73 nodes for graph=<networkx.classes.multidigraph.MultiDiGraph object at 0x121b15430> for multiple-source evaluation\n",
      "[2024-05-24 02:12:39]>INFO>Generate set of source vertices of 147 nodes for graph=<networkx.classes.multidigraph.MultiDiGraph object at 0x121b15430> for multiple-source evaluation\n",
      "[2024-05-24 02:12:39]>INFO>Generate set of source vertices of 220 nodes for graph=<networkx.classes.multidigraph.MultiDiGraph object at 0x121b15430> for multiple-source evaluation\n",
      "[2024-05-24 02:12:40]>INFO>Generate set of source vertices of 293 nodes for graph=<networkx.classes.multidigraph.MultiDiGraph object at 0x121b15430> for multiple-source evaluation\n",
      "[2024-05-24 02:12:41]>INFO>Generate set of source vertices of 366 nodes for graph=<networkx.classes.multidigraph.MultiDiGraph object at 0x121b15430> for multiple-source evaluation\n",
      "[2024-05-24 02:12:41]>INFO>Generate set of source vertices of 440 nodes for graph=<networkx.classes.multidigraph.MultiDiGraph object at 0x121b15430> for multiple-source evaluation\n",
      "[2024-05-24 02:12:42]>INFO>Generate set of source vertices of 513 nodes for graph=<networkx.classes.multidigraph.MultiDiGraph object at 0x121b15430> for multiple-source evaluation\n",
      "[2024-05-24 02:12:43]>INFO>Generate set of source vertices of 586 nodes for graph=<networkx.classes.multidigraph.MultiDiGraph object at 0x121b15430> for multiple-source evaluation\n",
      "[2024-05-24 02:12:43]>INFO>Generate set of source vertices of 660 nodes for graph=<networkx.classes.multidigraph.MultiDiGraph object at 0x121b15430> for multiple-source evaluation\n",
      "[2024-05-24 02:12:44]>INFO>Generate set of source vertices of 733 nodes for graph=<networkx.classes.multidigraph.MultiDiGraph object at 0x121b15430> for multiple-source evaluation\n",
      "[2024-05-24 02:12:45]>INFO>Generate set of source vertices of 332 nodes for graph=<networkx.classes.multidigraph.MultiDiGraph object at 0x120c60560> for multiple-source evaluation\n",
      "[2024-05-24 02:12:45]>INFO>Generate set of source vertices of 33 nodes for graph=<networkx.classes.multidigraph.MultiDiGraph object at 0x120c60560> for multiple-source evaluation\n",
      "[2024-05-24 02:12:45]>INFO>Generate set of source vertices of 66 nodes for graph=<networkx.classes.multidigraph.MultiDiGraph object at 0x120c60560> for multiple-source evaluation\n"
     ]
    },
    {
     "name": "stdout",
     "output_type": "stream",
     "text": [
      "wc\n",
      "wine\n"
     ]
    },
    {
     "name": "stderr",
     "output_type": "stream",
     "text": [
      "[2024-05-24 02:12:45]>INFO>Generate set of source vertices of 100 nodes for graph=<networkx.classes.multidigraph.MultiDiGraph object at 0x120c60560> for multiple-source evaluation\n",
      "[2024-05-24 02:12:45]>INFO>Generate set of source vertices of 133 nodes for graph=<networkx.classes.multidigraph.MultiDiGraph object at 0x120c60560> for multiple-source evaluation\n",
      "[2024-05-24 02:12:45]>INFO>Generate set of source vertices of 166 nodes for graph=<networkx.classes.multidigraph.MultiDiGraph object at 0x120c60560> for multiple-source evaluation\n",
      "[2024-05-24 02:12:46]>INFO>Generate set of source vertices of 199 nodes for graph=<networkx.classes.multidigraph.MultiDiGraph object at 0x120c60560> for multiple-source evaluation\n",
      "[2024-05-24 02:12:46]>INFO>Generate set of source vertices of 232 nodes for graph=<networkx.classes.multidigraph.MultiDiGraph object at 0x120c60560> for multiple-source evaluation\n",
      "[2024-05-24 02:12:46]>INFO>Generate set of source vertices of 266 nodes for graph=<networkx.classes.multidigraph.MultiDiGraph object at 0x120c60560> for multiple-source evaluation\n",
      "[2024-05-24 02:12:47]>INFO>Generate set of source vertices of 299 nodes for graph=<networkx.classes.multidigraph.MultiDiGraph object at 0x120c60560> for multiple-source evaluation\n",
      "[2024-05-24 02:12:47]>INFO>Generate set of source vertices of 332 nodes for graph=<networkx.classes.multidigraph.MultiDiGraph object at 0x120c60560> for multiple-source evaluation\n",
      "[2024-05-24 02:12:47]>INFO>Generate set of source vertices of 733 nodes for graph=<networkx.classes.multidigraph.MultiDiGraph object at 0x121b15430> for multiple-source evaluation\n",
      "[2024-05-24 02:12:47]>INFO>Generate set of source vertices of 73 nodes for graph=<networkx.classes.multidigraph.MultiDiGraph object at 0x121b15430> for multiple-source evaluation\n",
      "[2024-05-24 02:12:48]>INFO>Generate set of source vertices of 147 nodes for graph=<networkx.classes.multidigraph.MultiDiGraph object at 0x121b15430> for multiple-source evaluation\n",
      "[2024-05-24 02:12:49]>INFO>Generate set of source vertices of 220 nodes for graph=<networkx.classes.multidigraph.MultiDiGraph object at 0x121b15430> for multiple-source evaluation\n",
      "[2024-05-24 02:12:50]>INFO>Generate set of source vertices of 293 nodes for graph=<networkx.classes.multidigraph.MultiDiGraph object at 0x121b15430> for multiple-source evaluation\n",
      "[2024-05-24 02:12:50]>INFO>Generate set of source vertices of 366 nodes for graph=<networkx.classes.multidigraph.MultiDiGraph object at 0x121b15430> for multiple-source evaluation\n",
      "[2024-05-24 02:12:51]>INFO>Generate set of source vertices of 440 nodes for graph=<networkx.classes.multidigraph.MultiDiGraph object at 0x121b15430> for multiple-source evaluation\n",
      "[2024-05-24 02:12:52]>INFO>Generate set of source vertices of 513 nodes for graph=<networkx.classes.multidigraph.MultiDiGraph object at 0x121b15430> for multiple-source evaluation\n",
      "[2024-05-24 02:12:52]>INFO>Generate set of source vertices of 586 nodes for graph=<networkx.classes.multidigraph.MultiDiGraph object at 0x121b15430> for multiple-source evaluation\n",
      "[2024-05-24 02:12:53]>INFO>Generate set of source vertices of 660 nodes for graph=<networkx.classes.multidigraph.MultiDiGraph object at 0x121b15430> for multiple-source evaluation\n",
      "[2024-05-24 02:12:54]>INFO>Generate set of source vertices of 733 nodes for graph=<networkx.classes.multidigraph.MultiDiGraph object at 0x121b15430> for multiple-source evaluation\n",
      "[2024-05-24 02:12:54]>INFO>Generate set of source vertices of 332 nodes for graph=<networkx.classes.multidigraph.MultiDiGraph object at 0x120c60560> for multiple-source evaluation\n",
      "[2024-05-24 02:12:54]>INFO>Generate set of source vertices of 33 nodes for graph=<networkx.classes.multidigraph.MultiDiGraph object at 0x120c60560> for multiple-source evaluation\n",
      "[2024-05-24 02:12:55]>INFO>Generate set of source vertices of 66 nodes for graph=<networkx.classes.multidigraph.MultiDiGraph object at 0x120c60560> for multiple-source evaluation\n"
     ]
    },
    {
     "name": "stdout",
     "output_type": "stream",
     "text": [
      "wc\n",
      "wine\n"
     ]
    },
    {
     "name": "stderr",
     "output_type": "stream",
     "text": [
      "[2024-05-24 02:12:55]>INFO>Generate set of source vertices of 100 nodes for graph=<networkx.classes.multidigraph.MultiDiGraph object at 0x120c60560> for multiple-source evaluation\n",
      "[2024-05-24 02:12:55]>INFO>Generate set of source vertices of 133 nodes for graph=<networkx.classes.multidigraph.MultiDiGraph object at 0x120c60560> for multiple-source evaluation\n",
      "[2024-05-24 02:12:55]>INFO>Generate set of source vertices of 166 nodes for graph=<networkx.classes.multidigraph.MultiDiGraph object at 0x120c60560> for multiple-source evaluation\n",
      "[2024-05-24 02:12:56]>INFO>Generate set of source vertices of 199 nodes for graph=<networkx.classes.multidigraph.MultiDiGraph object at 0x120c60560> for multiple-source evaluation\n",
      "[2024-05-24 02:12:56]>INFO>Generate set of source vertices of 232 nodes for graph=<networkx.classes.multidigraph.MultiDiGraph object at 0x120c60560> for multiple-source evaluation\n",
      "[2024-05-24 02:12:56]>INFO>Generate set of source vertices of 266 nodes for graph=<networkx.classes.multidigraph.MultiDiGraph object at 0x120c60560> for multiple-source evaluation\n",
      "[2024-05-24 02:12:56]>INFO>Generate set of source vertices of 299 nodes for graph=<networkx.classes.multidigraph.MultiDiGraph object at 0x120c60560> for multiple-source evaluation\n",
      "[2024-05-24 02:12:57]>INFO>Generate set of source vertices of 332 nodes for graph=<networkx.classes.multidigraph.MultiDiGraph object at 0x120c60560> for multiple-source evaluation\n",
      "[2024-05-24 02:12:57]>INFO>Generate set of source vertices of 733 nodes for graph=<networkx.classes.multidigraph.MultiDiGraph object at 0x121b15430> for multiple-source evaluation\n",
      "[2024-05-24 02:12:57]>INFO>Generate set of source vertices of 73 nodes for graph=<networkx.classes.multidigraph.MultiDiGraph object at 0x121b15430> for multiple-source evaluation\n",
      "[2024-05-24 02:12:58]>INFO>Generate set of source vertices of 147 nodes for graph=<networkx.classes.multidigraph.MultiDiGraph object at 0x121b15430> for multiple-source evaluation\n",
      "[2024-05-24 02:12:58]>INFO>Generate set of source vertices of 220 nodes for graph=<networkx.classes.multidigraph.MultiDiGraph object at 0x121b15430> for multiple-source evaluation\n",
      "[2024-05-24 02:12:59]>INFO>Generate set of source vertices of 293 nodes for graph=<networkx.classes.multidigraph.MultiDiGraph object at 0x121b15430> for multiple-source evaluation\n",
      "[2024-05-24 02:13:00]>INFO>Generate set of source vertices of 366 nodes for graph=<networkx.classes.multidigraph.MultiDiGraph object at 0x121b15430> for multiple-source evaluation\n",
      "[2024-05-24 02:13:00]>INFO>Generate set of source vertices of 440 nodes for graph=<networkx.classes.multidigraph.MultiDiGraph object at 0x121b15430> for multiple-source evaluation\n",
      "[2024-05-24 02:13:01]>INFO>Generate set of source vertices of 513 nodes for graph=<networkx.classes.multidigraph.MultiDiGraph object at 0x121b15430> for multiple-source evaluation\n",
      "[2024-05-24 02:13:02]>INFO>Generate set of source vertices of 586 nodes for graph=<networkx.classes.multidigraph.MultiDiGraph object at 0x121b15430> for multiple-source evaluation\n",
      "[2024-05-24 02:13:02]>INFO>Generate set of source vertices of 660 nodes for graph=<networkx.classes.multidigraph.MultiDiGraph object at 0x121b15430> for multiple-source evaluation\n",
      "[2024-05-24 02:13:03]>INFO>Generate set of source vertices of 733 nodes for graph=<networkx.classes.multidigraph.MultiDiGraph object at 0x121b15430> for multiple-source evaluation\n",
      "[2024-05-24 02:13:04]>INFO>Generate set of source vertices of 332 nodes for graph=<networkx.classes.multidigraph.MultiDiGraph object at 0x120c60560> for multiple-source evaluation\n",
      "[2024-05-24 02:13:04]>INFO>Generate set of source vertices of 33 nodes for graph=<networkx.classes.multidigraph.MultiDiGraph object at 0x120c60560> for multiple-source evaluation\n",
      "[2024-05-24 02:13:04]>INFO>Generate set of source vertices of 66 nodes for graph=<networkx.classes.multidigraph.MultiDiGraph object at 0x120c60560> for multiple-source evaluation\n"
     ]
    },
    {
     "name": "stdout",
     "output_type": "stream",
     "text": [
      "wc\n",
      "wine\n"
     ]
    },
    {
     "name": "stderr",
     "output_type": "stream",
     "text": [
      "[2024-05-24 02:13:04]>INFO>Generate set of source vertices of 100 nodes for graph=<networkx.classes.multidigraph.MultiDiGraph object at 0x120c60560> for multiple-source evaluation\n",
      "[2024-05-24 02:13:05]>INFO>Generate set of source vertices of 133 nodes for graph=<networkx.classes.multidigraph.MultiDiGraph object at 0x120c60560> for multiple-source evaluation\n",
      "[2024-05-24 02:13:05]>INFO>Generate set of source vertices of 166 nodes for graph=<networkx.classes.multidigraph.MultiDiGraph object at 0x120c60560> for multiple-source evaluation\n",
      "[2024-05-24 02:13:05]>INFO>Generate set of source vertices of 199 nodes for graph=<networkx.classes.multidigraph.MultiDiGraph object at 0x120c60560> for multiple-source evaluation\n",
      "[2024-05-24 02:13:05]>INFO>Generate set of source vertices of 232 nodes for graph=<networkx.classes.multidigraph.MultiDiGraph object at 0x120c60560> for multiple-source evaluation\n",
      "[2024-05-24 02:13:06]>INFO>Generate set of source vertices of 266 nodes for graph=<networkx.classes.multidigraph.MultiDiGraph object at 0x120c60560> for multiple-source evaluation\n",
      "[2024-05-24 02:13:06]>INFO>Generate set of source vertices of 299 nodes for graph=<networkx.classes.multidigraph.MultiDiGraph object at 0x120c60560> for multiple-source evaluation\n",
      "[2024-05-24 02:13:06]>INFO>Generate set of source vertices of 332 nodes for graph=<networkx.classes.multidigraph.MultiDiGraph object at 0x120c60560> for multiple-source evaluation\n",
      "[2024-05-24 02:13:07]>INFO>Generate set of source vertices of 733 nodes for graph=<networkx.classes.multidigraph.MultiDiGraph object at 0x121b15430> for multiple-source evaluation\n",
      "[2024-05-24 02:13:07]>INFO>Generate set of source vertices of 73 nodes for graph=<networkx.classes.multidigraph.MultiDiGraph object at 0x121b15430> for multiple-source evaluation\n",
      "[2024-05-24 02:13:07]>INFO>Generate set of source vertices of 147 nodes for graph=<networkx.classes.multidigraph.MultiDiGraph object at 0x121b15430> for multiple-source evaluation\n",
      "[2024-05-24 02:13:08]>INFO>Generate set of source vertices of 220 nodes for graph=<networkx.classes.multidigraph.MultiDiGraph object at 0x121b15430> for multiple-source evaluation\n",
      "[2024-05-24 02:13:09]>INFO>Generate set of source vertices of 293 nodes for graph=<networkx.classes.multidigraph.MultiDiGraph object at 0x121b15430> for multiple-source evaluation\n",
      "[2024-05-24 02:13:10]>INFO>Generate set of source vertices of 366 nodes for graph=<networkx.classes.multidigraph.MultiDiGraph object at 0x121b15430> for multiple-source evaluation\n",
      "[2024-05-24 02:13:11]>INFO>Generate set of source vertices of 440 nodes for graph=<networkx.classes.multidigraph.MultiDiGraph object at 0x121b15430> for multiple-source evaluation\n",
      "[2024-05-24 02:13:12]>INFO>Generate set of source vertices of 513 nodes for graph=<networkx.classes.multidigraph.MultiDiGraph object at 0x121b15430> for multiple-source evaluation\n",
      "[2024-05-24 02:13:12]>INFO>Generate set of source vertices of 586 nodes for graph=<networkx.classes.multidigraph.MultiDiGraph object at 0x121b15430> for multiple-source evaluation\n",
      "[2024-05-24 02:13:13]>INFO>Generate set of source vertices of 660 nodes for graph=<networkx.classes.multidigraph.MultiDiGraph object at 0x121b15430> for multiple-source evaluation\n",
      "[2024-05-24 02:13:14]>INFO>Generate set of source vertices of 733 nodes for graph=<networkx.classes.multidigraph.MultiDiGraph object at 0x121b15430> for multiple-source evaluation\n"
     ]
    },
    {
     "name": "stdout",
     "output_type": "stream",
     "text": [
      "wc\n",
      "wine\n"
     ]
    },
    {
     "data": {
      "text/plain": "<Figure size 640x480 with 1 Axes>",
      "image/png": "[encoded data removed]"
     },
     "metadata": {},
     "output_type": "display_data"
    },
    {
     "data": {
      "text/plain": "<Figure size 640x480 with 1 Axes>",
      "image/png": "[encoded data removed]"
     },
     "metadata": {},
     "output_type": "display_data"
    }
   ],
   "source": [
    "parts = [0.1, 0.2, 0.3, 0.4, 0.5, 0.6, 0.7, 0.8, 0.9, 1]\n",
    "graphs_names_to = [\"wc\", \"wine\"]\n",
    "num_cases = 10\n",
    "\n",
    "parts_times = {}\n",
    "all_pair_times = {}\n",
    "\n",
    "parts_times[\"wc\"] = [0] * 10\n",
    "all_pair_times[\"wc\"] = [0] * 10\n",
    "parts_times[\"wine\"] = [0] * 10\n",
    "all_pair_times[\"wine\"] = [0] * 10\n",
    "\n",
    "for i in range(num_cases):\n",
    "    for graph_name in graphs_names_to:\n",
    "        for regex in [graph_queries[graph_name][0]]:\n",
    "            regex_fa = FiniteAutomaton(regex_to_dfa(regex))\n",
    "            number_of_final_nodes = graphs[graph_name][\"nNodes\"]\n",
    "            final_states = cfpq_data.generate_multiple_source(graphs[graph_name][\"graph\"], number_of_final_nodes, seed = 42)\n",
    "            \n",
    "            part_num = 0\n",
    "            for part in parts:\n",
    "                number_of_start_nodes = round(graphs[graph_name][\"nNodes\"] * part)\n",
    "                start_states = cfpq_data.generate_multiple_source(graphs[graph_name][\"graph\"], number_of_start_nodes, seed = 42)\n",
    "                graph_fa = FiniteAutomaton(graph_to_nfa(graphs[graph_name][\"graph\"]), start_states=start_states, final_states=final_states)\n",
    "                \n",
    "                \n",
    "                p1 = datetime.datetime.now()\n",
    "                paths_ends(graphs[graph_name][\"graph\"], start_states, final_states, regex, matrix_class=lil_matrix)\n",
    "                p2 = datetime.datetime.now()\n",
    "                all_pair_time = (p2 - p1).microseconds\n",
    "                all_pair_times[graph_name][part_num] += all_pair_time\n",
    "                \n",
    "                n1 = datetime.datetime.now()\n",
    "                reachability_with_constraints(graph_fa, regex_fa, matrix_class=lil_matrix)\n",
    "                n2 = datetime.datetime.now()\n",
    "                parts_time = (n2 - n1).microseconds\n",
    "                parts_times[graph_name][part_num] += parts_time\n",
    "                \n",
    "                part_num += 1\n",
    "            \n",
    "    for i in parts_times:\n",
    "        print(i)\n",
    "        \n",
    "for name in graphs_names_to:\n",
    "    plt.plot(parts, [i/num_cases for i in parts_times[name]], label = \"part_pairs\")\n",
    "    plt.plot(parts, [i/num_cases for i in all_pair_times[name]], label = \"all_pairs\")\n",
    "    plt.title = name\n",
    "    plt.xlabel = \"parts\"\n",
    "    plt.ylabel = \"times, microseconds\"\n",
    "    plt.legend()\n",
    "    plt.show()\n",
    "                    "
   ],
   "metadata": {
    "collapsed": false,
    "ExecuteTime": {
     "end_time": "2024-05-23T23:13:15.817649Z",
     "start_time": "2024-05-23T23:11:32.182365Z"
    }
   },
   "id": "457ddda71bbbfd9d"
  },
  {
   "cell_type": "markdown",
   "source": [
    "Из полученнны зависимостей видно, что нам всегда целесобразнее использовать алгоритм, реализованный в функции path_ends (то есть тот, который решает задачу удостижимости между всеми парами вершин) - так как он работает в нескоолько раз быстрее алгоритма, решающую задачу по очереди для каждой стартовой вершины"
   ],
   "metadata": {
    "collapsed": false
   },
   "id": "f00d360370085fe5"
  },
  {
   "cell_type": "code",
   "execution_count": null,
   "outputs": [],
   "source": [],
   "metadata": {
    "collapsed": false
   },
   "id": "cb32177a28504e98"
  }
 ],
 "metadata": {
  "kernelspec": {
   "display_name": "Python 3",
   "language": "python",
   "name": "python3"
  },
  "language_info": {
   "codemirror_mode": {
    "name": "ipython",
    "version": 2
   },
   "file_extension": ".py",
   "mimetype": "text/x-python",
   "name": "python",
   "nbconvert_exporter": "python",
   "pygments_lexer": "ipython2",
   "version": "2.7.6"
  }
 },
 "nbformat": 4,
 "nbformat_minor": 5
}
