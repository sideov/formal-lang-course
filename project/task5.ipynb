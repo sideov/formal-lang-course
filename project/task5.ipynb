{
 "cells": [
  {
   "cell_type": "code",
   "execution_count": 5,
   "id": "initial_id",
   "metadata": {
    "collapsed": true,
    "ExecuteTime": {
     "end_time": "2024-03-20T15:39:30.352361Z",
     "start_time": "2024-03-20T15:39:25.476135Z"
    }
   },
   "outputs": [
    {
     "name": "stderr",
     "output_type": "stream",
     "text": [
      "[2024-03-20 18:39:25]>INFO>Found graph with name='bzip'\n",
      "[2024-03-20 18:39:27]>INFO>Load archive graph_archive=PosixPath('/usr/local/lib/python3.9/site-packages/cfpq_data/data/graphs/bzip.tar.gz')\n",
      "[2024-03-20 18:39:27]>INFO>Unzip graph name='bzip' to file graph=PosixPath('/usr/local/lib/python3.9/site-packages/cfpq_data/data/graphs/bzip/bzip.csv')\n",
      "[2024-03-20 18:39:27]>INFO>Remove archive graph_archive=PosixPath('/usr/local/lib/python3.9/site-packages/cfpq_data/data/graphs/bzip.tar.gz')\n",
      "[2024-03-20 18:39:27]>INFO>Load graph=<networkx.classes.multidigraph.MultiDiGraph object at 0x1273b9040> from path=PosixPath('/usr/local/lib/python3.9/site-packages/cfpq_data/data/graphs/bzip/bzip.csv')\n",
      "[2024-03-20 18:39:27]>INFO>Found graph with name='bzip'\n",
      "[2024-03-20 18:39:30]>INFO>Load archive graph_archive=PosixPath('/usr/local/lib/python3.9/site-packages/cfpq_data/data/graphs/bzip.tar.gz')\n",
      "[2024-03-20 18:39:30]>INFO>Unzip graph name='bzip' to file graph=PosixPath('/usr/local/lib/python3.9/site-packages/cfpq_data/data/graphs/bzip/bzip.csv')\n",
      "[2024-03-20 18:39:30]>INFO>Remove archive graph_archive=PosixPath('/usr/local/lib/python3.9/site-packages/cfpq_data/data/graphs/bzip.tar.gz')\n",
      "[2024-03-20 18:39:30]>INFO>Load graph=<networkx.classes.multidigraph.MultiDiGraph object at 0x10dd8e2e0> from path=PosixPath('/usr/local/lib/python3.9/site-packages/cfpq_data/data/graphs/bzip/bzip.csv')\n"
     ]
    },
    {
     "name": "stdout",
     "output_type": "stream",
     "text": [
      "Number of nodes: 632\n",
      "Number of edges: 556\n",
      "Labels: {'a', 'd'}\n"
     ]
    }
   ],
   "source": [
    "import matplotlib.pyplot as plt\n",
    "from task1 import *\n",
    "from task2 import *\n",
    "from task3 import *\n",
    "from task4 import *\n",
    "import cfpq_data\n",
    "\n"
   ]
  },
  {
   "cell_type": "code",
   "execution_count": 17,
   "outputs": [
    {
     "name": "stderr",
     "output_type": "stream",
     "text": [
      "[2024-03-20 19:25:51]>INFO>Found graph with name='bzip'\n",
      "[2024-03-20 19:25:53]>INFO>Load archive graph_archive=PosixPath('/usr/local/lib/python3.9/site-packages/cfpq_data/data/graphs/bzip.tar.gz')\n",
      "[2024-03-20 19:25:53]>INFO>Unzip graph name='bzip' to file graph=PosixPath('/usr/local/lib/python3.9/site-packages/cfpq_data/data/graphs/bzip/bzip.csv')\n",
      "[2024-03-20 19:25:53]>INFO>Remove archive graph_archive=PosixPath('/usr/local/lib/python3.9/site-packages/cfpq_data/data/graphs/bzip.tar.gz')\n",
      "[2024-03-20 19:25:53]>INFO>Load graph=<networkx.classes.multidigraph.MultiDiGraph object at 0x1273ed130> from path=PosixPath('/usr/local/lib/python3.9/site-packages/cfpq_data/data/graphs/bzip/bzip.csv')\n",
      "[2024-03-20 19:25:53]>INFO>Found graph with name='bzip'\n",
      "[2024-03-20 19:25:55]>INFO>Load archive graph_archive=PosixPath('/usr/local/lib/python3.9/site-packages/cfpq_data/data/graphs/bzip.tar.gz')\n",
      "[2024-03-20 19:25:55]>INFO>Unzip graph name='bzip' to file graph=PosixPath('/usr/local/lib/python3.9/site-packages/cfpq_data/data/graphs/bzip/bzip.csv')\n",
      "[2024-03-20 19:25:55]>INFO>Remove archive graph_archive=PosixPath('/usr/local/lib/python3.9/site-packages/cfpq_data/data/graphs/bzip.tar.gz')\n",
      "[2024-03-20 19:25:55]>INFO>Load graph=<networkx.classes.multidigraph.MultiDiGraph object at 0x1273e9d60> from path=PosixPath('/usr/local/lib/python3.9/site-packages/cfpq_data/data/graphs/bzip/bzip.csv')\n",
      "[2024-03-20 19:25:55]>INFO>Found graph with name='bzip'\n",
      "[2024-03-20 19:25:56]>INFO>Load archive graph_archive=PosixPath('/usr/local/lib/python3.9/site-packages/cfpq_data/data/graphs/bzip.tar.gz')\n",
      "[2024-03-20 19:25:56]>INFO>Unzip graph name='bzip' to file graph=PosixPath('/usr/local/lib/python3.9/site-packages/cfpq_data/data/graphs/bzip/bzip.csv')\n",
      "[2024-03-20 19:25:56]>INFO>Remove archive graph_archive=PosixPath('/usr/local/lib/python3.9/site-packages/cfpq_data/data/graphs/bzip.tar.gz')\n",
      "[2024-03-20 19:25:57]>INFO>Load graph=<networkx.classes.multidigraph.MultiDiGraph object at 0x1273b2790> from path=PosixPath('/usr/local/lib/python3.9/site-packages/cfpq_data/data/graphs/bzip/bzip.csv')\n",
      "[2024-03-20 19:25:57]>INFO>Found graph with name='ls'\n"
     ]
    },
    {
     "name": "stdout",
     "output_type": "stream",
     "text": [
      "bzip (632, 556, {'a', 'd'})\n"
     ]
    },
    {
     "name": "stderr",
     "output_type": "stream",
     "text": [
      "[2024-03-20 19:25:58]>INFO>Load archive graph_archive=PosixPath('/usr/local/lib/python3.9/site-packages/cfpq_data/data/graphs/ls.tar.gz')\n",
      "[2024-03-20 19:25:58]>INFO>Unzip graph name='ls' to file graph=PosixPath('/usr/local/lib/python3.9/site-packages/cfpq_data/data/graphs/ls/ls.csv')\n",
      "[2024-03-20 19:25:58]>INFO>Remove archive graph_archive=PosixPath('/usr/local/lib/python3.9/site-packages/cfpq_data/data/graphs/ls.tar.gz')\n",
      "[2024-03-20 19:25:58]>INFO>Load graph=<networkx.classes.multidigraph.MultiDiGraph object at 0x1273b26d0> from path=PosixPath('/usr/local/lib/python3.9/site-packages/cfpq_data/data/graphs/ls/ls.csv')\n",
      "[2024-03-20 19:25:58]>INFO>Found graph with name='ls'\n",
      "[2024-03-20 19:26:00]>INFO>Load archive graph_archive=PosixPath('/usr/local/lib/python3.9/site-packages/cfpq_data/data/graphs/ls.tar.gz')\n",
      "[2024-03-20 19:26:00]>INFO>Unzip graph name='ls' to file graph=PosixPath('/usr/local/lib/python3.9/site-packages/cfpq_data/data/graphs/ls/ls.csv')\n",
      "[2024-03-20 19:26:00]>INFO>Remove archive graph_archive=PosixPath('/usr/local/lib/python3.9/site-packages/cfpq_data/data/graphs/ls.tar.gz')\n",
      "[2024-03-20 19:26:00]>INFO>Load graph=<networkx.classes.multidigraph.MultiDiGraph object at 0x1273be850> from path=PosixPath('/usr/local/lib/python3.9/site-packages/cfpq_data/data/graphs/ls/ls.csv')\n",
      "[2024-03-20 19:26:00]>INFO>Found graph with name='ls'\n",
      "[2024-03-20 19:26:02]>INFO>Load archive graph_archive=PosixPath('/usr/local/lib/python3.9/site-packages/cfpq_data/data/graphs/ls.tar.gz')\n",
      "[2024-03-20 19:26:02]>INFO>Unzip graph name='ls' to file graph=PosixPath('/usr/local/lib/python3.9/site-packages/cfpq_data/data/graphs/ls/ls.csv')\n",
      "[2024-03-20 19:26:02]>INFO>Remove archive graph_archive=PosixPath('/usr/local/lib/python3.9/site-packages/cfpq_data/data/graphs/ls.tar.gz')\n",
      "[2024-03-20 19:26:02]>INFO>Load graph=<networkx.classes.multidigraph.MultiDiGraph object at 0x10dddc220> from path=PosixPath('/usr/local/lib/python3.9/site-packages/cfpq_data/data/graphs/ls/ls.csv')\n",
      "[2024-03-20 19:26:02]>INFO>Found graph with name='gzip'\n"
     ]
    },
    {
     "name": "stdout",
     "output_type": "stream",
     "text": [
      "ls (1687, 1453, {'a', 'd'})\n"
     ]
    },
    {
     "name": "stderr",
     "output_type": "stream",
     "text": [
      "[2024-03-20 19:26:04]>INFO>Load archive graph_archive=PosixPath('/usr/local/lib/python3.9/site-packages/cfpq_data/data/graphs/gzip.tar.gz')\n",
      "[2024-03-20 19:26:04]>INFO>Unzip graph name='gzip' to file graph=PosixPath('/usr/local/lib/python3.9/site-packages/cfpq_data/data/graphs/gzip/gzip.csv')\n",
      "[2024-03-20 19:26:04]>INFO>Remove archive graph_archive=PosixPath('/usr/local/lib/python3.9/site-packages/cfpq_data/data/graphs/gzip.tar.gz')\n",
      "[2024-03-20 19:26:04]>INFO>Load graph=<networkx.classes.multidigraph.MultiDiGraph object at 0x1273c26a0> from path=PosixPath('/usr/local/lib/python3.9/site-packages/cfpq_data/data/graphs/gzip/gzip.csv')\n",
      "[2024-03-20 19:26:04]>INFO>Found graph with name='gzip'\n",
      "[2024-03-20 19:26:07]>INFO>Load archive graph_archive=PosixPath('/usr/local/lib/python3.9/site-packages/cfpq_data/data/graphs/gzip.tar.gz')\n",
      "[2024-03-20 19:26:07]>INFO>Unzip graph name='gzip' to file graph=PosixPath('/usr/local/lib/python3.9/site-packages/cfpq_data/data/graphs/gzip/gzip.csv')\n",
      "[2024-03-20 19:26:07]>INFO>Remove archive graph_archive=PosixPath('/usr/local/lib/python3.9/site-packages/cfpq_data/data/graphs/gzip.tar.gz')\n",
      "[2024-03-20 19:26:07]>INFO>Load graph=<networkx.classes.multidigraph.MultiDiGraph object at 0x1273be7f0> from path=PosixPath('/usr/local/lib/python3.9/site-packages/cfpq_data/data/graphs/gzip/gzip.csv')\n",
      "[2024-03-20 19:26:07]>INFO>Found graph with name='gzip'\n",
      "[2024-03-20 19:26:09]>INFO>Load archive graph_archive=PosixPath('/usr/local/lib/python3.9/site-packages/cfpq_data/data/graphs/gzip.tar.gz')\n",
      "[2024-03-20 19:26:09]>INFO>Unzip graph name='gzip' to file graph=PosixPath('/usr/local/lib/python3.9/site-packages/cfpq_data/data/graphs/gzip/gzip.csv')\n",
      "[2024-03-20 19:26:09]>INFO>Remove archive graph_archive=PosixPath('/usr/local/lib/python3.9/site-packages/cfpq_data/data/graphs/gzip.tar.gz')\n",
      "[2024-03-20 19:26:09]>INFO>Load graph=<networkx.classes.multidigraph.MultiDiGraph object at 0x1273be820> from path=PosixPath('/usr/local/lib/python3.9/site-packages/cfpq_data/data/graphs/gzip/gzip.csv')\n"
     ]
    },
    {
     "name": "stdout",
     "output_type": "stream",
     "text": [
      "gzip (2687, 2293, {'a', 'd'})\n"
     ]
    }
   ],
   "source": [
    "graphs = {}\n",
    "graph_names = [\"bzip\", \"ls\", \"gzip\"]\n",
    "\n",
    "for graph_name in graph_names:\n",
    "    graph_path = cfpq_data.download(graph_name)\n",
    "    graph = cfpq_data.graph_from_csv(graph_path)\n",
    "    nNodes, nEdges, labels = graph_info(graph_name)\n",
    "    graphs[graph_name] = {}\n",
    "    graphs[graph_name][\"graph\"] = graph\n",
    "    graphs[graph_name][\"nNodes\"] = nNodes\n",
    "    graphs[graph_name][\"nEdges\"] = nEdges\n",
    "    graphs[graph_name][\"labels\"] = labels\n",
    "    print(graph_name, graph_info(graph_name))\n",
    "    \n",
    "graph_queries = {}\n",
    "graph_queries[\"bzip\"] = [\"(a | d)* a\", \"(a | d)+ d*\", \"a d a (a|d)*\", \"(a | d) (a | d)\"]\n",
    "graph_queries[\"ls\"] = [\"(a | d)* a\", \"(a | d)+ d*\", \"a d a (a|d)*\", \"(a | d) (a | d)\"]\n",
    "graph_queries[\"gzip\"] = [\"(a | d)* a\", \"(a | d)+ d*\", \"a d a (a|d)*\", \"(a | d) (a | d)\"]"
   ],
   "metadata": {
    "collapsed": false,
    "ExecuteTime": {
     "end_time": "2024-03-20T16:26:09.110273Z",
     "start_time": "2024-03-20T16:25:51.157966Z"
    }
   },
   "id": "cfe45a9e9d1e11b9"
  },
  {
   "cell_type": "code",
   "execution_count": 18,
   "outputs": [],
   "source": [
    "# source_vertices = cfpq_data.generate_multiple_source(graphs[\"bzip\"], 10, seed=42)"
   ],
   "metadata": {
    "collapsed": false,
    "ExecuteTime": {
     "end_time": "2024-03-20T16:26:32.355846Z",
     "start_time": "2024-03-20T16:26:32.350480Z"
    }
   },
   "id": "d9a478513a7e2254"
  },
  {
   "cell_type": "code",
   "execution_count": null,
   "outputs": [],
   "source": [
    "for graph_name in graph_names:\n",
    "    for query in graph_queries[graph_name]:\n",
    "        print(graph_name, query)\n",
    "        for number_of_start_nodes in range(graphs[graph_name][\"nNodes\"]):\n",
    "            start_nodes = cfpq_data.generate_multiple_source(graphs[graph_name][\"graph\"], number_of_start_nodes, seed = 42)\n",
    "            final_nodes = cfpq_data.generate_multiple_source(graphs[graph_name][\"graph\"], graphs[graph_name][\"nNodes\"]//2, seed = 42)\n",
    "            \n",
    "\n",
    "            \n",
    "            \n",
    "    \n",
    "    "
   ],
   "metadata": {
    "collapsed": false
   },
   "id": "5553fafc0b1c316f"
  },
  {
   "cell_type": "code",
   "execution_count": null,
   "outputs": [],
   "source": [
    "\n",
    "\n",
    "\n"
   ],
   "metadata": {
    "collapsed": false
   },
   "id": "d95e55d0a498fc43"
  }
 ],
 "metadata": {
  "kernelspec": {
   "display_name": "Python 3",
   "language": "python",
   "name": "python3"
  },
  "language_info": {
   "codemirror_mode": {
    "name": "ipython",
    "version": 2
   },
   "file_extension": ".py",
   "mimetype": "text/x-python",
   "name": "python",
   "nbconvert_exporter": "python",
   "pygments_lexer": "ipython2",
   "version": "2.7.6"
  }
 },
 "nbformat": 4,
 "nbformat_minor": 5
}
