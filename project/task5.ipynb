{
 "cells": [
  {
   "cell_type": "code",
   "execution_count": 3,
   "id": "initial_id",
   "metadata": {
    "collapsed": true,
    "ExecuteTime": {
     "end_time": "2024-03-20T19:51:12.854138Z",
     "start_time": "2024-03-20T19:51:10.548429Z"
    }
   },
   "outputs": [
    {
     "name": "stdout",
     "output_type": "stream",
     "text": [
      "import sources directory\n"
     ]
    }
   ],
   "source": [
    "import random\n",
    "\n",
    "import matplotlib.pyplot as plt\n",
    "from task1 import *\n",
    "from task2 import *\n",
    "from task3 import *\n",
    "from task4 import reachability_with_constraints, reachability_all_pairs\n",
    "import cfpq_data\n",
    "from scipy.sparse import bsr_matrix, coo_matrix, csr_matrix, csc_matrix, dia_matrix, dok_matrix, lil_matrix\n",
    "import random\n",
    "import datetime\n",
    "\n"
   ]
  },
  {
   "cell_type": "code",
   "execution_count": 4,
   "outputs": [
    {
     "name": "stderr",
     "output_type": "stream",
     "text": [
      "[2024-03-20 22:51:12]>INFO>Found graph with name='bzip'\n",
      "[2024-03-20 22:51:15]>INFO>Load archive graph_archive=PosixPath('/usr/local/lib/python3.9/site-packages/cfpq_data/data/graphs/bzip.tar.gz')\n",
      "[2024-03-20 22:51:15]>INFO>Unzip graph name='bzip' to file graph=PosixPath('/usr/local/lib/python3.9/site-packages/cfpq_data/data/graphs/bzip/bzip.csv')\n",
      "[2024-03-20 22:51:15]>INFO>Remove archive graph_archive=PosixPath('/usr/local/lib/python3.9/site-packages/cfpq_data/data/graphs/bzip.tar.gz')\n",
      "[2024-03-20 22:51:15]>INFO>Load graph=<networkx.classes.multidigraph.MultiDiGraph object at 0x11dff31c0> from path=PosixPath('/usr/local/lib/python3.9/site-packages/cfpq_data/data/graphs/bzip/bzip.csv')\n",
      "[2024-03-20 22:51:15]>INFO>Found graph with name='bzip'\n",
      "[2024-03-20 22:51:17]>INFO>Load archive graph_archive=PosixPath('/usr/local/lib/python3.9/site-packages/cfpq_data/data/graphs/bzip.tar.gz')\n",
      "[2024-03-20 22:51:17]>INFO>Unzip graph name='bzip' to file graph=PosixPath('/usr/local/lib/python3.9/site-packages/cfpq_data/data/graphs/bzip/bzip.csv')\n",
      "[2024-03-20 22:51:17]>INFO>Remove archive graph_archive=PosixPath('/usr/local/lib/python3.9/site-packages/cfpq_data/data/graphs/bzip.tar.gz')\n",
      "[2024-03-20 22:51:17]>INFO>Load graph=<networkx.classes.multidigraph.MultiDiGraph object at 0x11dff3670> from path=PosixPath('/usr/local/lib/python3.9/site-packages/cfpq_data/data/graphs/bzip/bzip.csv')\n",
      "[2024-03-20 22:51:17]>INFO>Found graph with name='bzip'\n",
      "[2024-03-20 22:51:19]>INFO>Load archive graph_archive=PosixPath('/usr/local/lib/python3.9/site-packages/cfpq_data/data/graphs/bzip.tar.gz')\n",
      "[2024-03-20 22:51:19]>INFO>Unzip graph name='bzip' to file graph=PosixPath('/usr/local/lib/python3.9/site-packages/cfpq_data/data/graphs/bzip/bzip.csv')\n",
      "[2024-03-20 22:51:19]>INFO>Remove archive graph_archive=PosixPath('/usr/local/lib/python3.9/site-packages/cfpq_data/data/graphs/bzip.tar.gz')\n",
      "[2024-03-20 22:51:19]>INFO>Load graph=<networkx.classes.multidigraph.MultiDiGraph object at 0x11dff3400> from path=PosixPath('/usr/local/lib/python3.9/site-packages/cfpq_data/data/graphs/bzip/bzip.csv')\n",
      "[2024-03-20 22:51:19]>INFO>Found graph with name='ls'\n"
     ]
    },
    {
     "name": "stdout",
     "output_type": "stream",
     "text": [
      "bzip (632, 556, {'a', 'd'})\n"
     ]
    },
    {
     "name": "stderr",
     "output_type": "stream",
     "text": [
      "[2024-03-20 22:51:21]>INFO>Load archive graph_archive=PosixPath('/usr/local/lib/python3.9/site-packages/cfpq_data/data/graphs/ls.tar.gz')\n",
      "[2024-03-20 22:51:21]>INFO>Unzip graph name='ls' to file graph=PosixPath('/usr/local/lib/python3.9/site-packages/cfpq_data/data/graphs/ls/ls.csv')\n",
      "[2024-03-20 22:51:21]>INFO>Remove archive graph_archive=PosixPath('/usr/local/lib/python3.9/site-packages/cfpq_data/data/graphs/ls.tar.gz')\n",
      "[2024-03-20 22:51:21]>INFO>Load graph=<networkx.classes.multidigraph.MultiDiGraph object at 0x11dff37c0> from path=PosixPath('/usr/local/lib/python3.9/site-packages/cfpq_data/data/graphs/ls/ls.csv')\n",
      "[2024-03-20 22:51:21]>INFO>Found graph with name='ls'\n",
      "[2024-03-20 22:51:23]>INFO>Load archive graph_archive=PosixPath('/usr/local/lib/python3.9/site-packages/cfpq_data/data/graphs/ls.tar.gz')\n",
      "[2024-03-20 22:51:23]>INFO>Unzip graph name='ls' to file graph=PosixPath('/usr/local/lib/python3.9/site-packages/cfpq_data/data/graphs/ls/ls.csv')\n",
      "[2024-03-20 22:51:23]>INFO>Remove archive graph_archive=PosixPath('/usr/local/lib/python3.9/site-packages/cfpq_data/data/graphs/ls.tar.gz')\n",
      "[2024-03-20 22:51:23]>INFO>Load graph=<networkx.classes.multidigraph.MultiDiGraph object at 0x11dff3370> from path=PosixPath('/usr/local/lib/python3.9/site-packages/cfpq_data/data/graphs/ls/ls.csv')\n",
      "[2024-03-20 22:51:23]>INFO>Found graph with name='ls'\n",
      "[2024-03-20 22:51:25]>INFO>Load archive graph_archive=PosixPath('/usr/local/lib/python3.9/site-packages/cfpq_data/data/graphs/ls.tar.gz')\n",
      "[2024-03-20 22:51:25]>INFO>Unzip graph name='ls' to file graph=PosixPath('/usr/local/lib/python3.9/site-packages/cfpq_data/data/graphs/ls/ls.csv')\n",
      "[2024-03-20 22:51:25]>INFO>Remove archive graph_archive=PosixPath('/usr/local/lib/python3.9/site-packages/cfpq_data/data/graphs/ls.tar.gz')\n",
      "[2024-03-20 22:51:25]>INFO>Load graph=<networkx.classes.multidigraph.MultiDiGraph object at 0x11dff3160> from path=PosixPath('/usr/local/lib/python3.9/site-packages/cfpq_data/data/graphs/ls/ls.csv')\n",
      "[2024-03-20 22:51:25]>INFO>Found graph with name='gzip'\n"
     ]
    },
    {
     "name": "stdout",
     "output_type": "stream",
     "text": [
      "ls (1687, 1453, {'a', 'd'})\n"
     ]
    },
    {
     "name": "stderr",
     "output_type": "stream",
     "text": [
      "[2024-03-20 22:51:27]>INFO>Load archive graph_archive=PosixPath('/usr/local/lib/python3.9/site-packages/cfpq_data/data/graphs/gzip.tar.gz')\n",
      "[2024-03-20 22:51:27]>INFO>Unzip graph name='gzip' to file graph=PosixPath('/usr/local/lib/python3.9/site-packages/cfpq_data/data/graphs/gzip/gzip.csv')\n",
      "[2024-03-20 22:51:27]>INFO>Remove archive graph_archive=PosixPath('/usr/local/lib/python3.9/site-packages/cfpq_data/data/graphs/gzip.tar.gz')\n",
      "[2024-03-20 22:51:27]>INFO>Load graph=<networkx.classes.multidigraph.MultiDiGraph object at 0x11dff3280> from path=PosixPath('/usr/local/lib/python3.9/site-packages/cfpq_data/data/graphs/gzip/gzip.csv')\n",
      "[2024-03-20 22:51:27]>INFO>Found graph with name='gzip'\n",
      "[2024-03-20 22:51:29]>INFO>Load archive graph_archive=PosixPath('/usr/local/lib/python3.9/site-packages/cfpq_data/data/graphs/gzip.tar.gz')\n",
      "[2024-03-20 22:51:29]>INFO>Unzip graph name='gzip' to file graph=PosixPath('/usr/local/lib/python3.9/site-packages/cfpq_data/data/graphs/gzip/gzip.csv')\n",
      "[2024-03-20 22:51:29]>INFO>Remove archive graph_archive=PosixPath('/usr/local/lib/python3.9/site-packages/cfpq_data/data/graphs/gzip.tar.gz')\n",
      "[2024-03-20 22:51:29]>INFO>Load graph=<networkx.classes.multidigraph.MultiDiGraph object at 0x11dff3f10> from path=PosixPath('/usr/local/lib/python3.9/site-packages/cfpq_data/data/graphs/gzip/gzip.csv')\n",
      "[2024-03-20 22:51:29]>INFO>Found graph with name='gzip'\n",
      "[2024-03-20 22:51:31]>INFO>Load archive graph_archive=PosixPath('/usr/local/lib/python3.9/site-packages/cfpq_data/data/graphs/gzip.tar.gz')\n",
      "[2024-03-20 22:51:31]>INFO>Unzip graph name='gzip' to file graph=PosixPath('/usr/local/lib/python3.9/site-packages/cfpq_data/data/graphs/gzip/gzip.csv')\n",
      "[2024-03-20 22:51:31]>INFO>Remove archive graph_archive=PosixPath('/usr/local/lib/python3.9/site-packages/cfpq_data/data/graphs/gzip.tar.gz')\n",
      "[2024-03-20 22:51:31]>INFO>Load graph=<networkx.classes.multidigraph.MultiDiGraph object at 0x11dff3fd0> from path=PosixPath('/usr/local/lib/python3.9/site-packages/cfpq_data/data/graphs/gzip/gzip.csv')\n"
     ]
    },
    {
     "name": "stdout",
     "output_type": "stream",
     "text": [
      "gzip (2687, 2293, {'a', 'd'})\n"
     ]
    }
   ],
   "source": [
    "graphs = {}\n",
    "graph_names = [\"bzip\", \"ls\", \"gzip\"]\n",
    "\n",
    "for graph_name in graph_names:\n",
    "    graph_path = cfpq_data.download(graph_name)\n",
    "    graph = cfpq_data.graph_from_csv(graph_path)\n",
    "    nNodes, nEdges, labels = graph_info(graph_name)\n",
    "    graphs[graph_name] = {}\n",
    "    graphs[graph_name][\"graph\"] = graph\n",
    "    graphs[graph_name][\"nNodes\"] = nNodes\n",
    "    graphs[graph_name][\"nEdges\"] = nEdges\n",
    "    graphs[graph_name][\"labels\"] = labels\n",
    "    print(graph_name, graph_info(graph_name))\n",
    "    \n",
    "graph_queries = {}\n",
    "graph_queries[\"bzip\"] = [\"(a | d)* a\", \"(a | d)+ d*\", \"a d a (a|d)*\", \"(a | d)\"]\n",
    "graph_queries[\"ls\"] = [\"(a | d)* a\", \"(a | d)+ d*\", \"a d a (a|d)*\", \"(a | d)\"]\n",
    "graph_queries[\"gzip\"] = [\"(a | d)* a\", \"(a | d)+ d*\", \"a d a (a|d)*\", \"(a | d)\"]"
   ],
   "metadata": {
    "collapsed": false,
    "ExecuteTime": {
     "end_time": "2024-03-20T19:51:31.657993Z",
     "start_time": "2024-03-20T19:51:12.855838Z"
    }
   },
   "id": "cfe45a9e9d1e11b9"
  },
  {
   "cell_type": "code",
   "execution_count": 4,
   "outputs": [],
   "source": [
    "# for graph_name in graph_names:\n",
    "#     for query in graph_queries[graph_name]:\n",
    "#         print(graph_name, query)\n",
    "#         for number_of_start_nodes in range(graphs[graph_name][\"nNodes\"]):\n",
    "#             start_nodes = cfpq_data.generate_multiple_source(graphs[graph_name][\"graph\"], number_of_start_nodes, seed = 42)\n",
    "#             final_nodes = cfpq_data.generate_multiple_source(graphs[graph_name][\"graph\"], graphs[graph_name][\"nNodes\"]//2, seed = 42)\n",
    "            \n",
    "\n",
    "            \n",
    "            \n",
    "    \n",
    "    "
   ],
   "metadata": {
    "collapsed": false,
    "ExecuteTime": {
     "end_time": "2024-03-20T19:21:20.238278Z",
     "start_time": "2024-03-20T19:21:20.161786Z"
    }
   },
   "id": "5553fafc0b1c316f"
  },
  {
   "cell_type": "code",
   "execution_count": null,
   "outputs": [
    {
     "name": "stderr",
     "output_type": "stream",
     "text": [
      "[2024-03-20 22:21:20]>INFO>Generate set of source vertices of 316 nodes for graph=<networkx.classes.multidigraph.MultiDiGraph object at 0x128d35790> for multiple-source evaluation\n",
      "[2024-03-20 22:21:20]>INFO>Generate set of source vertices of 316 nodes for graph=<networkx.classes.multidigraph.MultiDiGraph object at 0x128d35790> for multiple-source evaluation\n",
      "/usr/local/lib/python3.9/site-packages/scipy/sparse/_index.py:102: SparseEfficiencyWarning: Changing the sparsity structure of a csr_matrix is expensive. lil_matrix is more efficient.\n",
      "  self._set_intXint(row, col, x.flat[0])\n",
      "/usr/local/lib/python3.9/site-packages/scipy/sparse/_index.py:136: SparseEfficiencyWarning: Changing the sparsity structure of a csr_matrix is expensive. lil_matrix is more efficient.\n",
      "  self._set_arrayXarray_sparse(i, j, x)\n"
     ]
    }
   ],
   "source": [
    "# Исследование влияния типа матрицы на время работы алгоритма\n",
    "\n",
    "matix_classes_dict = {\"csr\" : csr_matrix, \n",
    "                      \"dok\" : dok_matrix, \n",
    "                      \"csc\" : csc_matrix, \n",
    "                      \"lil\" : lil_matrix,\n",
    "                      }\n",
    "                      \n",
    "\n",
    "avg_times_reachability_with_constraints_transitive = {}\n",
    "avg_times_reachability_with_constraints = {}\n",
    "for matrix_class_name, matrix_class in matix_classes_dict.items():\n",
    "    for graph_name in graph_names:\n",
    "        avg_time_reachability_with_constraints_transitive = 0\n",
    "        avg_time_reachability_with_constraints = 0\n",
    "        for regex in graph_queries[graph_name]:\n",
    "            number_of_start_nodes = graphs[graph_name][\"nNodes\"]//2\n",
    "            number_of_final_nodes = graphs[graph_name][\"nNodes\"]//2\n",
    "            start_states = start_nodes = cfpq_data.generate_multiple_source(graphs[graph_name][\"graph\"], number_of_start_nodes, seed = 41)\n",
    "            final_states = cfpq_data.generate_multiple_source(graphs[graph_name][\"graph\"], number_of_final_nodes, seed = 42)\n",
    "            graph_nfa = FiniteAutomaton(graph_to_nfa(graphs[graph_name][\"graph\"], start_states, final_states), matrix_class=matrix_class)\n",
    "            regex_dfa = FiniteAutomaton(regex_to_dfa(regex), matrix_class=matrix_class)\n",
    "            \n",
    "            start = datetime.datetime.now()\n",
    "            _ = reachability_all_pairs(graph_nfa, regex_dfa, matrix_class = matrix_class,matrix_class_id=matrix_class_name)\n",
    "            finish = datetime.datetime.now()\n",
    "            avg_time_reachability_with_constraints_transitive += (finish - start).total_seconds()\n",
    "            \n",
    "            start = datetime.datetime.now()\n",
    "            _ = reachability_with_constraints(graph_nfa, regex_dfa, matrix_class = matrix_class,matrix_class_id=matrix_class_name)\n",
    "            finish = datetime.datetime.now()\n",
    "            avg_time_reachability_with_constraints += (finish - start).total_seconds()\n",
    "            \n",
    "        avg_time_reachability_with_constraints[matrix_class_name] = {}\n",
    "        avg_time_reachability_with_constraints_transitive[matrix_class_name] = {}\n",
    "        \n",
    "        \n",
    "        avg_time_reachability_with_constraints_transitive /= len(graph_queries[graph_name])\n",
    "        avg_times_reachability_with_constraints_transitive[matrix_class_name] = avg_time_reachability_with_constraints_transitive\n",
    "        \n",
    "        avg_time_reachability_with_constraints /= len(graph_queries[graph_name])\n",
    "        avg_times_reachability_with_constraints[matrix_class_name] = avg_time_reachability_with_constraints\n",
    "        \n",
    "print(\"Результаты для всех пар вершин: \\n\")\n",
    "print(avg_times_reachability_with_constraints_transitive)\n",
    "\n",
    "print(\"Результаты для начальных и конечных вершин: \\n\")\n",
    "print(avg_times_reachability_with_constraints)\n",
    "    \n",
    "\n"
   ],
   "metadata": {
    "collapsed": false,
    "is_executing": true,
    "ExecuteTime": {
     "start_time": "2024-03-20T19:21:20.184092Z"
    }
   },
   "id": "d95e55d0a498fc43"
  },
  {
   "cell_type": "markdown",
   "source": [
    "Видим, что при вычислении результата для всех пар вершин лучше всего подходит матрица csr, а хуже всего - матрица dok\n",
    "\n",
    "При вычислении результата для пачки начальных и конечных вершин лучше всего подходит матрица csr, а хуже всего - матрица dok"
   ],
   "metadata": {
    "collapsed": false
   },
   "id": "15976266fedc698f"
  },
  {
   "cell_type": "code",
   "execution_count": null,
   "outputs": [
    {
     "name": "stderr",
     "output_type": "stream",
     "text": [
      "[2024-03-20 22:59:16]>INFO>Generate set of source vertices of 0 nodes for graph=<networkx.classes.multidigraph.MultiDiGraph object at 0x11dff31c0> for multiple-source evaluation\n",
      "[2024-03-20 22:59:16]>INFO>Generate set of source vertices of 316 nodes for graph=<networkx.classes.multidigraph.MultiDiGraph object at 0x11dff31c0> for multiple-source evaluation\n"
     ]
    }
   ],
   "source": [
    "# Исследование вопроса о том, когда лучше начинать считать результат при помощи транзитивного замыкания с последующим выбором вершин\n",
    "\n",
    "\n",
    "all_pairs_times = {}\n",
    "start_nodes_times = {}\n",
    "divide = 10\n",
    "\n",
    "for graph_name in graph_names:\n",
    "    if not isinstance(all_pairs_times.get(graph_name), dict):\n",
    "        all_pairs_times[graph_name] = {}\n",
    "    for regex in graph_queries[graph_name]:\n",
    "        if not isinstance(start_nodes_times.get(graph_name), dict):\n",
    "            start_nodes_times[graph_name] = {}\n",
    "        regex_dfa = FiniteAutomaton(regex_to_dfa(regex))\n",
    "        time_all_pairs = []\n",
    "        time_start_set = []\n",
    "        final_states = None\n",
    "        for number_of_start_nodes in range(0, graphs[graph_name][\"nNodes\"], graphs[graph_name][\"nNodes\"]//divide):\n",
    "            number_of_final_nodes = graphs[graph_name][\"nNodes\"]//2\n",
    "            start_states = cfpq_data.generate_multiple_source(graphs[graph_name][\"graph\"], number_of_start_nodes, seed = 42)\n",
    "            if final_states is None:\n",
    "                final_states = cfpq_data.generate_multiple_source(graphs[graph_name][\"graph\"], number_of_final_nodes, seed = 42)\n",
    "            graph_nfa = FiniteAutomaton(graph_to_nfa(graphs[graph_name][\"graph\"], start_states, final_states))\n",
    "            \n",
    "            start1 = datetime.datetime.now()\n",
    "            _ = reachability_all_pairs(graph_nfa, regex_dfa)\n",
    "            finish1 = datetime.datetime.now()\n",
    "            \n",
    "            start2 = datetime.datetime.now()\n",
    "            _ = reachability_with_constraints(graph_nfa, regex_dfa)\n",
    "            finish2 = datetime.datetime.now()\n",
    "            \n",
    "            time_all_pairs.append((finish1 - start1).total_seconds())\n",
    "            time_start_set.append((finish2 - start2).total_seconds())\n",
    "            \n",
    "        all_pairs_times[graph_name][regex] = time_all_pairs\n",
    "        start_nodes_times[graph_name][regex] = time_start_set\n",
    "        \n",
    "\n",
    "#plot the results\n",
    "for graph_name in graph_names:\n",
    "    for regex in graph_queries[graph_name]:\n",
    "        plt.plot(range(0, graphs[graph_name][\"nNodes\"], graphs[graph_name][\"nNodes\"]//divide), all_pairs_times[graph_name][regex], label = \"all pairs\")\n",
    "        plt.plot(range(0, graphs[graph_name][\"nNodes\"], graphs[graph_name][\"nNodes\"]//divide), start_nodes_times[graph_name][regex], label = \"start nodes\")\n",
    "        plt.title(f\"Graph {graph_name}, regex {regex}\")\n",
    "        plt.xlabel(\"Number of start nodes\")\n",
    "        plt.ylabel(\"Time, s\")\n",
    "        plt.legend()\n",
    "        plt.show()\n"
   ],
   "metadata": {
    "collapsed": false,
    "is_executing": true,
    "ExecuteTime": {
     "start_time": "2024-03-20T19:59:16.500453Z"
    }
   },
   "id": "457ddda71bbbfd9d"
  },
  {
   "cell_type": "markdown",
   "source": [],
   "metadata": {
    "collapsed": false
   },
   "id": "4fd3eed369fbbc2a"
  },
  {
   "cell_type": "markdown",
   "source": [
    "Видим, что начиная с числа элементов "
   ],
   "metadata": {
    "collapsed": false
   },
   "id": "f00d360370085fe5"
  }
 ],
 "metadata": {
  "kernelspec": {
   "display_name": "Python 3",
   "language": "python",
   "name": "python3"
  },
  "language_info": {
   "codemirror_mode": {
    "name": "ipython",
    "version": 2
   },
   "file_extension": ".py",
   "mimetype": "text/x-python",
   "name": "python",
   "nbconvert_exporter": "python",
   "pygments_lexer": "ipython2",
   "version": "2.7.6"
  }
 },
 "nbformat": 4,
 "nbformat_minor": 5
}
